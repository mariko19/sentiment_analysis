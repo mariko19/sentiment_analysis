{
 "cells": [
  {
   "cell_type": "markdown",
   "metadata": {},
   "source": [
    "# Creating a Sentiment Analysis Web App\n",
    "## Using PyTorch and SageMaker\n",
    "\n",
    "_Deep Learning Nanodegree Program | Deployment_\n",
    "\n",
    "---\n",
    "\n",
    "Now that we have a basic understanding of how SageMaker works we will try to use it to construct a complete project from end to end. Our goal will be to have a simple web page which a user can use to enter a movie review. The web page will then send the review off to our deployed model which will predict the sentiment of the entered review.\n",
    "\n",
    "## Instructions\n",
    "\n",
    "Some template code has already been provided for you, and you will need to implement additional functionality to successfully complete this notebook. You will not need to modify the included code beyond what is requested. Sections that begin with '**TODO**' in the header indicate that you need to complete or implement some portion within them. Instructions will be provided for each section and the specifics of the implementation are marked in the code block with a `# TODO: ...` comment. Please be sure to read the instructions carefully!\n",
    "\n",
    "In addition to implementing code, there will be questions for you to answer which relate to the task and your implementation. Each section where you will answer a question is preceded by a '**Question:**' header. Carefully read each question and provide your answer below the '**Answer:**' header by editing the Markdown cell.\n",
    "\n",
    "> **Note**: Code and Markdown cells can be executed using the **Shift+Enter** keyboard shortcut. In addition, a cell can be edited by typically clicking it (double-click for Markdown cells) or by pressing **Enter** while it is highlighted.\n",
    "\n",
    "## General Outline\n",
    "\n",
    "Recall the general outline for SageMaker projects using a notebook instance.\n",
    "\n",
    "1. Download or otherwise retrieve the data.\n",
    "2. Process / Prepare the data.\n",
    "3. Upload the processed data to S3.\n",
    "4. Train a chosen model.\n",
    "5. Test the trained model (typically using a batch transform job).\n",
    "6. Deploy the trained model.\n",
    "7. Use the deployed model.\n",
    "\n",
    "For this project, you will be following the steps in the general outline with some modifications. \n",
    "\n",
    "First, you will not be testing the model in its own step. You will still be testing the model, however, you will do it by deploying your model and then using the deployed model by sending the test data to it. One of the reasons for doing this is so that you can make sure that your deployed model is working correctly before moving forward.\n",
    "\n",
    "In addition, you will deploy and use your trained model a second time. In the second iteration you will customize the way that your trained model is deployed by including some of your own code. In addition, your newly deployed model will be used in the sentiment analysis web app."
   ]
  },
  {
   "cell_type": "code",
   "execution_count": 1,
   "metadata": {},
   "outputs": [
    {
     "name": "stdout",
     "output_type": "stream",
     "text": [
      "Collecting sagemaker==1.72.0\n",
      "  Downloading sagemaker-1.72.0.tar.gz (297 kB)\n",
      "\u001b[K     |████████████████████████████████| 297 kB 21.4 MB/s eta 0:00:01\n",
      "\u001b[?25hRequirement already satisfied: boto3>=1.14.12 in /home/ec2-user/anaconda3/envs/pytorch_p36/lib/python3.6/site-packages (from sagemaker==1.72.0) (1.17.76)\n",
      "Requirement already satisfied: numpy>=1.9.0 in /home/ec2-user/anaconda3/envs/pytorch_p36/lib/python3.6/site-packages (from sagemaker==1.72.0) (1.19.5)\n",
      "Requirement already satisfied: protobuf>=3.1 in /home/ec2-user/anaconda3/envs/pytorch_p36/lib/python3.6/site-packages (from sagemaker==1.72.0) (3.15.2)\n",
      "Requirement already satisfied: scipy>=0.19.0 in /home/ec2-user/anaconda3/envs/pytorch_p36/lib/python3.6/site-packages (from sagemaker==1.72.0) (1.5.3)\n",
      "Requirement already satisfied: protobuf3-to-dict>=0.1.5 in /home/ec2-user/anaconda3/envs/pytorch_p36/lib/python3.6/site-packages (from sagemaker==1.72.0) (0.1.5)\n",
      "Collecting smdebug-rulesconfig==0.1.4\n",
      "  Downloading smdebug_rulesconfig-0.1.4-py2.py3-none-any.whl (10 kB)\n",
      "Requirement already satisfied: importlib-metadata>=1.4.0 in /home/ec2-user/anaconda3/envs/pytorch_p36/lib/python3.6/site-packages (from sagemaker==1.72.0) (3.7.0)\n",
      "Requirement already satisfied: packaging>=20.0 in /home/ec2-user/anaconda3/envs/pytorch_p36/lib/python3.6/site-packages (from sagemaker==1.72.0) (20.9)\n",
      "Requirement already satisfied: jmespath<1.0.0,>=0.7.1 in /home/ec2-user/anaconda3/envs/pytorch_p36/lib/python3.6/site-packages (from boto3>=1.14.12->sagemaker==1.72.0) (0.10.0)\n",
      "Requirement already satisfied: botocore<1.21.0,>=1.20.76 in /home/ec2-user/anaconda3/envs/pytorch_p36/lib/python3.6/site-packages (from boto3>=1.14.12->sagemaker==1.72.0) (1.20.76)\n",
      "Requirement already satisfied: s3transfer<0.5.0,>=0.4.0 in /home/ec2-user/anaconda3/envs/pytorch_p36/lib/python3.6/site-packages (from boto3>=1.14.12->sagemaker==1.72.0) (0.4.2)\n",
      "Requirement already satisfied: python-dateutil<3.0.0,>=2.1 in /home/ec2-user/anaconda3/envs/pytorch_p36/lib/python3.6/site-packages (from botocore<1.21.0,>=1.20.76->boto3>=1.14.12->sagemaker==1.72.0) (2.8.1)\n",
      "Requirement already satisfied: urllib3<1.27,>=1.25.4 in /home/ec2-user/anaconda3/envs/pytorch_p36/lib/python3.6/site-packages (from botocore<1.21.0,>=1.20.76->boto3>=1.14.12->sagemaker==1.72.0) (1.26.4)\n",
      "Requirement already satisfied: typing-extensions>=3.6.4 in /home/ec2-user/anaconda3/envs/pytorch_p36/lib/python3.6/site-packages (from importlib-metadata>=1.4.0->sagemaker==1.72.0) (3.7.4.3)\n",
      "Requirement already satisfied: zipp>=0.5 in /home/ec2-user/anaconda3/envs/pytorch_p36/lib/python3.6/site-packages (from importlib-metadata>=1.4.0->sagemaker==1.72.0) (3.4.0)\n",
      "Requirement already satisfied: pyparsing>=2.0.2 in /home/ec2-user/anaconda3/envs/pytorch_p36/lib/python3.6/site-packages (from packaging>=20.0->sagemaker==1.72.0) (2.4.7)\n",
      "Requirement already satisfied: six>=1.9 in /home/ec2-user/anaconda3/envs/pytorch_p36/lib/python3.6/site-packages (from protobuf>=3.1->sagemaker==1.72.0) (1.15.0)\n",
      "Building wheels for collected packages: sagemaker\n",
      "  Building wheel for sagemaker (setup.py) ... \u001b[?25ldone\n",
      "\u001b[?25h  Created wheel for sagemaker: filename=sagemaker-1.72.0-py2.py3-none-any.whl size=386358 sha256=2e383898c383d62bb07223d10c4a91346037df05afc8daa6498337255146bd9e\n",
      "  Stored in directory: /home/ec2-user/.cache/pip/wheels/c3/58/70/85faf4437568bfaa4c419937569ba1fe54d44c5db42406bbd7\n",
      "Successfully built sagemaker\n",
      "Installing collected packages: smdebug-rulesconfig, sagemaker\n",
      "  Attempting uninstall: smdebug-rulesconfig\n",
      "    Found existing installation: smdebug-rulesconfig 1.0.1\n",
      "    Uninstalling smdebug-rulesconfig-1.0.1:\n",
      "      Successfully uninstalled smdebug-rulesconfig-1.0.1\n",
      "  Attempting uninstall: sagemaker\n",
      "    Found existing installation: sagemaker 2.41.0\n",
      "    Uninstalling sagemaker-2.41.0:\n",
      "      Successfully uninstalled sagemaker-2.41.0\n",
      "Successfully installed sagemaker-1.72.0 smdebug-rulesconfig-0.1.4\n"
     ]
    }
   ],
   "source": [
    "# Make sure that we use SageMaker 1.x\n",
    "!pip install sagemaker==1.72.0"
   ]
  },
  {
   "cell_type": "markdown",
   "metadata": {},
   "source": [
    "## Step 1: Downloading the data\n",
    "\n",
    "As in the XGBoost in SageMaker notebook, we will be using the [IMDb dataset](http://ai.stanford.edu/~amaas/data/sentiment/)\n",
    "\n",
    "> Maas, Andrew L., et al. [Learning Word Vectors for Sentiment Analysis](http://ai.stanford.edu/~amaas/data/sentiment/). In _Proceedings of the 49th Annual Meeting of the Association for Computational Linguistics: Human Language Technologies_. Association for Computational Linguistics, 2011."
   ]
  },
  {
   "cell_type": "code",
   "execution_count": 2,
   "metadata": {},
   "outputs": [
    {
     "name": "stdout",
     "output_type": "stream",
     "text": [
      "mkdir: cannot create directory ‘../data’: File exists\n",
      "--2021-06-01 00:29:52--  http://ai.stanford.edu/~amaas/data/sentiment/aclImdb_v1.tar.gz\n",
      "Resolving ai.stanford.edu (ai.stanford.edu)... 171.64.68.10\n",
      "Connecting to ai.stanford.edu (ai.stanford.edu)|171.64.68.10|:80... connected.\n",
      "HTTP request sent, awaiting response... 200 OK\n",
      "Length: 84125825 (80M) [application/x-gzip]\n",
      "Saving to: ‘../data/aclImdb_v1.tar.gz’\n",
      "\n",
      "../data/aclImdb_v1. 100%[===================>]  80.23M  26.4MB/s    in 3.0s    \n",
      "\n",
      "2021-06-01 00:29:55 (26.4 MB/s) - ‘../data/aclImdb_v1.tar.gz’ saved [84125825/84125825]\n",
      "\n"
     ]
    }
   ],
   "source": [
    "%mkdir ../data\n",
    "!wget -O ../data/aclImdb_v1.tar.gz http://ai.stanford.edu/~amaas/data/sentiment/aclImdb_v1.tar.gz\n",
    "!tar -zxf ../data/aclImdb_v1.tar.gz -C ../data"
   ]
  },
  {
   "cell_type": "markdown",
   "metadata": {},
   "source": [
    "## Step 2: Preparing and Processing the data\n",
    "\n",
    "Also, as in the XGBoost notebook, we will be doing some initial data processing. The first few steps are the same as in the XGBoost example. To begin with, we will read in each of the reviews and combine them into a single input structure. Then, we will split the dataset into a training set and a testing set."
   ]
  },
  {
   "cell_type": "code",
   "execution_count": 3,
   "metadata": {},
   "outputs": [],
   "source": [
    "import os\n",
    "import glob\n",
    "\n",
    "def read_imdb_data(data_dir='../data/aclImdb'):\n",
    "    data = {}\n",
    "    labels = {}\n",
    "    \n",
    "    for data_type in ['train', 'test']:\n",
    "        data[data_type] = {}\n",
    "        labels[data_type] = {}\n",
    "        \n",
    "        for sentiment in ['pos', 'neg']:\n",
    "            data[data_type][sentiment] = []\n",
    "            labels[data_type][sentiment] = []\n",
    "            \n",
    "            path = os.path.join(data_dir, data_type, sentiment, '*.txt')\n",
    "            files = glob.glob(path)\n",
    "            \n",
    "            for f in files:\n",
    "                with open(f) as review:\n",
    "                    data[data_type][sentiment].append(review.read())\n",
    "                    # Here we represent a positive review by '1' and a negative review by '0'\n",
    "                    labels[data_type][sentiment].append(1 if sentiment == 'pos' else 0)\n",
    "                    \n",
    "            assert len(data[data_type][sentiment]) == len(labels[data_type][sentiment]), \\\n",
    "                    \"{}/{} data size does not match labels size\".format(data_type, sentiment)\n",
    "                \n",
    "    return data, labels"
   ]
  },
  {
   "cell_type": "code",
   "execution_count": 4,
   "metadata": {},
   "outputs": [
    {
     "name": "stdout",
     "output_type": "stream",
     "text": [
      "IMDB reviews: train = 12500 pos / 12500 neg, test = 12500 pos / 12500 neg\n"
     ]
    }
   ],
   "source": [
    "data, labels = read_imdb_data()\n",
    "print(\"IMDB reviews: train = {} pos / {} neg, test = {} pos / {} neg\".format(\n",
    "            len(data['train']['pos']), len(data['train']['neg']),\n",
    "            len(data['test']['pos']), len(data['test']['neg'])))"
   ]
  },
  {
   "cell_type": "markdown",
   "metadata": {},
   "source": [
    "Now that we've read the raw training and testing data from the downloaded dataset, we will combine the positive and negative reviews and shuffle the resulting records."
   ]
  },
  {
   "cell_type": "code",
   "execution_count": 5,
   "metadata": {},
   "outputs": [],
   "source": [
    "from sklearn.utils import shuffle\n",
    "\n",
    "def prepare_imdb_data(data, labels):\n",
    "    \"\"\"Prepare training and test sets from IMDb movie reviews.\"\"\"\n",
    "    \n",
    "    #Combine positive and negative reviews and labels\n",
    "    data_train = data['train']['pos'] + data['train']['neg']\n",
    "    data_test = data['test']['pos'] + data['test']['neg']\n",
    "    labels_train = labels['train']['pos'] + labels['train']['neg']\n",
    "    labels_test = labels['test']['pos'] + labels['test']['neg']\n",
    "    \n",
    "    #Shuffle reviews and corresponding labels within training and test sets\n",
    "    data_train, labels_train = shuffle(data_train, labels_train)\n",
    "    data_test, labels_test = shuffle(data_test, labels_test)\n",
    "    \n",
    "    # Return a unified training data, test data, training labels, test labets\n",
    "    return data_train, data_test, labels_train, labels_test"
   ]
  },
  {
   "cell_type": "code",
   "execution_count": 6,
   "metadata": {},
   "outputs": [
    {
     "name": "stdout",
     "output_type": "stream",
     "text": [
      "IMDb reviews (combined): train = 25000, test = 25000\n"
     ]
    }
   ],
   "source": [
    "train_X, test_X, train_y, test_y = prepare_imdb_data(data, labels)\n",
    "print(\"IMDb reviews (combined): train = {}, test = {}\".format(len(train_X), len(test_X)))"
   ]
  },
  {
   "cell_type": "markdown",
   "metadata": {},
   "source": [
    "Now that we have our training and testing sets unified and prepared, we should do a quick check and see an example of the data our model will be trained on. This is generally a good idea as it allows you to see how each of the further processing steps affects the reviews and it also ensures that the data has been loaded correctly."
   ]
  },
  {
   "cell_type": "code",
   "execution_count": 7,
   "metadata": {},
   "outputs": [
    {
     "name": "stdout",
     "output_type": "stream",
     "text": [
      "I am quite a fan of novelist/screenwriter Michael Chabon. His novel \"Wonder Boys\" became a fantastic movie by Curtis Hanson. His masterful novel \"The Amazing Adventures of Kavalier and Clay\" won the Pulitzer Prize a few years back, and he had a hand in the script of \"Spider Man 2\", arguably the greatest comic book movie of all time.<br /><br />Director Rawson Marshall Thurber has also directed wonderful comedic pieces, such as the gut-busting \"Dodgeball\" and the genius short film series \"Terry Tate: Office Linebacker\". And with a cast including Peter Saarsgard, Sienna Miller, Nick Nolte and Mena Suvari, this seems like a no-brainer.<br /><br />It is. Literally.<br /><br />Jon Foster stars as Art Bechstein, the son of a mobster (Nolte) who recently graduated with a degree in Economics. Jon is in a state of arrested development: he works a minimum wage job at Book Barn, has a vapid relationship with his girlfriend/boss, Phlox (Suvari), which amounts to little more than copious amounts of sex, with no plans other than to chip away at a career for which he has zero passion.<br /><br />One night at a party, an ex-roommate introduces Jon to Jane (Miller), a beautiful, smart violinist. Later that night they go out for pie, and she asks Jon a question that begins to shake him from his catatonic state of existence, \"I want you to tell me something that you have never told a single soul. If you do, it will make this night indelible.\" Jon then tells her a reoccurring dream of his in which he wanders about town looking at the faces of strangers passing him by, yet none of them look him in the eye. \"I imagine it must be what death feels like,\" he says.<br /><br />The next day Jane's wild boyfriend Cleveland (Saarsgard) kidnaps Jon from work and takes him out to a hulking abandoned steel mill, and soon Jon, Cleveland and Jane are spending every waking moment together going to punk rock concerts, doing drugs and drinking lots of alcohol. This doesn't sit well with Phlox, who pushes Jon for a more personal relationship, namely letting her meet his new friends and his father. The film then attempts to take us on Jon's journey as he shakes off the shackles imposed on him by his father, Phlox and his dead-end job as he finds freedom and expression through his relationships with Cleveland and Jane.<br /><br />There is a problem having us follow Jon throughout the film: he's completely uninteresting. He has no ambitions, passions or goals. He walks through life like the invisible wraith he described to Jane the night they met. At the outset this isn't a problem. But he never gets any more interesting. He's a completely passive character. He simply follows along the bohemian Cleveland and Jane, but he never once gives us any inkling as to what he cares about or wants to to do with himself.<br /><br />Consequently, the film and its supporting characters have nowhere to go and little to do other than party, have sex and get in arguments. In other words, much ado about nothing. What we have here is the shallow skin of a good movie without anything on the inside. Sweeping cinematography, ponderous voice-over with characters staring off into the distance, lots of sex scenes both straight and gay, big arguments, more angry sex, a chase scene and a tragic death... but it doesn't seem to matter. Ironically, at one point Jane, confused at a number of Jon's aimless actions, asks him, \"What's going on, Jon? What is this all about?\" Yes, Jon, do tell. We in the audience are dying to know, too.<br /><br />The title \"The Mysteries of Pittsburgh\" must refer to the characters themselves, because that's what they are. They are all facades, one-dimensional stand-ins for actual people. The film never lets us in. We never know what makes any of them tick. We see them do lots of things, but we don't know why. And the absence of \"why\" is one of the worst things a movie can have.\n",
      "\n",
      "0\n"
     ]
    }
   ],
   "source": [
    "print(train_X[100])\n",
    "print()\n",
    "print(train_y[100])"
   ]
  },
  {
   "cell_type": "markdown",
   "metadata": {},
   "source": [
    "The first step in processing the reviews is to make sure that any html tags that appear should be removed. In addition we wish to tokenize our input, that way words such as *entertained* and *entertaining* are considered the same with regard to sentiment analysis."
   ]
  },
  {
   "cell_type": "code",
   "execution_count": 8,
   "metadata": {},
   "outputs": [],
   "source": [
    "import nltk\n",
    "from nltk.corpus import stopwords\n",
    "from nltk.stem.porter import *\n",
    "\n",
    "import re\n",
    "from bs4 import BeautifulSoup\n",
    "\n",
    "def review_to_words(review):\n",
    "    nltk.download(\"stopwords\", quiet=True)\n",
    "    stemmer = PorterStemmer()\n",
    "    \n",
    "    text = BeautifulSoup(review, \"html.parser\").get_text() # Remove HTML tags\n",
    "    text = re.sub(r\"[^a-zA-Z0-9]\", \" \", text.lower()) # Convert to lower case\n",
    "    words = text.split() # Split string into words\n",
    "    words = [w for w in words if w not in stopwords.words(\"english\")] # Remove stopwords\n",
    "    words = [PorterStemmer().stem(w) for w in words] # stem\n",
    "    \n",
    "    return words"
   ]
  },
  {
   "cell_type": "markdown",
   "metadata": {},
   "source": [
    "The `review_to_words` method defined above uses `BeautifulSoup` to remove any html tags that appear and uses the `nltk` package to tokenize the reviews. As a check to ensure we know how everything is working, try applying `review_to_words` to one of the reviews in the training set."
   ]
  },
  {
   "cell_type": "code",
   "execution_count": 10,
   "metadata": {},
   "outputs": [
    {
     "data": {
      "text/plain": [
       "['quit',\n",
       " 'fan',\n",
       " 'novelist',\n",
       " 'screenwrit',\n",
       " 'michael',\n",
       " 'chabon',\n",
       " 'novel',\n",
       " 'wonder',\n",
       " 'boy',\n",
       " 'becam',\n",
       " 'fantast',\n",
       " 'movi',\n",
       " 'curti',\n",
       " 'hanson',\n",
       " 'master',\n",
       " 'novel',\n",
       " 'amaz',\n",
       " 'adventur',\n",
       " 'kavali',\n",
       " 'clay',\n",
       " 'pulitz',\n",
       " 'prize',\n",
       " 'year',\n",
       " 'back',\n",
       " 'hand',\n",
       " 'script',\n",
       " 'spider',\n",
       " 'man',\n",
       " '2',\n",
       " 'arguabl',\n",
       " 'greatest',\n",
       " 'comic',\n",
       " 'book',\n",
       " 'movi',\n",
       " 'time',\n",
       " 'director',\n",
       " 'rawson',\n",
       " 'marshal',\n",
       " 'thurber',\n",
       " 'also',\n",
       " 'direct',\n",
       " 'wonder',\n",
       " 'comed',\n",
       " 'piec',\n",
       " 'gut',\n",
       " 'bust',\n",
       " 'dodgebal',\n",
       " 'geniu',\n",
       " 'short',\n",
       " 'film',\n",
       " 'seri',\n",
       " 'terri',\n",
       " 'tate',\n",
       " 'offic',\n",
       " 'lineback',\n",
       " 'cast',\n",
       " 'includ',\n",
       " 'peter',\n",
       " 'saarsgard',\n",
       " 'sienna',\n",
       " 'miller',\n",
       " 'nick',\n",
       " 'nolt',\n",
       " 'mena',\n",
       " 'suvari',\n",
       " 'seem',\n",
       " 'like',\n",
       " 'brainer',\n",
       " 'liter',\n",
       " 'jon',\n",
       " 'foster',\n",
       " 'star',\n",
       " 'art',\n",
       " 'bechstein',\n",
       " 'son',\n",
       " 'mobster',\n",
       " 'nolt',\n",
       " 'recent',\n",
       " 'graduat',\n",
       " 'degre',\n",
       " 'econom',\n",
       " 'jon',\n",
       " 'state',\n",
       " 'arrest',\n",
       " 'develop',\n",
       " 'work',\n",
       " 'minimum',\n",
       " 'wage',\n",
       " 'job',\n",
       " 'book',\n",
       " 'barn',\n",
       " 'vapid',\n",
       " 'relationship',\n",
       " 'girlfriend',\n",
       " 'boss',\n",
       " 'phlox',\n",
       " 'suvari',\n",
       " 'amount',\n",
       " 'littl',\n",
       " 'copiou',\n",
       " 'amount',\n",
       " 'sex',\n",
       " 'plan',\n",
       " 'chip',\n",
       " 'away',\n",
       " 'career',\n",
       " 'zero',\n",
       " 'passion',\n",
       " 'one',\n",
       " 'night',\n",
       " 'parti',\n",
       " 'ex',\n",
       " 'roommat',\n",
       " 'introduc',\n",
       " 'jon',\n",
       " 'jane',\n",
       " 'miller',\n",
       " 'beauti',\n",
       " 'smart',\n",
       " 'violinist',\n",
       " 'later',\n",
       " 'night',\n",
       " 'go',\n",
       " 'pie',\n",
       " 'ask',\n",
       " 'jon',\n",
       " 'question',\n",
       " 'begin',\n",
       " 'shake',\n",
       " 'cataton',\n",
       " 'state',\n",
       " 'exist',\n",
       " 'want',\n",
       " 'tell',\n",
       " 'someth',\n",
       " 'never',\n",
       " 'told',\n",
       " 'singl',\n",
       " 'soul',\n",
       " 'make',\n",
       " 'night',\n",
       " 'indel',\n",
       " 'jon',\n",
       " 'tell',\n",
       " 'reoccur',\n",
       " 'dream',\n",
       " 'wander',\n",
       " 'town',\n",
       " 'look',\n",
       " 'face',\n",
       " 'stranger',\n",
       " 'pass',\n",
       " 'yet',\n",
       " 'none',\n",
       " 'look',\n",
       " 'eye',\n",
       " 'imagin',\n",
       " 'must',\n",
       " 'death',\n",
       " 'feel',\n",
       " 'like',\n",
       " 'say',\n",
       " 'next',\n",
       " 'day',\n",
       " 'jane',\n",
       " 'wild',\n",
       " 'boyfriend',\n",
       " 'cleveland',\n",
       " 'saarsgard',\n",
       " 'kidnap',\n",
       " 'jon',\n",
       " 'work',\n",
       " 'take',\n",
       " 'hulk',\n",
       " 'abandon',\n",
       " 'steel',\n",
       " 'mill',\n",
       " 'soon',\n",
       " 'jon',\n",
       " 'cleveland',\n",
       " 'jane',\n",
       " 'spend',\n",
       " 'everi',\n",
       " 'wake',\n",
       " 'moment',\n",
       " 'togeth',\n",
       " 'go',\n",
       " 'punk',\n",
       " 'rock',\n",
       " 'concert',\n",
       " 'drug',\n",
       " 'drink',\n",
       " 'lot',\n",
       " 'alcohol',\n",
       " 'sit',\n",
       " 'well',\n",
       " 'phlox',\n",
       " 'push',\n",
       " 'jon',\n",
       " 'person',\n",
       " 'relationship',\n",
       " 'name',\n",
       " 'let',\n",
       " 'meet',\n",
       " 'new',\n",
       " 'friend',\n",
       " 'father',\n",
       " 'film',\n",
       " 'attempt',\n",
       " 'take',\n",
       " 'us',\n",
       " 'jon',\n",
       " 'journey',\n",
       " 'shake',\n",
       " 'shackl',\n",
       " 'impos',\n",
       " 'father',\n",
       " 'phlox',\n",
       " 'dead',\n",
       " 'end',\n",
       " 'job',\n",
       " 'find',\n",
       " 'freedom',\n",
       " 'express',\n",
       " 'relationship',\n",
       " 'cleveland',\n",
       " 'jane',\n",
       " 'problem',\n",
       " 'us',\n",
       " 'follow',\n",
       " 'jon',\n",
       " 'throughout',\n",
       " 'film',\n",
       " 'complet',\n",
       " 'uninterest',\n",
       " 'ambit',\n",
       " 'passion',\n",
       " 'goal',\n",
       " 'walk',\n",
       " 'life',\n",
       " 'like',\n",
       " 'invis',\n",
       " 'wraith',\n",
       " 'describ',\n",
       " 'jane',\n",
       " 'night',\n",
       " 'met',\n",
       " 'outset',\n",
       " 'problem',\n",
       " 'never',\n",
       " 'get',\n",
       " 'interest',\n",
       " 'complet',\n",
       " 'passiv',\n",
       " 'charact',\n",
       " 'simpli',\n",
       " 'follow',\n",
       " 'along',\n",
       " 'bohemian',\n",
       " 'cleveland',\n",
       " 'jane',\n",
       " 'never',\n",
       " 'give',\n",
       " 'us',\n",
       " 'inkl',\n",
       " 'care',\n",
       " 'want',\n",
       " 'consequ',\n",
       " 'film',\n",
       " 'support',\n",
       " 'charact',\n",
       " 'nowher',\n",
       " 'go',\n",
       " 'littl',\n",
       " 'parti',\n",
       " 'sex',\n",
       " 'get',\n",
       " 'argument',\n",
       " 'word',\n",
       " 'much',\n",
       " 'ado',\n",
       " 'noth',\n",
       " 'shallow',\n",
       " 'skin',\n",
       " 'good',\n",
       " 'movi',\n",
       " 'without',\n",
       " 'anyth',\n",
       " 'insid',\n",
       " 'sweep',\n",
       " 'cinematographi',\n",
       " 'ponder',\n",
       " 'voic',\n",
       " 'charact',\n",
       " 'stare',\n",
       " 'distanc',\n",
       " 'lot',\n",
       " 'sex',\n",
       " 'scene',\n",
       " 'straight',\n",
       " 'gay',\n",
       " 'big',\n",
       " 'argument',\n",
       " 'angri',\n",
       " 'sex',\n",
       " 'chase',\n",
       " 'scene',\n",
       " 'tragic',\n",
       " 'death',\n",
       " 'seem',\n",
       " 'matter',\n",
       " 'iron',\n",
       " 'one',\n",
       " 'point',\n",
       " 'jane',\n",
       " 'confus',\n",
       " 'number',\n",
       " 'jon',\n",
       " 'aimless',\n",
       " 'action',\n",
       " 'ask',\n",
       " 'go',\n",
       " 'jon',\n",
       " 'ye',\n",
       " 'jon',\n",
       " 'tell',\n",
       " 'audienc',\n",
       " 'die',\n",
       " 'know',\n",
       " 'titl',\n",
       " 'mysteri',\n",
       " 'pittsburgh',\n",
       " 'must',\n",
       " 'refer',\n",
       " 'charact',\n",
       " 'facad',\n",
       " 'one',\n",
       " 'dimension',\n",
       " 'stand',\n",
       " 'in',\n",
       " 'actual',\n",
       " 'peopl',\n",
       " 'film',\n",
       " 'never',\n",
       " 'let',\n",
       " 'us',\n",
       " 'never',\n",
       " 'know',\n",
       " 'make',\n",
       " 'tick',\n",
       " 'see',\n",
       " 'lot',\n",
       " 'thing',\n",
       " 'know',\n",
       " 'absenc',\n",
       " 'one',\n",
       " 'worst',\n",
       " 'thing',\n",
       " 'movi']"
      ]
     },
     "execution_count": 10,
     "metadata": {},
     "output_type": "execute_result"
    }
   ],
   "source": [
    "# TODO: Apply review_to_words to a review (train_X[100] or any other review)\n",
    "\n",
    "# applying review_to_words to train_X[100]\n",
    "review_to_words(train_X[100])"
   ]
  },
  {
   "cell_type": "markdown",
   "metadata": {},
   "source": [
    "**Question:** Above we mentioned that `review_to_words` method removes html formatting and allows us to tokenize the words found in a review, for example, converting *entertained* and *entertaining* into *entertain* so that they are treated as though they are the same word. What else, if anything, does this method do to the input?"
   ]
  },
  {
   "cell_type": "markdown",
   "metadata": {},
   "source": [
    "**Answer:** This method also converts the review to lower case (ex., 'Michael Chabon' becomes 'michael chabon'), splits sentences into words and removes stopwords such as pronouns (ex., 'I', 'his', 'we', 'them'), punctuation (ex., '.', ' \" ', '!'), prepositions (ex., 'by', 'in', 'of') etc. "
   ]
  },
  {
   "cell_type": "markdown",
   "metadata": {},
   "source": [
    "The method below applies the `review_to_words` method to each of the reviews in the training and testing datasets. In addition it caches the results. This is because performing this processing step can take a long time. This way if you are unable to complete the notebook in the current session, you can come back without needing to process the data a second time."
   ]
  },
  {
   "cell_type": "code",
   "execution_count": 11,
   "metadata": {},
   "outputs": [],
   "source": [
    "import pickle\n",
    "\n",
    "cache_dir = os.path.join(\"../cache\", \"sentiment_analysis\")  # where to store cache files\n",
    "os.makedirs(cache_dir, exist_ok=True)  # ensure cache directory exists\n",
    "\n",
    "def preprocess_data(data_train, data_test, labels_train, labels_test,\n",
    "                    cache_dir=cache_dir, cache_file=\"preprocessed_data.pkl\"):\n",
    "    \"\"\"Convert each review to words; read from cache if available.\"\"\"\n",
    "\n",
    "    # If cache_file is not None, try to read from it first\n",
    "    cache_data = None\n",
    "    if cache_file is not None:\n",
    "        try:\n",
    "            with open(os.path.join(cache_dir, cache_file), \"rb\") as f:\n",
    "                cache_data = pickle.load(f)\n",
    "            print(\"Read preprocessed data from cache file:\", cache_file)\n",
    "        except:\n",
    "            pass  # unable to read from cache, but that's okay\n",
    "    \n",
    "    # If cache is missing, then do the heavy lifting\n",
    "    if cache_data is None:\n",
    "        # Preprocess training and test data to obtain words for each review\n",
    "        #words_train = list(map(review_to_words, data_train))\n",
    "        #words_test = list(map(review_to_words, data_test))\n",
    "        words_train = [review_to_words(review) for review in data_train]\n",
    "        words_test = [review_to_words(review) for review in data_test]\n",
    "        \n",
    "        # Write to cache file for future runs\n",
    "        if cache_file is not None:\n",
    "            cache_data = dict(words_train=words_train, words_test=words_test,\n",
    "                              labels_train=labels_train, labels_test=labels_test)\n",
    "            with open(os.path.join(cache_dir, cache_file), \"wb\") as f:\n",
    "                pickle.dump(cache_data, f)\n",
    "            print(\"Wrote preprocessed data to cache file:\", cache_file)\n",
    "    else:\n",
    "        # Unpack data loaded from cache file\n",
    "        words_train, words_test, labels_train, labels_test = (cache_data['words_train'],\n",
    "                cache_data['words_test'], cache_data['labels_train'], cache_data['labels_test'])\n",
    "    \n",
    "    return words_train, words_test, labels_train, labels_test"
   ]
  },
  {
   "cell_type": "code",
   "execution_count": 12,
   "metadata": {},
   "outputs": [
    {
     "name": "stdout",
     "output_type": "stream",
     "text": [
      "Read preprocessed data from cache file: preprocessed_data.pkl\n"
     ]
    }
   ],
   "source": [
    "# Preprocess data\n",
    "train_X, test_X, train_y, test_y = preprocess_data(train_X, test_X, train_y, test_y)"
   ]
  },
  {
   "cell_type": "markdown",
   "metadata": {},
   "source": [
    "## Transform the data\n",
    "\n",
    "In the XGBoost notebook we transformed the data from its word representation to a bag-of-words feature representation. For the model we are going to construct in this notebook we will construct a feature representation which is very similar. To start, we will represent each word as an integer. Of course, some of the words that appear in the reviews occur very infrequently and so likely don't contain much information for the purposes of sentiment analysis. The way we will deal with this problem is that we will fix the size of our working vocabulary and we will only include the words that appear most frequently. We will then combine all of the infrequent words into a single category and, in our case, we will label it as `1`.\n",
    "\n",
    "Since we will be using a recurrent neural network, it will be convenient if the length of each review is the same. To do this, we will fix a size for our reviews and then pad short reviews with the category 'no word' (which we will label `0`) and truncate long reviews."
   ]
  },
  {
   "cell_type": "markdown",
   "metadata": {},
   "source": [
    "### (TODO) Create a word dictionary\n",
    "\n",
    "To begin with, we need to construct a way to map words that appear in the reviews to integers. Here we fix the size of our vocabulary (including the 'no word' and 'infrequent' categories) to be `5000` but you may wish to change this to see how it affects the model.\n",
    "\n",
    "> **TODO:** Complete the implementation for the `build_dict()` method below. Note that even though the vocab_size is set to `5000`, we only want to construct a mapping for the most frequently appearing `4998` words. This is because we want to reserve the special labels `0` for 'no word' and `1` for 'infrequent word'."
   ]
  },
  {
   "cell_type": "code",
   "execution_count": 17,
   "metadata": {},
   "outputs": [],
   "source": [
    "import numpy as np\n",
    "\n",
    "def build_dict(data, vocab_size = 5000):\n",
    "    \"\"\"Construct and return a dictionary mapping each of the most frequently appearing words to a unique integer.\"\"\"\n",
    "    \n",
    "    # TODO: Determine how often each word appears in `data`. Note that `data` is a list of sentences and that a\n",
    "    #       sentence is a list of words.\n",
    "    \n",
    "    word_count = {} # A dict storing the words that appear in the reviews along with how often they occur\n",
    "        \n",
    "    review = review_to_words(str(data)) # review = list of tokenized words in data\n",
    "    for words in review: # for each word in review\n",
    "        word_count[words] = word_count.get(words, 0) + 1 # count +1 for each word that appears in review, store it in the word_count dict\n",
    "        \n",
    "    \n",
    "    # TODO: Sort the words found in `data` so that sorted_words[0] is the most frequently appearing word and\n",
    "    #       sorted_words[-1] is the least frequently appearing word.\n",
    "    \n",
    "    # sort word_count dictionary using Reverse \n",
    "    word_count_res = {key: val for key, val in sorted(word_count.items(), key = lambda arg: arg[1], reverse = True)}\n",
    "    \n",
    "    sorted_words = None\n",
    "    sorted_words = list(word_count_res.keys())\n",
    "    \n",
    "    # debug\n",
    "    print(\"★\")\n",
    "    print(sorted_words[:5]) # top 5 words of sorted_words list\n",
    "    print(\"★\")\n",
    "    \n",
    "    word_dict = {} # This is what we are building, a dictionary that translates words into integers\n",
    "    for idx, word in enumerate(sorted_words[:vocab_size - 2]): # The -2 is so that we save room for the 'no word'\n",
    "        word_dict[word] = idx + 2                              # 'infrequent' labels\n",
    "        \n",
    "    return word_dict"
   ]
  },
  {
   "cell_type": "code",
   "execution_count": 18,
   "metadata": {},
   "outputs": [
    {
     "name": "stdout",
     "output_type": "stream",
     "text": [
      "★\n",
      "['movi', 'film', 'one', 'like', 'time']\n",
      "★\n"
     ]
    }
   ],
   "source": [
    "word_dict = build_dict(train_X)"
   ]
  },
  {
   "cell_type": "code",
   "execution_count": 19,
   "metadata": {},
   "outputs": [
    {
     "name": "stdout",
     "output_type": "stream",
     "text": [
      "{'movi': 2, 'film': 3, 'one': 4, 'like': 5, 'time': 6, 'good': 7, 'make': 8, 'charact': 9, 'get': 10, 'see': 11, 'watch': 12, 'stori': 13, 'even': 14, 'would': 15, 'realli': 16, 'well': 17, 'scene': 18, 'look': 19, 'show': 20, 'much': 21, 'end': 22, 'peopl': 23, 'bad': 24, 'go': 25, 'great': 26, 'also': 27, 'first': 28, 'love': 29, 'think': 30, 'way': 31, 'act': 32, 'play': 33, 'made': 34, 'thing': 35, 'could': 36, 'know': 37, 'say': 38, 'seem': 39, 'work': 40, 'come': 41, 'plot': 42, 'two': 43, 'actor': 44, 'year': 45, 'mani': 46, 'seen': 47, 'take': 48, 'want': 49, 'life': 50, 'never': 51, 'littl': 52, 'best': 53, 'tri': 54, 'man': 55, 'ever': 56, 'give': 57, 'better': 58, 'still': 59, 'perform': 60, 'find': 61, 'feel': 62, 'part': 63, 'back': 64, 'use': 65, 'someth': 66, 'director': 67, 'actual': 68, 'interest': 69, 'lot': 70, 'real': 71, 'old': 72, 'cast': 73, 'though': 74, 'live': 75, 'star': 76, 'enjoy': 77, 'guy': 78, 'anoth': 79, 'new': 80, 'noth': 81, 'role': 82, '10': 83, 'funni': 84, 'music': 85, 'point': 86, 'start': 87, 'set': 88, 'girl': 89, 'origin': 90, 'day': 91, 'world': 92, 'everi': 93, 'believ': 94, 'turn': 95, 'quit': 96, 'direct': 97, 'us': 98, 'thought': 99, 'fact': 100, 'minut': 101, 'horror': 102, 'kill': 103, 'action': 104, 'comedi': 105, 'pretti': 106, 'young': 107, 'wonder': 108, 'happen': 109, 'around': 110, 'got': 111, 'effect': 112, 'right': 113, 'long': 114, 'howev': 115, 'big': 116, 'line': 117, 'famili': 118, 'enough': 119, 'seri': 120, 'may': 121, 'need': 122, 'fan': 123, 'bit': 124, 'script': 125, 'beauti': 126, 'person': 127, 'becom': 128, 'without': 129, 'must': 130, 'alway': 131, 'friend': 132, 'tell': 133, 'reason': 134, 'saw': 135, 'last': 136, 'final': 137, 'kid': 138, 'almost': 139, 'put': 140, 'least': 141, 'mean': 142, 'sure': 143, 'done': 144, 'whole': 145, 'place': 146, 'complet': 147, 'kind': 148, 'expect': 149, 'differ': 150, 'shot': 151, 'far': 152, 'anyth': 153, 'book': 154, 'laugh': 155, 'might': 156, 'name': 157, 'sinc': 158, 'begin': 159, '2': 160, 'probabl': 161, 'woman': 162, 'help': 163, 'entertain': 164, 'let': 165, 'screen': 166, 'call': 167, 'tv': 168, 'moment': 169, 'away': 170, 'read': 171, 'yet': 172, 'rather': 173, 'worst': 174, 'run': 175, 'fun': 176, 'lead': 177, 'hard': 178, 'audienc': 179, 'idea': 180, 'anyon': 181, 'episod': 182, 'american': 183, 'found': 184, 'appear': 185, 'bore': 186, 'especi': 187, 'although': 188, 'hope': 189, 'cour': 190, 'keep': 191, 'anim': 192, 'job': 193, 'sen': 194, 'goe': 195, 'move': 196, 'version': 197, 'dvd': 198, 'war': 199, 'money': 200, 'mind': 201, 'someon': 202, 'hou': 203, 'mayb': 204, 'problem': 205, 'true': 206, 'everyth': 207, 'nice': 208, 'second': 209, 'rate': 210, 'three': 211, 'night': 212, 'follow': 213, 'face': 214, 'recommend': 215, 'product': 216, 'main': 217, 'worth': 218, 'leav': 219, 'human': 220, 'special': 221, 'excel': 222, 'togeth': 223, 'obviou': 224, 'wast': 225, 'everyon': 226, 'sound': 227, 'hand': 228, 'john': 229, '1': 230, 'father': 231, 'later': 232, 'eye': 233, 'said': 234, 'view': 235, 'instead': 236, 'review': 237, 'boy': 238, 'high': 239, 'hour': 240, 'miss': 241, 'classic': 242, 'talk': 243, 'wife': 244, 'understand': 245, 'care': 246, 'left': 247, 'black': 248, 'death': 249, 'open': 250, 'murder': 251, 'write': 252, 'half': 253, 'el': 254, 'head': 255, 'rememb': 256, 'chang': 257, 'viewer': 258, 'fight': 259, 'seriou': 260, 'gener': 261, 'surpri': 262, 'includ': 263, 'short': 264, 'die': 265, 'fall': 266, 'less': 267, 'entir': 268, 'piec': 269, 'involv': 270, 'pictur': 271, 'simpli': 272, 'home': 273, 'power': 274, 'top': 275, 'total': 276, 'usual': 277, 'budget': 278, 'attempt': 279, 'suppo': 280, 'relea': 281, 'hollywood': 282, 'terribl': 283, 'song': 284, 'men': 285, 'possibl': 286, 'featur': 287, 'portray': 288, 'disappoint': 289, 'poor': 290, '3': 291, 'coupl': 292, 'stupid': 293, 'camera': 294, 'dead': 295, 'wrong': 296, 'produc': 297, 'low': 298, 'video': 299, 'either': 300, 'aw': 301, 'definit': 302, 'except': 303, 'rest': 304, 'given': 305, 'absolut': 306, 'women': 307, 'lack': 308, 'consid': 309, 'word': 310, 'writer': 311, 'titl': 312, 'talent': 313, 'decid': 314, 'full': 315, 'perfect': 316, 'along': 317, 'style': 318, 'close': 319, 'truli': 320, 'emot': 321, 'school': 322, 'save': 323, 'age': 324, 'sex': 325, 'base': 326, 'next': 327, 'bring': 328, 'mr': 329, 'case': 330, 'killer': 331, 'heart': 332, 'comment': 333, 'sort': 334, 'creat': 335, 'perhap': 336, 'came': 337, 'brother': 338, 'sever': 339, 'joke': 340, 'art': 341, 'dialogu': 342, 'experi': 343, 'game': 344, 'small': 345, 'flick': 346, 'written': 347, 'sequenc': 348, 'meet': 349, 'earli': 350, 'often': 351, 'mother': 352, 'develop': 353, 'humor': 354, 'actress': 355, 'dark': 356, 'guess': 357, 'amaz': 358, 'unfortun': 359, 'lost': 360, 'light': 361, 'exampl': 362, 'cinema': 363, 'drama': 364, 'ye': 365, 'white': 366, 'imagin': 367, 'mention': 368, 'stop': 369, 'natur': 370, 'forc': 371, 'manag': 372, 'felt': 373, 'cut': 374, 'present': 375, 'children': 376, 'fail': 377, 'son': 378, 'qualiti': 379, 'support': 380, 'car': 381, 'ask': 382, 'hit': 383, 'impress': 384, 'side': 385, 'voic': 386, 'extrem': 387, 'wor': 388, 'evil': 389, 'went': 390, 'stand': 391, 'certainli': 392, 'basic': 393, 'oh': 394, 'over': 395, 'favorit': 396, 'horribl': 397, 'mysteri': 398, 'number': 399, 'type': 400, 'danc': 401, 'wait': 402, 'hero': 403, '5': 404, 'alreadi': 405, 'learn': 406, 'matter': 407, '4': 408, 'michael': 409, 'genr': 410, 'fine': 411, 'despit': 412, 'throughout': 413, 'walk': 414, 'success': 415, 'histori': 416, 'question': 417, 'zombi': 418, 'town': 419, 'relationship': 420, 'realiz': 421, 'past': 422, 'child': 423, 'daughter': 424, 'late': 425, 'b': 426, 'wish': 427, 'credit': 428, 'hate': 429, 'event': 430, 'theme': 431, 'touch': 432, 'plea': 433, 'citi': 434, 'today': 435, 'sometim': 436, 'behind': 437, 'god': 438, 'twist': 439, 'sit': 440, 'stay': 441, 'deal': 442, 'annoy': 443, 'abl': 444, 'rent': 445, 'edit': 446, 'blood': 447, 'deserv': 448, 'comic': 449, 'anyway': 450, 'appar': 451, 'soon': 452, 'gave': 453, 'etc': 454, 'level': 455, 'slow': 456, 'chanc': 457, 'score': 458, 'bodi': 459, 'incr': 460, 'brilliant': 461, 'figur': 462, 'situat': 463, 'self': 464, 'major': 465, 'stuff': 466, 'decent': 467, 'element': 468, 'dream': 469, 'return': 470, 'continu': 471, 'order': 472, 'pace': 473, 'ridicul': 474, 'happi': 475, 'add': 476, 'highli': 477, 'group': 478, 'thank': 479, 'ladi': 480, 'pain': 481, 'novel': 482, 'speak': 483, 'career': 484, 'shoot': 485, 'strang': 486, 'heard': 487, 'sad': 488, 'polic': 489, 'husband': 490, 'import': 491, 'break': 492, 'took': 493, 'strong': 494, 'cannot': 495, 'predict': 496, 'robert': 497, 'violenc': 498, 'hilari': 499, 'recent': 500, 'deliv': 501, 'countri': 502, 'known': 503, 'particularli': 504, 'pick': 505, 'documentari': 506, 'season': 507, 'critic': 508, 'jame': 509, 'hear': 510, 'compar': 511, 'alon': 512, 'told': 513, 'state': 514, 'rock': 515, 'visual': 516, 'theater': 517, 'offer': 518, 'exist': 519, 'opinion': 520, 'gore': 521, 'hold': 522, 'crap': 523, 'result': 524, 'room': 525, 'realiti': 526, 'clich': 527, 'effort': 528, 'thriller': 529, 'cau': 530, 'explain': 531, 'sequel': 532, 'king': 533, 'local': 534, 'ago': 535, 'none': 536, 'hell': 537, 'note': 538, 'allow': 539, 'david': 540, 'sister': 541, 'simpl': 542, 'femal': 543, 'ok': 544, 'win': 545, 'convinc': 546, 'class': 547, 'check': 548, 'ten': 549, 'suspen': 550, 'japan': 551, 'oscar': 552, 'buy': 553, 'huge': 554, 'valu': 555, 'sexual': 556, 'focu': 557, 'cool': 558, 'scari': 559, 'excit': 560, 'similar': 561, 'provid': 562, 'exactli': 563, 'apart': 564, 'avoid': 565, 'shown': 566, 'english': 567, 'whose': 568, 'taken': 569, 'cinematographi': 570, 'polit': 571, 'shock': 572, 'spoiler': 573, 'offic': 574, 'across': 575, 'middl': 576, 'street': 577, 'pass': 578, 'messag': 579, 'charm': 580, 'somewhat': 581, 'silli': 582, 'modern': 583, 'confu': 584, 'filmmak': 585, 'form': 586, 'tale': 587, 'singl': 588, 'jack': 589, 'mostli': 590, 'william': 591, 'attent': 592, 'carri': 593, 'sing': 594, 'five': 595, 'subject': 596, 'prove': 597, 'richard': 598, 'stage': 599, 'team': 600, 'unlik': 601, 'cop': 602, 'georg': 603, 'monster': 604, 'televi': 605, 'earth': 606, 'cover': 607, 'villain': 608, 'pay': 609, 'marri': 610, 'toward': 611, 'build': 612, 'parent': 613, 'pull': 614, 'romant': 615, 'due': 616, 'respect': 617, 'fill': 618, 'dialog': 619, 'four': 620, 'remind': 621, 'futur': 622, 'adult': 623, 'escap': 624, 'typic': 625, 'weak': 626, 'atmosph': 627, '7': 628, 'cheap': 629, 'intellig': 630, 'british': 631, '80': 632, 'clearli': 633, 'paul': 634, 'non': 635, 'dog': 636, 'fast': 637, '8': 638, 'knew': 639, 'artist': 640, 'crime': 641, 'easili': 642, 'doubt': 643, 'detail': 644, 'date': 645, 'member': 646, 'fire': 647, 'gun': 648, 'drive': 649, 'straight': 650, 'fit': 651, 'beyond': 652, 'attack': 653, 'imag': 654, 'upon': 655, 'posit': 656, 'whether': 657, 'peter': 658, 'fantast': 659, 'aspect': 660, 'captur': 661, 'appreci': 662, 'plan': 663, 'discov': 664, 'remain': 665, 'period': 666, 'near': 667, 'air': 668, 'realist': 669, 'mark': 670, 'red': 671, 'dull': 672, 'adapt': 673, 'previou': 674, 'within': 675, 'spend': 676, 'lose': 677, 'color': 678, 'materi': 679, 'chase': 680, 'mari': 681, 'storylin': 682, 'forget': 683, 'bunch': 684, 'clear': 685, 'lee': 686, 'victim': 687, 'nearli': 688, 'box': 689, 'york': 690, 'inspir': 691, 'match': 692, 'mess': 693, 'finish': 694, 'standard': 695, 'easi': 696, 'truth': 697, 'suffer': 698, 'busi': 699, 'space': 700, 'bill': 701, 'dramat': 702, 'western': 703, 'e': 704, 'list': 705, 'battl': 706, 'notic': 707, 'train': 708, 'de': 709, 'french': 710, 'famou': 711, 'ad': 712, '9': 713, 'tom': 714, 'larg': 715, 'among': 716, 'eventu': 717, 'accept': 718, 'spirit': 719, 'agr': 720, 'soundtrack': 721, 'third': 722, 'teenag': 723, 'adventur': 724, 'soldier': 725, 'sorri': 726, 'suggest': 727, 'drug': 728, 'babi': 729, 'normal': 730, 'cri': 731, 'troubl': 732, 'ultim': 733, 'contain': 734, 'certain': 735, 'cultur': 736, 'romanc': 737, 'rare': 738, 'lame': 739, 'somehow': 740, 'mix': 741, 'disney': 742, 'gone': 743, 'cartoon': 744, 'student': 745, 'fear': 746, 'reveal': 747, 'suck': 748, 'kept': 749, 'attract': 750, 'premi': 751, 'appeal': 752, 'secret': 753, 'greatest': 754, 'design': 755, 'shame': 756, 'throw': 757, 'copi': 758, 'scare': 759, 'wit': 760, 'america': 761, 'admit': 762, 'brought': 763, 'relat': 764, 'particular': 765, 'screenplay': 766, 'whatev': 767, 'pure': 768, '70': 769, 'averag': 770, 'harri': 771, 'master': 772, 'fantasi': 773, 'describ': 774, 'treat': 775, 'male': 776, '20': 777, 'ind': 778, 'issu': 779, 'warn': 780, 'express': 781, 'forward': 782, 'background': 783, 'free': 784, 'project': 785, 'memor': 786, 'poorli': 787, 'award': 788, 'locat': 789, 'amu': 790, 'potenti': 791, 'struggl': 792, 'weird': 793, 'magic': 794, 'societi': 795, 'okay': 796, 'refer': 797, 'doctor': 798, 'imdb': 799, 'accent': 800, 'hot': 801, 'water': 802, 'dr': 803, '30': 804, 'alien': 805, 'odd': 806, 'choic': 807, 'crazi': 808, 'studio': 809, 'fiction': 810, 'control': 811, 'becam': 812, 'masterpiec': 813, 'difficult': 814, 'fli': 815, 'joe': 816, 'execut': 817, 'scream': 818, 'era': 819, 'costum': 820, 'lover': 821, 'uniqu': 822, 'remak': 823, 'vampir': 824, 'girlfriend': 825, 'prison': 826, 'wear': 827, 'jump': 828, 'unless': 829, 'wood': 830, 'creepi': 831, 'superb': 832, 'cheesi': 833, 'otherwi': 834, 'parti': 835, 'roll': 836, 'ghost': 837, 'public': 838, 'mad': 839, 'depict': 840, 'earlier': 841, 'week': 842, 'jane': 843, 'moral': 844, 'badli': 845, 'fi': 846, 'dumb': 847, 'flaw': 848, 'grow': 849, 'deep': 850, 'sci': 851, 'connect': 852, 'cat': 853, 'maker': 854, 'older': 855, 'footag': 856, 'plenti': 857, 'bother': 858, 'outsid': 859, 'stick': 860, 'gay': 861, 'catch': 862, 'co': 863, 'plu': 864, 'popular': 865, 'equal': 866, 'social': 867, 'quickli': 868, 'disturb': 869, 'perfectli': 870, 'dress': 871, '90': 872, 'mistak': 873, 'lie': 874, 'combin': 875, 'ride': 876, 'christma': 877, 'concept': 878, 'band': 879, 'answer': 880, 'surviv': 881, 'rich': 882, 'front': 883, 'sweet': 884, 'insid': 885, 'bare': 886, 'eat': 887, 'concern': 888, 'listen': 889, 'beat': 890, 'ben': 891, 'c': 892, 'term': 893, 'serv': 894, 'german': 895, 'la': 896, 'meant': 897, 'stereotyp': 898, 'hardli': 899, 'innoc': 900, 'law': 901, 'desper': 902, 'memori': 903, 'variou': 904, 'promi': 905, 'cute': 906, 'intent': 907, 'steal': 908, 'inform': 909, 'brain': 910, 'post': 911, 'tone': 912, 'island': 913, 'amount': 914, 'track': 915, 'nuditi': 916, 'compani': 917, 'store': 918, 'claim': 919, 'flat': 920, 'univ': 921, '50': 922, 'hair': 923, 'land': 924, 'accid': 925, 'danger': 926, 'fairli': 927, 'scott': 928, 'kick': 929, 'player': 930, 'plain': 931, 'step': 932, 'crew': 933, 'toni': 934, 'share': 935, 'tast': 936, 'centuri': 937, 'achiev': 938, 'engag': 939, 'cold': 940, 'travel': 941, 'record': 942, 'rip': 943, 'suit': 944, 'manner': 945, 'sadli': 946, 'inten': 947, 'tension': 948, 'spot': 949, 'wrote': 950, 'fascin': 951, 'familiar': 952, 'depth': 953, 'burn': 954, 'remark': 955, 'destroy': 956, 'histor': 957, 'sleep': 958, 'purpo': 959, 'languag': 960, 'ignor': 961, 'ruin': 962, 'delight': 963, 'unbeliev': 964, 'italian': 965, 'soul': 966, 'abil': 967, 'collect': 968, 'clever': 969, 'detect': 970, 'violent': 971, 'rape': 972, 'reach': 973, 'door': 974, 'scienc': 975, 'trash': 976, 'commun': 977, 'liter': 978, 'reveng': 979, 'caught': 980, 'creatur': 981, 'trip': 982, 'approach': 983, 'fashion': 984, 'intrigu': 985, 'skill': 986, 'introduc': 987, 'paint': 988, 'complex': 989, 'channel': 990, 'camp': 991, 'christian': 992, 'hole': 993, 'extra': 994, 'limit': 995, 'immedi': 996, 'mental': 997, 'comput': 998, 'ann': 999, '6': 1000, 'slightli': 1001, 'million': 1002, 'mere': 1003, 'conclu': 1004, 'slasher': 1005, 'suddenli': 1006, 'imposs': 1007, 'physic': 1008, 'neither': 1009, 'crimin': 1010, 'teen': 1011, 'spent': 1012, 'nation': 1013, 'respon': 1014, 'planet': 1015, 'fake': 1016, 'receiv': 1017, 'blue': 1018, 'sick': 1019, 'profess': 1020, 'bizarr': 1021, 'embarrass': 1022, 'indian': 1023, 'ring': 1024, '15': 1025, 'pop': 1026, 'drop': 1027, 'drag': 1028, 'haunt': 1029, 'suspect': 1030, 'pointless': 1031, 'search': 1032, 'edg': 1033, 'handl': 1034, 'biggest': 1035, 'common': 1036, 'hurt': 1037, 'faith': 1038, 'arriv': 1039, 'technic': 1040, 'angel': 1041, 'rai': 1042, 'dad': 1043, 'genuin': 1044, 'f': 1045, 'solid': 1046, 'awesom': 1047, 'van': 1048, 'former': 1049, 'colleg': 1050, 'count': 1051, 'heavi': 1052, 'tear': 1053, 'wall': 1054, 'younger': 1055, 'laughabl': 1056, 'desir': 1057, 'visit': 1058, 'sign': 1059, 'excu': 1060, 'fair': 1061, 'cult': 1062, 'smith': 1063, 'super': 1064, 'key': 1065, 'motion': 1066, 'tough': 1067, 'addit': 1068, 'stun': 1069, 'exploit': 1070, 'cloth': 1071, 'tortur': 1072, 'race': 1073, 'davi': 1074, 'author': 1075, 'cross': 1076, 'jim': 1077, 'consist': 1078, 'compel': 1079, 'commit': 1080, 'geniu': 1081, 'minor': 1082, 'pathet': 1083, 'chemistri': 1084, 'park': 1085, 'tradit': 1086, 'obsess': 1087, 'frank': 1088, 'grade': 1089, '60': 1090, 'asid': 1091, 'brutal': 1092, 'somewh': 1093, 'steve': 1094, 'explor': 1095, 'grant': 1096, 'rule': 1097, 'depress': 1098, 'u': 1099, 'opportun': 1100, 'besid': 1101, 'honest': 1102, 'anti': 1103, 'dub': 1104, 'intend': 1105, 'trailer': 1106, 'bar': 1107, 'longer': 1108, 'regard': 1109, 'scientist': 1110, 'west': 1111, 'decad': 1112, 'govern': 1113, 'judg': 1114, 'silent': 1115, 'creativ': 1116, 'armi': 1117, 'wild': 1118, 'g': 1119, 'stewart': 1120, 'south': 1121, 'draw': 1122, 'road': 1123, 'ex': 1124, 'boss': 1125, 'gang': 1126, 'practic': 1127, 'surprisingli': 1128, 'club': 1129, 'motiv': 1130, 'festiv': 1131, 'redeem': 1132, 'nomin': 1133, 'page': 1134, 'london': 1135, 'green': 1136, 'aliv': 1137, 'militari': 1138, 'display': 1139, 'machin': 1140, 'idiot': 1141, 'repeat': 1142, 'thrill': 1143, '100': 1144, 'nobodi': 1145, 'yeah': 1146, 'folk': 1147, '40': 1148, 'garbag': 1149, 'journey': 1150, 'tire': 1151, 'loo': 1152, 'ground': 1153, 'smile': 1154, 'affect': 1155, 'bought': 1156, 'mood': 1157, 'cost': 1158, 'sam': 1159, 'stone': 1160, 'mouth': 1161, 'noir': 1162, 'terrif': 1163, 'agent': 1164, 'requir': 1165, 'utterli': 1166, 'area': 1167, 'sexi': 1168, 'honestli': 1169, 'report': 1170, 'investig': 1171, 'glad': 1172, 'enter': 1173, 'humour': 1174, 'serial': 1175, 'passion': 1176, 'narr': 1177, 'center': 1178, 'occas': 1179, 'climax': 1180, 'marriag': 1181, 'studi': 1182, 'industri': 1183, 'ship': 1184, 'demon': 1185, 'charli': 1186, 'nowher': 1187, 'bear': 1188, 'hor': 1189, 'wow': 1190, 'hang': 1191, 'nake': 1192, 'graphic': 1193, 'admir': 1194, 'giant': 1195, 'damn': 1196, 'send': 1197, 'abu': 1198, 'loud': 1199, 'rel': 1200, 'subtl': 1201, 'blow': 1202, 'bottom': 1203, 'insult': 1204, 'batman': 1205, 'r': 1206, 'boyfriend': 1207, 'doubl': 1208, 'kelli': 1209, 'initi': 1210, 'interview': 1211, 'frame': 1212, 'opera': 1213, 'cinemat': 1214, 'gem': 1215, 'drawn': 1216, 'challeng': 1217, 'church': 1218, 'evid': 1219, 'j': 1220, 'seek': 1221, 'fulli': 1222, 'l': 1223, 'nightmar': 1224, 'conflict': 1225, 'essenti': 1226, 'arm': 1227, 'grace': 1228, 'wind': 1229, 'christoph': 1230, 'henri': 1231, 'witch': 1232, 'narrat': 1233, 'assum': 1234, 'push': 1235, 'hunt': 1236, 'wise': 1237, 'chri': 1238, 'month': 1239, 'repr': 1240, 'affair': 1241, 'sceneri': 1242, 'hide': 1243, 'avail': 1244, 'justic': 1245, 'thu': 1246, 'smart': 1247, 'bond': 1248, 'flashback': 1249, 'outstand': 1250, 'satisfi': 1251, 'constantli': 1252, 'presenc': 1253, 'bed': 1254, 'central': 1255, 'jone': 1256, 'content': 1257, 'iron': 1258, 'sell': 1259, 'gag': 1260, 'everybodi': 1261, 'slowli': 1262, 'hotel': 1263, 'hire': 1264, 'charl': 1265, 'system': 1266, 'hey': 1267, 'thrown': 1268, 'adam': 1269, 'individu': 1270, 'mediocr': 1271, 'allen': 1272, 'ray': 1273, 'billi': 1274, 'lesson': 1275, 'cameo': 1276, 'photographi': 1277, 'fellow': 1278, 'pari': 1279, 'strike': 1280, 'independ': 1281, 'brief': 1282, 'absurd': 1283, 'rise': 1284, 'neg': 1285, 'phone': 1286, 'impact': 1287, 'born': 1288, 'model': 1289, 'ill': 1290, 'angl': 1291, 'spoil': 1292, 'fresh': 1293, 'likabl': 1294, 'sight': 1295, 'discuss': 1296, 'hill': 1297, 'ahead': 1298, 'photograph': 1299, 'sent': 1300, 'shine': 1301, 'occur': 1302, 'logic': 1303, 'blame': 1304, 'bruce': 1305, 'mainli': 1306, 'forev': 1307, 'commerci': 1308, 'skip': 1309, 'teacher': 1310, 'held': 1311, 'segment': 1312, 'surround': 1313, 'zero': 1314, 'blond': 1315, 'trap': 1316, 'satir': 1317, 'summer': 1318, 'resembl': 1319, 'ball': 1320, 'six': 1321, 'fool': 1322, 'queen': 1323, 'tragedi': 1324, 'sub': 1325, 'twice': 1326, 'pack': 1327, 'reaction': 1328, 'bomb': 1329, 'choo': 1330, 'trust': 1331, 'protagonist': 1332, 'hospit': 1333, 'mile': 1334, 'sport': 1335, 'drink': 1336, 'gorgeou': 1337, 'mom': 1338, 'jerri': 1339, 'vote': 1340, 'encount': 1341, 'plane': 1342, 'current': 1343, 'al': 1344, 'program': 1345, 'celebr': 1346, 'station': 1347, 'martin': 1348, 'join': 1349, 'object': 1350, 'lord': 1351, 'round': 1352, 'tragic': 1353, 'favourit': 1354, 'field': 1355, 'robot': 1356, 'jean': 1357, 'vision': 1358, 'intern': 1359, 'fortun': 1360, 'tie': 1361, 'arthur': 1362, 'random': 1363, 'dread': 1364, 'roger': 1365, 'psycholog': 1366, 'epic': 1367, 'nonsen': 1368, 'improv': 1369, 'prefer': 1370, 'legend': 1371, 'formula': 1372, 'pleasur': 1373, 'highlight': 1374, '11': 1375, 'clean': 1376, 'dollar': 1377, 'tape': 1378, 'wide': 1379, 'thin': 1380, 'porn': 1381, 'fox': 1382, 'influenc': 1383, 'ugli': 1384, 'prepar': 1385, 'buddi': 1386, 'progress': 1387, 'ii': 1388, 'nasti': 1389, 'supposedli': 1390, 'reflect': 1391, 'warm': 1392, 'worthi': 1393, 'youth': 1394, 'length': 1395, 'latter': 1396, 'unusu': 1397, 'crash': 1398, 'superior': 1399, 'childhood': 1400, 'seven': 1401, 'shop': 1402, 'remot': 1403, 'theatr': 1404, 'funniest': 1405, 'conver': 1406, 'disgust': 1407, 'pilot': 1408, 'paid': 1409, 'fell': 1410, 'disast': 1411, 'trick': 1412, 'castl': 1413, 'establish': 1414, 'rob': 1415, 'suicid': 1416, 'gangster': 1417, 'mine': 1418, 'ident': 1419, 'disappear': 1420, 'heaven': 1421, 'mask': 1422, 'deci': 1423, 'heroin': 1424, 'forgotten': 1425, 'tend': 1426, 'singer': 1427, 'lone': 1428, 'brian': 1429, 'partner': 1430, 'alan': 1431, 'desert': 1432, 'recogn': 1433, 'stuck': 1434, 'p': 1435, 'thoroughli': 1436, 'sky': 1437, 'ms': 1438, 'accur': 1439, 'replac': 1440, 'market': 1441, 'commentari': 1442, 'clue': 1443, 'eddi': 1444, 'danni': 1445, 'andi': 1446, 'seemingli': 1447, 'uncl': 1448, 'jackson': 1449, 'devil': 1450, 'therefor': 1451, 'pair': 1452, 'refu': 1453, 'ed': 1454, 'fault': 1455, 'river': 1456, 'fate': 1457, 'unit': 1458, 'afraid': 1459, 'tune': 1460, 'hidden': 1461, 'russian': 1462, 'stephen': 1463, 'convey': 1464, 'instanc': 1465, 'test': 1466, 'quick': 1467, 'readi': 1468, 'captain': 1469, 'irrit': 1470, 'european': 1471, 'chine': 1472, 'insan': 1473, 'daniel': 1474, 'frustrat': 1475, 'food': 1476, '1950': 1477, 'wed': 1478, 'rescu': 1479, 'lock': 1480, 'angri': 1481, 'aim': 1482, 'dirti': 1483, 'joy': 1484, 'steven': 1485, 'price': 1486, 'cage': 1487, 'bland': 1488, 'anymor': 1489, 'rang': 1490, 'wooden': 1491, 'n': 1492, 'jason': 1493, 'news': 1494, 'rush': 1495, 'worri': 1496, 'led': 1497, 'board': 1498, 'twenti': 1499, '12': 1500, 'martial': 1501, 'transform': 1502, 'symbol': 1503, 'piti': 1504, 'cgi': 1505, 'hunter': 1506, 'invent': 1507, 'onto': 1508, 'x': 1509, 'sentiment': 1510, 'johnni': 1511, 'process': 1512, 'explan': 1513, 'attitud': 1514, 'awar': 1515, 'owner': 1516, 'energi': 1517, 'favor': 1518, 'target': 1519, 'floor': 1520, 'necessari': 1521, 'religi': 1522, 'opposit': 1523, 'window': 1524, 'chick': 1525, 'insight': 1526, 'blind': 1527, 'movement': 1528, 'deepli': 1529, 'comparison': 1530, 'mountain': 1531, 'possess': 1532, 'research': 1533, 'grand': 1534, 'whatsoev': 1535, 'rain': 1536, 'shadow': 1537, 'began': 1538, 'mid': 1539, 'bank': 1540, 'princ': 1541, 'parodi': 1542, 'friendship': 1543, 'credibl': 1544, 'weapon': 1545, 'loui': 1546, 'taylor': 1547, 'pre': 1548, 'curiou': 1549, 'dougla': 1550, 'teach': 1551, 'flesh': 1552, 'hint': 1553, 'bloodi': 1554, 'terror': 1555, 'protect': 1556, 'marvel': 1557, 'anybodi': 1558, 'kiss': 1559, 'leader': 1560, 'watchabl': 1561, 'accord': 1562, 'drunk': 1563, 'employ': 1564, 'superman': 1565, 'load': 1566, 'brown': 1567, 'freddi': 1568, 'appropri': 1569, 'hitler': 1570, 'jeff': 1571, 'tim': 1572, 'seat': 1573, 'charg': 1574, 'unknown': 1575, 'knock': 1576, 'keaton': 1577, 'villag': 1578, 'unnecessari': 1579, 'empti': 1580, 'enemi': 1581, 'england': 1582, 'magnif': 1583, 'dan': 1584, 'media': 1585, 'buck': 1586, 'wave': 1587, 'strength': 1588, 'utter': 1589, 'dare': 1590, 'craft': 1591, 'perspect': 1592, 'correct': 1593, 'contrast': 1594, 'ford': 1595, 'nativ': 1596, 'knowledg': 1597, 'anywh': 1598, 'nazi': 1599, 'speed': 1600, 'distract': 1601, 'soap': 1602, 'chill': 1603, 'ice': 1604, 'fred': 1605, 'breath': 1606, 'mission': 1607, '1980': 1608, 'debut': 1609, 'crowd': 1610, 'moon': 1611, 'joan': 1612, 'jr': 1613, 'frighten': 1614, 'soft': 1615, '000': 1616, 'kate': 1617, 'hundr': 1618, 'dick': 1619, 'nick': 1620, 'dozen': 1621, 'simon': 1622, 'somebodi': 1623, 'radio': 1624, 'thousand': 1625, 'andrew': 1626, 'academi': 1627, 'loss': 1628, 'shakespear': 1629, 'convent': 1630, 'quot': 1631, 'root': 1632, 'vehicl': 1633, 'sum': 1634, 'account': 1635, 'behavior': 1636, 'leg': 1637, 'gold': 1638, '1970': 1639, 'regular': 1640, 'demand': 1641, 'pretenti': 1642, 'compet': 1643, 'worker': 1644, 'candi': 1645, 'notabl': 1646, 'ass': 1647, 'privat': 1648, 'lynch': 1649, 'stretch': 1650, 'explo': 1651, 'interpret': 1652, 'constant': 1653, 'tarzan': 1654, 'prai': 1655, 'revolv': 1656, 'sea': 1657, 'spi': 1658, 'translat': 1659, 'presid': 1660, 'technolog': 1661, 'threaten': 1662, 'failur': 1663, 'sat': 1664, 'quiet': 1665, 'jesu': 1666, 'franc': 1667, 'higher': 1668, 'met': 1669, 'kevin': 1670, 'punch': 1671, 'toy': 1672, 'aid': 1673, 'mike': 1674, 'vh': 1675, 'abandon': 1676, 'interact': 1677, 'separ': 1678, 'bet': 1679, 'command': 1680, 'confront': 1681, 'stunt': 1682, 'belong': 1683, 'recal': 1684, 'techniqu': 1685, 'site': 1686, 'incid': 1687, 'gotten': 1688, 'servic': 1689, 'freak': 1690, 'foot': 1691, 'cabl': 1692, 'bug': 1693, 'jimmi': 1694, 'stock': 1695, 'bright': 1696, 'capabl': 1697, 'african': 1698, 'fu': 1699, 'succeed': 1700, 'boat': 1701, 'clark': 1702, 'fat': 1703, 'attend': 1704, 'spanish': 1705, 'reali': 1706, 'structur': 1707, 'gene': 1708, 'paper': 1709, 'kidnap': 1710, 'complic': 1711, 'belief': 1712, 'factor': 1713, 'whilst': 1714, 'educ': 1715, 'realism': 1716, 'bob': 1717, 'tree': 1718, 'witti': 1719, 'assist': 1720, 'santa': 1721, 'broken': 1722, 'finest': 1723, 'smoke': 1724, 'determin': 1725, 'observ': 1726, 'v': 1727, 'depart': 1728, 'hat': 1729, 'oper': 1730, 'fame': 1731, 'lewi': 1732, 'rubbish': 1733, 'routin': 1734, 'domin': 1735, 'safe': 1736, 'hook': 1737, 'deni': 1738, 'foreign': 1739, 'advanc': 1740, 'kinda': 1741, 'morgan': 1742, 'numer': 1743, 'rank': 1744, 'rose': 1745, 'vs': 1746, 'civil': 1747, 'shape': 1748, 'shallow': 1749, 'werewolf': 1750, 'washington': 1751, 'gari': 1752, 'morn': 1753, 'accomplish': 1754, 'ordinari': 1755, 'winner': 1756, 'kong': 1757, 'virtual': 1758, 'whenev': 1759, 'grab': 1760, 'peac': 1761, 'h': 1762, 'offen': 1763, 'luck': 1764, 'contriv': 1765, 'unfunni': 1766, 'patient': 1767, 'activ': 1768, 'welcom': 1769, 'complain': 1770, 'bigger': 1771, 'trek': 1772, 'pretend': 1773, 'dimens': 1774, 'con': 1775, 'eric': 1776, 'lesbian': 1777, 'wake': 1778, 'code': 1779, 'dri': 1780, 'flash': 1781, 'cain': 1782, 'albert': 1783, 'guard': 1784, 'signif': 1785, 'statu': 1786, 'psycho': 1787, 'dancer': 1788, 'manipul': 1789, 'corrupt': 1790, 'speech': 1791, 'sourc': 1792, 'corni': 1793, 'gain': 1794, 'awkward': 1795, 'context': 1796, 'anthoni': 1797, '13': 1798, 'sean': 1799, 'clip': 1800, 'advic': 1801, 'w': 1802, 'theatric': 1803, 'religion': 1804, 'reli': 1805, 'priest': 1806, 'addict': 1807, 'flow': 1808, 'skin': 1809, 'howard': 1810, 'specif': 1811, 'asian': 1812, 'jennif': 1813, 'secur': 1814, 'promot': 1815, 'luke': 1816, 'comfort': 1817, 'organ': 1818, 'core': 1819, 'golden': 1820, 'cheat': 1821, 'cash': 1822, 'lucki': 1823, 'lower': 1824, 'associ': 1825, 'dislik': 1826, 'categori': 1827, 'balanc': 1828, 'frequent': 1829, 'regret': 1830, 'frankli': 1831, 'wing': 1832, 'devic': 1833, 'contribut': 1834, 'degr': 1835, 'spell': 1836, 'print': 1837, 'sake': 1838, 'lake': 1839, 'unexpect': 1840, 'forgiv': 1841, 'mass': 1842, 'condit': 1843, 'thoma': 1844, 'betti': 1845, 'crack': 1846, 'gordon': 1847, 'invit': 1848, 'unfold': 1849, 'amateur': 1850, 'grown': 1851, 'construct': 1852, 'depend': 1853, 'walter': 1854, 'anna': 1855, 'honor': 1856, 'matur': 1857, 'intellectu': 1858, 'grew': 1859, 'sole': 1860, 'sudden': 1861, 'spectacular': 1862, 'veteran': 1863, 'mirror': 1864, 'grip': 1865, 'gift': 1866, 'experienc': 1867, 'card': 1868, 'overli': 1869, 'meanwhil': 1870, 'freedom': 1871, 'liner': 1872, 'demonstr': 1873, 'robin': 1874, 'colour': 1875, 'sheriff': 1876, 'unabl': 1877, 'altern': 1878, 'theori': 1879, 'drew': 1880, 'crappi': 1881, 'section': 1882, 'subtitl': 1883, 'circumst': 1884, 'brilliantli': 1885, 'oliv': 1886, 'path': 1887, 'pile': 1888, 'laughter': 1889, 'sheer': 1890, 'cook': 1891, 'parker': 1892, 'matt': 1893, 'sympathi': 1894, 'relief': 1895, 'defin': 1896, 'wander': 1897, 'lawyer': 1898, 'sinatra': 1899, 'hall': 1900, 'treatment': 1901, 'hank': 1902, 'captiv': 1903, 'dragon': 1904, 'gratuit': 1905, 'halloween': 1906, 'moor': 1907, 'wayn': 1908, 'barbara': 1909, 'k': 1910, 'unint': 1911, 'broadway': 1912, 'cowboy': 1913, 'wound': 1914, 'kung': 1915, 'jacki': 1916, 'statement': 1917, 'winter': 1918, 'spoof': 1919, 'surreal': 1920, 'canadian': 1921, 'expo': 1922, 'treasur': 1923, 'fare': 1924, 'gonna': 1925, 'cheer': 1926, 'compo': 1927, 'fish': 1928, 'unrealist': 1929, 'victor': 1930, 'sensit': 1931, 'emerg': 1932, 'woodi': 1933, 'environ': 1934, 'neighbor': 1935, 'driven': 1936, 'sympathet': 1937, 'ran': 1938, 'erot': 1939, 'authent': 1940, 'glass': 1941, 'menac': 1942, 'topic': 1943, 'overlook': 1944, 'ancient': 1945, 'handsom': 1946, 'michel': 1947, 'chief': 1948, 'gross': 1949, 'stranger': 1950, 'feet': 1951, 'comedian': 1952, 'built': 1953, 'nevertheless': 1954, 'pleasant': 1955, 'network': 1956, 'contemporari': 1957, 'russel': 1958, 'cinderella': 1959, 'letter': 1960, 'endless': 1961, 'miser': 1962, 'underr': 1963, 'blockbust': 1964, 'earn': 1965, 'gori': 1966, 'scale': 1967, 'tediou': 1968, 'switch': 1969, 'solv': 1970, 'brook': 1971, 'edward': 1972, 'virgin': 1973, 'joseph': 1974, 'bullet': 1975, 'convict': 1976, 'victoria': 1977, 'cur': 1978, '0': 1979, 'scenario': 1980, 'chosen': 1981, 'alex': 1982, 'cynic': 1983, 'sword': 1984, 'outrag': 1985, 'par': 1986, 'com': 1987, 'gut': 1988, 'wrap': 1989, 'uk': 1990, 'sacrif': 1991, 'driver': 1992, 'monkey': 1993, 'juli': 1994, 'proper': 1995, 'screenwrit': 1996, 'substanc': 1997, 'indic': 1998, 'remov': 1999, 'bird': 2000, 'ador': 2001, 'court': 2002, 'nanci': 2003, 'consequ': 2004, 'loser': 2005, 'inevit': 2006, 'naiv': 2007, 'adverti': 2008, 'grave': 2009, 'roy': 2010, 'rental': 2011, 'bridg': 2012, 'fatal': 2013, 'invi': 2014, 'le': 2015, 'brave': 2016, 'slap': 2017, 'germani': 2018, 'provok': 2019, 'anger': 2020, 'footbal': 2021, 'anderson': 2022, 'alcohol': 2023, 'chan': 2024, 'stumbl': 2025, 'willi': 2026, 'ryan': 2027, 'professor': 2028, 'sharp': 2029, '1930': 2030, 'australian': 2031, 'liber': 2032, 'bat': 2033, 'patrick': 2034, 'assassin': 2035, 'heck': 2036, 'trilog': 2037, 'strongli': 2038, 'amateurish': 2039, 'lousi': 2040, 'refresh': 2041, 'ape': 2042, 'cell': 2043, 'saturday': 2044, 'eight': 2045, 'sin': 2046, 'vietnam': 2047, 'san': 2048, 'resid': 2049, 'justifi': 2050, 'vagu': 2051, 'corp': 2052, 'creator': 2053, 'defeat': 2054, 'indi': 2055, 'financ': 2056, 'mini': 2057, 'terrifi': 2058, 'reput': 2059, 'task': 2060, 'tabl': 2061, 'prevent': 2062, 'endur': 2063, 'expert': 2064, 'imit': 2065, 'trial': 2066, 'baseb': 2067, 'rival': 2068, 'offend': 2069, 'che': 2070, 'dig': 2071, 'europ': 2072, 'complaint': 2073, 'fairi': 2074, 'weekend': 2075, 'max': 2076, 'beach': 2077, 'pitch': 2078, 'murphi': 2079, 'format': 2080, 'risk': 2081, 'purcha': 2082, 'glimp': 2083, 'titan': 2084, 'tini': 2085, 'reminisc': 2086, 'powel': 2087, 'hype': 2088, 'harsh': 2089, 'noi': 2090, 'bite': 2091, 'fal': 2092, 'asleep': 2093, 'till': 2094, 'north': 2095, 'prime': 2096, '14': 2097, 'strip': 2098, 'destruct': 2099, 'revel': 2100, 'africa': 2101, 'texa': 2102, 'descript': 2103, 'tea': 2104, 'spin': 2105, 'surfac': 2106, 'uninterest': 2107, 'semi': 2108, 'inner': 2109, 'excess': 2110, 'sitcom': 2111, 'arrest': 2112, 'twin': 2113, 'hitchcock': 2114, 'dinosaur': 2115, 'maintain': 2116, 'massiv': 2117, 'argu': 2118, 'expen': 2119, 'makeup': 2120, 'controversi': 2121, 'insist': 2122, 'kim': 2123, 'ludicr': 2124, 'reject': 2125, 'forest': 2126, 'ideal': 2127, 'stare': 2128, 'melodrama': 2129, 'atroci': 2130, 'press': 2131, 'host': 2132, 'ala': 2133, 'subplot': 2134, 'revolut': 2135, 'supernatur': 2136, 'nail': 2137, 'columbo': 2138, 'ga': 2139, 'notch': 2140, 'presum': 2141, 'identifi': 2142, 'cant': 2143, 'dude': 2144, 'guest': 2145, 'plagu': 2146, 'forgett': 2147, 'closer': 2148, 'crude': 2149, 'method': 2150, 'princess': 2151, 'beast': 2152, 'border': 2153, 'landscap': 2154, 'ear': 2155, 'lion': 2156, 'foster': 2157, 'damag': 2158, 'pacino': 2159, 'aunt': 2160, 'birth': 2161, 'accu': 2162, 'storytel': 2163, 'jungl': 2164, 'urban': 2165, 'bound': 2166, 'jess': 2167, 'thirti': 2168, 'guid': 2169, 'propaganda': 2170, 'nude': 2171, 'emma': 2172, 'chose': 2173, 'doll': 2174, 'mate': 2175, 'mainstream': 2176, 'warrior': 2177, 'whoever': 2178, 'pet': 2179, '25': 2180, 'contact': 2181, 'merit': 2182, 'friday': 2183, 'upset': 2184, 'gritti': 2185, 'size': 2186, 'poster': 2187, 'exact': 2188, 'deadli': 2189, 'cooper': 2190, 'latest': 2191, 'buff': 2192, 'confid': 2193, 'bu': 2194, 'popul': 2195, '1990': 2196, 'blend': 2197, 'warner': 2198, 'sun': 2199, 'settl': 2200, 'citizen': 2201, 'ton': 2202, 'wilson': 2203, 'rough': 2204, 'contest': 2205, 'alic': 2206, 'rat': 2207, 'overcom': 2208, 'pitt': 2209, 'widow': 2210, 'metal': 2211, 'mgm': 2212, 'select': 2213, 'link': 2214, 'lift': 2215, 'summari': 2216, 'particip': 2217, 'guilti': 2218, 'exagg': 2219, 'ted': 2220, 'accompani': 2221, '1960': 2222, 'corner': 2223, 'moron': 2224, 'afternoon': 2225, 'prostitut': 2226, 'campi': 2227, 'corpor': 2228, 'johnson': 2229, 'matrix': 2230, 'instal': 2231, 'hood': 2232, 'leagu': 2233, 'clair': 2234, 'doom': 2235, 'sincer': 2236, 'holm': 2237, 'multipl': 2238, 'friendli': 2239, 'hip': 2240, 'string': 2241, 'examin': 2242, 'junk': 2243, 'lugosi': 2244, 'devot': 2245, 'defend': 2246, 'advi': 2247, 'sunday': 2248, 'nose': 2249, 'irish': 2250, 'aka': 2251, 'grim': 2252, 'blah': 2253, 'shut': 2254, 'varieti': 2255, 'shake': 2256, 'tight': 2257, 'icon': 2258, 'pro': 2259, 'rachel': 2260, 'goal': 2261, 'medic': 2262, 'directli': 2263, 'jaw': 2264, 'mexican': 2265, 'confess': 2266, 'attach': 2267, 'denni': 2268, 'sullivan': 2269, 'prior': 2270, 'dean': 2271, 'terrorist': 2272, 'truck': 2273, 'legendari': 2274, 'sentenc': 2275, 'duke': 2276, 'sarah': 2277, 'breast': 2278, 'bourn': 2279, 'courag': 2280, 'un': 2281, 'split': 2282, 'donald': 2283, 'yell': 2284, 'behav': 2285, 'proceed': 2286, 'entri': 2287, 'hong': 2288, 'buri': 2289, 'borrow': 2290, 'gather': 2291, 'forth': 2292, 'unconvinc': 2293, 'lifetim': 2294, 'concentr': 2295, 'swim': 2296, 'everywh': 2297, 'stolen': 2298, 'crush': 2299, 'jerk': 2300, 'spite': 2301, 'lip': 2302, 'julia': 2303, 'turkey': 2304, 'pan': 2305, 'deliveri': 2306, 'california': 2307, 'flight': 2308, 'proud': 2309, 'downright': 2310, 'china': 2311, 'freeman': 2312, 'hoffman': 2313, 'retard': 2314, 'offici': 2315, 'reward': 2316, 'quest': 2317, 'fabul': 2318, 'sink': 2319, 'fade': 2320, 'jail': 2321, 'notori': 2322, 'betray': 2323, 'lazi': 2324, 'jon': 2325, 'worthwhil': 2326, 'sir': 2327, 'inept': 2328, 'encourag': 2329, 'imageri': 2330, 'survivor': 2331, 'bell': 2332, 'storm': 2333, 'bag': 2334, 'susan': 2335, 'teeth': 2336, 'relev': 2337, 'cousin': 2338, 'shower': 2339, 'lisa': 2340, 'branagh': 2341, 'bride': 2342, 'hugh': 2343, 'shark': 2344, 'mexico': 2345, 'toler': 2346, 'tremend': 2347, 'alright': 2348, 'facial': 2349, 'finger': 2350, 'trade': 2351, 'quirki': 2352, 'hyster': 2353, 'stab': 2354, 'bitter': 2355, 'blown': 2356, 'divorc': 2357, 'von': 2358, 'pose': 2359, 'ha': 2360, 'cruel': 2361, 'screw': 2362, 'larri': 2363, 'address': 2364, 'scheme': 2365, 'ned': 2366, 'christ': 2367, 'bone': 2368, 'ron': 2369, 'afterward': 2370, 'beg': 2371, 'tour': 2372, 'feed': 2373, 'swear': 2374, 'thumb': 2375, 'distinct': 2376, 'pursu': 2377, 'traci': 2378, 'snake': 2379, 'photo': 2380, 'obscur': 2381, 'raw': 2382, 'chair': 2383, 'stomach': 2384, 'occa': 2385, 'mechan': 2386, 'chain': 2387, 'necessarili': 2388, 'heavili': 2389, 'render': 2390, 'hardi': 2391, 'holiday': 2392, 'cabin': 2393, 'sidney': 2394, 'gruesom': 2395, 'southern': 2396, 'argument': 2397, 'resist': 2398, 'understood': 2399, 'indulg': 2400, 'satan': 2401, 'philip': 2402, 'racist': 2403, 'india': 2404, 'pregnant': 2405, 'belov': 2406, 'tongu': 2407, 'forgot': 2408, 'midnight': 2409, 'stalk': 2410, 'fourth': 2411, 'outfit': 2412, 'integr': 2413, 'rever': 2414, 'obnoxi': 2415, 'lay': 2416, '17': 2417, 'slapstick': 2418, 'ticket': 2419, 'deeper': 2420, 'garden': 2421, 'carol': 2422, 'restor': 2423, 'inhabit': 2424, 'magazin': 2425, 'diver': 2426, 'brad': 2427, 'shoe': 2428, 'lincoln': 2429, 'disbelief': 2430, 'anticip': 2431, 'underground': 2432, 'cathol': 2433, 'lili': 2434, 'benefit': 2435, 'elizabeth': 2436, 'maria': 2437, 'guarant': 2438, 'sandler': 2439, 'cring': 2440, 'bbc': 2441, 'explod': 2442, 'vacat': 2443, 'princip': 2444, 'greater': 2445, 'creation': 2446, 'mildli': 2447, 'amazingli': 2448, 'slave': 2449, 'capit': 2450, 'introduct': 2451, 'halfway': 2452, 'extraordinari': 2453, 'lesli': 2454, 'funnier': 2455, 'advantag': 2456, 'wreck': 2457, 'text': 2458, 'extent': 2459, 'transfer': 2460, 'punish': 2461, 'overwhelm': 2462, 'enhanc': 2463, 'tap': 2464, 'dynam': 2465, 'horrif': 2466, 'preview': 2467, 'jessica': 2468, 'lo': 2469, 'east': 2470, 'delib': 2471, 'plant': 2472, 'error': 2473, 'lane': 2474, 'miscast': 2475, 'appli': 2476, 'basi': 2477, 'miller': 2478, 'succ': 2479, 'ensu': 2480, 'disagr': 2481, '2000': 2482, 'vincent': 2483, 'homosexu': 2484, 'sophist': 2485, 'steel': 2486, 'spoken': 2487, 'extend': 2488, 'reed': 2489, 'mou': 2490, 'elev': 2491, 'uncomfort': 2492, 'measur': 2493, 'sleazi': 2494, 'via': 2495, 'mansion': 2496, 'bollywood': 2497, 'fix': 2498, 'blair': 2499, 'dentist': 2500, 'coincid': 2501, 'beer': 2502, 'overact': 2503, 'stanley': 2504, 'hippi': 2505, 'alter': 2506, 'melt': 2507, 'goofi': 2508, 'breathtak': 2509, 'daili': 2510, 'conceiv': 2511, 'savag': 2512, 'assign': 2513, 'oppo': 2514, 'properli': 2515, 'burt': 2516, 'inspector': 2517, 'subsequ': 2518, 'carpent': 2519, 'nowaday': 2520, 'everyday': 2521, 'massacr': 2522, 'block': 2523, 'laura': 2524, 'neck': 2525, 'isol': 2526, 'circl': 2527, 'pool': 2528, 'concert': 2529, 'chee': 2530, 'christi': 2531, 'portrait': 2532, 'fallen': 2533, 'mob': 2534, 'fay': 2535, 'grey': 2536, 'access': 2537, 'lesser': 2538, 'seagal': 2539, 'react': 2540, 'competit': 2541, 'usa': 2542, 'relax': 2543, 'jewish': 2544, 'sinist': 2545, 'retir': 2546, 'adopt': 2547, 'appal': 2548, 'jake': 2549, 'spiritu': 2550, 'creep': 2551, 'chop': 2552, 'stink': 2553, 'nine': 2554, 'lyric': 2555, 'immen': 2556, 'nonetheless': 2557, 'ironi': 2558, 'suitabl': 2559, '2006': 2560, 'reduc': 2561, 'rage': 2562, 'showca': 2563, 'nut': 2564, 'sold': 2565, 'needless': 2566, 'shirt': 2567, 'spring': 2568, 'franchi': 2569, 'luci': 2570, 'navi': 2571, 'user': 2572, 'per': 2573, 'uninspir': 2574, 'stanwyck': 2575, 'nur': 2576, 'asham': 2577, 'digit': 2578, 'bath': 2579, 'jay': 2580, 'zone': 2581, 'bulli': 2582, 'upper': 2583, 'amongst': 2584, '1940': 2585, 'illustr': 2586, 'sutherland': 2587, '2001': 2588, 'oddli': 2589, 'laid': 2590, 'broadcast': 2591, 'throat': 2592, 'disgui': 2593, 'baker': 2594, 'brando': 2595, 'stylish': 2596, 'aspir': 2597, 'fulfil': 2598, 'consciou': 2599, 'thief': 2600, 'nobl': 2601, 'pound': 2602, 'em': 2603, 'pride': 2604, 'wanna': 2605, 'impli': 2606, 'endear': 2607, 'neighborhood': 2608, 'wwii': 2609, '18': 2610, 'albeit': 2611, 'dawn': 2612, 'cinematograph': 2613, 'disea': 2614, 'coher': 2615, 'dinner': 2616, 'distribut': 2617, '16': 2618, 'bo': 2619, 'shift': 2620, 'shoulder': 2621, 'rochest': 2622, 'prop': 2623, 'bett': 2624, 'forti': 2625, 'knife': 2626, 'contract': 2627, 'function': 2628, 'silenc': 2629, 'snow': 2630, 'surf': 2631, 'shout': 2632, 'wash': 2633, 'cannib': 2634, 'poignant': 2635, 'matthau': 2636, 'rebel': 2637, 'reunion': 2638, 'widmark': 2639, 'cancel': 2640, 'chuck': 2641, 'eeri': 2642, 'mindless': 2643, 'internet': 2644, 'elvira': 2645, 'proof': 2646, 'duti': 2647, 'horrend': 2648, 'height': 2649, 'henc': 2650, 'heat': 2651, 'instinct': 2652, 'derek': 2653, 'silver': 2654, 'incoh': 2655, 'alik': 2656, 'greatli': 2657, 'repetit': 2658, 'glori': 2659, 'absorb': 2660, 'elvi': 2661, 'innov': 2662, 'musician': 2663, 'etern': 2664, 'premier': 2665, 'spielberg': 2666, 'pie': 2667, 'mill': 2668, 'torn': 2669, 'neat': 2670, 'fbi': 2671, 'diamond': 2672, 'preci': 2673, 'redempt': 2674, 'announc': 2675, 'homag': 2676, 'lovabl': 2677, 'wealthi': 2678, 'infam': 2679, 'crisi': 2680, 'burton': 2681, 'trite': 2682, 'fianc': 2683, 'horrifi': 2684, 'bang': 2685, 'racism': 2686, 'itali': 2687, 'britain': 2688, 'blank': 2689, 'nelson': 2690, 'dedic': 2691, 'flop': 2692, 'resolut': 2693, 'parallel': 2694, 'pat': 2695, 'helen': 2696, 'ensembl': 2697, 'happili': 2698, 'chaplin': 2699, 'wilder': 2700, 'hammer': 2701, 'streisand': 2702, 'cube': 2703, 'st': 2704, 'mar': 2705, 'factori': 2706, 'conclud': 2707, 'plastic': 2708, 'oil': 2709, 'carter': 2710, 'triumph': 2711, 'broke': 2712, 'bush': 2713, 'weight': 2714, 'vega': 2715, 'climb': 2716, 'chuckl': 2717, 'march': 2718, 'fighter': 2719, 'rocket': 2720, 'row': 2721, 'lust': 2722, 'sensibl': 2723, 'thug': 2724, 'wherea': 2725, 'luca': 2726, 'mst3k': 2727, 'dump': 2728, 'kurt': 2729, 'unforgett': 2730, 'dane': 2731, 'boot': 2732, 'spare': 2733, 'enorm': 2734, 'caricatur': 2735, 'dear': 2736, 'adequ': 2737, 'threat': 2738, 'karloff': 2739, 'stress': 2740, 'difficulti': 2741, 'fifti': 2742, 'butt': 2743, 'engin': 2744, 'rap': 2745, 'brand': 2746, 'bobbi': 2747, 'arnold': 2748, 'swing': 2749, 'fest': 2750, 'arrog': 2751, 'barri': 2752, 'homeless': 2753, 'polish': 2754, 'elabor': 2755, 'grate': 2756, 'hamlet': 2757, 'journalist': 2758, 'secretari': 2759, 'ralph': 2760, 'flynn': 2761, 'ego': 2762, 'fanci': 2763, 'simpson': 2764, 'viru': 2765, 'conspiraci': 2766, 'spike': 2767, 'induc': 2768, 'tool': 2769, 'arrang': 2770, 'unbear': 2771, 'resort': 2772, 'assur': 2773, 'puppet': 2774, 'float': 2775, 'exerci': 2776, 'tribut': 2777, 'phillip': 2778, 'crui': 2779, 'basement': 2780, 'boll': 2781, 'guilt': 2782, 'choreograph': 2783, 'pig': 2784, 'muppet': 2785, '24': 2786, 'slip': 2787, 'babe': 2788, 'tower': 2789, 'puzzl': 2790, 'file': 2791, 'ward': 2792, 'korean': 2793, 'ham': 2794, 'item': 2795, 'toilet': 2796, 'layer': 2797, 'document': 2798, 'medium': 2799, 'eva': 2800, 'stan': 2801, 'editor': 2802, 'scarecrow': 2803, 'librari': 2804, 'inexpl': 2805, 'doc': 2806, 'superfici': 2807, 'philosoph': 2808, 'orient': 2809, 'catherin': 2810, 'persona': 2811, 'territori': 2812, 'portion': 2813, 'larger': 2814, 'minim': 2815, 'transit': 2816, 'slaughter': 2817, 'spark': 2818, 'denzel': 2819, 'glover': 2820, 'wolf': 2821, 'wannab': 2822, 'jeremi': 2823, 'boredom': 2824, 'owe': 2825, 'curti': 2826, 'dorothi': 2827, 'sneak': 2828, 'walken': 2829, 'shi': 2830, 'jet': 2831, 'pg': 2832, 'ban': 2833, 'eleph': 2834, 'ambigu': 2835, 'whale': 2836, 'profound': 2837, 'metaphor': 2838, 'hudson': 2839, 'backdrop': 2840, 'multi': 2841, 'cusack': 2842, 'stiff': 2843, 'rave': 2844, 'elsewh': 2845, '2005': 2846, 'hack': 2847, 'afor': 2848, 'implau': 2849, 'union': 2850, 'birthday': 2851, 'notion': 2852, 'ultra': 2853, 'gadget': 2854, 'eastwood': 2855, 'slight': 2856, '1st': 2857, 'newspap': 2858, 'reader': 2859, 'lloyd': 2860, 'curio': 2861, 'squar': 2862, 'canada': 2863, 'poison': 2864, 'bibl': 2865, 'hawk': 2866, 'distanc': 2867, 'pad': 2868, 'deriv': 2869, 'afford': 2870, 'disc': 2871, 'urg': 2872, 'superhero': 2873, 'button': 2874, 'cure': 2875, 'charisma': 2876, 'sadist': 2877, 'essenc': 2878, 'spread': 2879, 'drown': 2880, 'montag': 2881, 'huh': 2882, 'skit': 2883, 'health': 2884, 'restaur': 2885, 'heston': 2886, 'lab': 2887, 'companion': 2888, 'fetch': 2889, 'maniac': 2890, 'gradual': 2891, 'godfath': 2892, 'estat': 2893, 'invest': 2894, 'peak': 2895, 'dealt': 2896, 'scoobi': 2897, 'muslim': 2898, 'gothic': 2899, 'ritter': 2900, 'subtleti': 2901, 'servant': 2902, 'alli': 2903, 'kane': 2904, 'countless': 2905, 'compass': 2906, 'cup': 2907, 'miik': 2908, 'briefli': 2909, 'charismat': 2910, 'electr': 2911, 'heroic': 2912, 'iii': 2913, 'elect': 2914, 'salli': 2915, 'reel': 2916, 'cole': 2917, 'resourc': 2918, 'neil': 2919, 'bud': 2920, 'toss': 2921, 'admittedli': 2922, 'grandmoth': 2923, 'nuanc': 2924, 'tender': 2925, 'ingredi': 2926, 'carrey': 2927, 'dawson': 2928, 'label': 2929, 'stood': 2930, 'mild': 2931, 'stronger': 2932, 'punk': 2933, 'reev': 2934, 'shall': 2935, 'pit': 2936, 'poverti': 2937, 'pauli': 2938, 'gate': 2939, 'mafia': 2940, 'kubrick': 2941, 'smooth': 2942, 'updat': 2943, 'ian': 2944, 'terri': 2945, 'outcom': 2946, 'burst': 2947, 'assault': 2948, 'cox': 2949, 'tag': 2950, 'smash': 2951, 'fond': 2952, 'viciou': 2953, 'monk': 2954, 'useless': 2955, 'easier': 2956, 'astair': 2957, 'cardboard': 2958, 'bakshi': 2959, 'sketch': 2960, 'melodramat': 2961, 'qualifi': 2962, '2002': 2963, 'increasingli': 2964, 'vari': 2965, 'fist': 2966, 'hideou': 2967, 'resolv': 2968, 'vulner': 2969, 'exchang': 2970, 'rex': 2971, 'samurai': 2972, 'brillianc': 2973, 'suspend': 2974, 'scratch': 2975, 'tame': 2976, 'wick': 2977, 'insert': 2978, 'conveni': 2979, 'blast': 2980, 'reynold': 2981, 'templ': 2982, 'luckili': 2983, 'meat': 2984, 'lou': 2985, 'farm': 2986, 'jami': 2987, 'nuclear': 2988, 'seventi': 2989, 'soprano': 2990, 'matthew': 2991, 'strictli': 2992, 'coach': 2993, 'ambiti': 2994, 'walker': 2995, 'gotta': 2996, 'pin': 2997, 'hamilton': 2998, 'fisher': 2999, 'recreat': 3000, 'clock': 3001, 'timeless': 3002, 'empir': 3003, 'ninja': 3004, 'butcher': 3005, 'joey': 3006, 'struck': 3007, 'instantli': 3008, 'discoveri': 3009, 'spooki': 3010, 'eccentr': 3011, 'cave': 3012, 'worthless': 3013, 'kudo': 3014, 'convolut': 3015, 'closet': 3016, 'grasp': 3017, 'brosnan': 3018, 'sidekick': 3019, 'selfish': 3020, 'declar': 3021, 'miracl': 3022, 'wipe': 3023, 'norman': 3024, 'sloppi': 3025, 'importantli': 3026, 'cliff': 3027, 'inconsist': 3028, 'eighti': 3029, 'pal': 3030, 'fifteen': 3031, 'gray': 3032, 'seller': 3033, 'partli': 3034, 'communist': 3035, 'bleak': 3036, 'bia': 3037, 'evok': 3038, 'mitchel': 3039, 'clown': 3040, 'debat': 3041, 'destin': 3042, 'psychiatrist': 3043, 'incompet': 3044, 'cheek': 3045, 'lifestyl': 3046, '45': 3047, 'flawless': 3048, 'chew': 3049, 'gloriou': 3050, 'enthusiast': 3051, 'farc': 3052, 'seed': 3053, 'australia': 3054, 'websit': 3055, 'ho': 3056, 'piano': 3057, 'superbl': 3058, 'stoog': 3059, 'regardless': 3060, 'kitchen': 3061, 'emili': 3062, 'splatter': 3063, 'pressur': 3064, 'anni': 3065, 'dash': 3066, 'directori': 3067, 'dire': 3068, 'akshay': 3069, 'abc': 3070, 'soviet': 3071, 'wrestl': 3072, 'slice': 3073, 'drivel': 3074, 'bash': 3075, 'jealou': 3076, 'suppli': 3077, 'prize': 3078, 'cia': 3079, 'seduc': 3080, 'pleasantli': 3081, 'glow': 3082, 'helicopt': 3083, 'cagney': 3084, 'philosophi': 3085, 'flower': 3086, 'duo': 3087, 'jar': 3088, 'mann': 3089, 'recov': 3090, 'increa': 3091, 'artifici': 3092, 'judi': 3093, 'dave': 3094, 'beaten': 3095, 'ken': 3096, 'cameron': 3097, 'boil': 3098, 'distant': 3099, 'chapter': 3100, 'doo': 3101, 'blob': 3102, 'preciou': 3103, 'perri': 3104, 'eleg': 3105, 'favour': 3106, 'craig': 3107, 'psychot': 3108, 'craven': 3109, 'glenn': 3110, 'francisco': 3111, 'web': 3112, 'drunken': 3113, 'hop': 3114, 'turner': 3115, 'laurel': 3116, 'ranger': 3117, 'panic': 3118, 'combat': 3119, 'splendid': 3120, 'goldberg': 3121, 'ellen': 3122, 'flip': 3123, 'apolog': 3124, 'greek': 3125, 'plausibl': 3126, 'fx': 3127, 'prejud': 3128, 'alexand': 3129, 'wizard': 3130, 'shortli': 3131, 'hatr': 3132, 'slightest': 3133, 'rid': 3134, 'gentl': 3135, 'modesti': 3136, '20th': 3137, 'graduat': 3138, 'min': 3139, 'falk': 3140, 'gandhi': 3141, 'ruth': 3142, 'knight': 3143, 'futurist': 3144, 'tall': 3145, 'holi': 3146, 'fund': 3147, 'dracula': 3148, 'ocean': 3149, 'manhattan': 3150, 'unplea': 3151, 'lend': 3152, 'harm': 3153, 'legal': 3154, 'felix': 3155, 'forbidden': 3156, 'ea': 3157, 'scientif': 3158, 'reviv': 3159, 'nod': 3160, 'thread': 3161, 'bless': 3162, 'giallo': 3163, 'fanat': 3164, 'overdon': 3165, 'digniti': 3166, 'coloni': 3167, 'mock': 3168, 'explicit': 3169, 'ami': 3170, 'childish': 3171, 'tank': 3172, 'torment': 3173, 'pirat': 3174, '2004': 3175, 'mel': 3176, 'unwatch': 3177, '99': 3178, 'verhoeven': 3179, 'yesterday': 3180, 'thick': 3181, 'awe': 3182, 'broad': 3183, 'eve': 3184, 'consum': 3185, 'awaken': 3186, 'nerv': 3187, 'repeatedli': 3188, 'elderli': 3189, 'fever': 3190, 'margaret': 3191, 'acclaim': 3192, 'custom': 3193, 'romero': 3194, 'absenc': 3195, 'publish': 3196, 'crook': 3197, 'bin': 3198, 'kay': 3199, 'uniform': 3200, 'ambit': 3201, 'griffith': 3202, 'automat': 3203, 'politician': 3204, 'rivet': 3205, 'royal': 3206, 'lean': 3207, 'ah': 3208, 'timothi': 3209, 'stiller': 3210, 'launch': 3211, 'roman': 3212, 'transport': 3213, 'bathroom': 3214, 'termin': 3215, 'stinker': 3216, 'foul': 3217, 'pierc': 3218, 'antic': 3219, 'warren': 3220, 'purpl': 3221, 'gabriel': 3222, 'darker': 3223, 'homicid': 3224, 'sunshin': 3225, 'phrase': 3226, 'overr': 3227, 'tomato': 3228, 'pulp': 3229, 'wallac': 3230, 'marin': 3231, 'evolv': 3232, 'q': 3233, 'ought': 3234, 'pray': 3235, 'brazil': 3236, 'sixti': 3237, 'choreographi': 3238, 'sensat': 3239, 'juvenil': 3240, 'packag': 3241, 'saint': 3242, '2003': 3243, 'rambo': 3244, 'horrid': 3245, 'revolutionari': 3246, 'hollow': 3247, 'awak': 3248, 'conserv': 3249, 'contrari': 3250, 'eyr': 3251, 'prom': 3252, 'karen': 3253, 'album': 3254, 'donna': 3255, 'kenneth': 3256, 'li': 3257, 'stole': 3258, 'nerd': 3259, 'blade': 3260, 'twelv': 3261, 'option': 3262, 'boast': 3263, 'dose': 3264, 'kapoor': 3265, 'defi': 3266, 'mummi': 3267, 'candid': 3268, 'ramon': 3269, 'ireland': 3270, 'beatti': 3271, 'mildr': 3272, 'kirk': 3273, 'natali': 3274, 'detract': 3275, 'institut': 3276, 'confirm': 3277, 'trio': 3278, 'collabor': 3279, 'flame': 3280, 'astonish': 3281, 'fulci': 3282, 'protest': 3283, 'funer': 3284, 'jazz': 3285, 'global': 3286, 'altman': 3287, 'enterpri': 3288, 'shade': 3289, 'blake': 3290, 'tommi': 3291, 'whip': 3292, 'audio': 3293, 'racial': 3294, 'spit': 3295, 'leap': 3296, 'bottl': 3297, 'delici': 3298, 'yellow': 3299, 'destini': 3300, 'mystic': 3301, 'nicholson': 3302, 'bull': 3303, 'inherit': 3304, 'popcorn': 3305, 'merci': 3306, 'exhibit': 3307, 'meaningless': 3308, 'altogeth': 3309, 'emphasi': 3310, 'staff': 3311, 'harder': 3312, 'reunit': 3313, 'adolesc': 3314, 'pseudo': 3315, 'fonda': 3316, 'enchant': 3317, 'todd': 3318, 'threw': 3319, 'neo': 3320, 'visibl': 3321, 'vivid': 3322, 'swedish': 3323, 'nervou': 3324, 'bedroom': 3325, 'moodi': 3326, 'suspici': 3327, 'lemmon': 3328, 'synopsi': 3329, 'bust': 3330, 'respond': 3331, 'crocodil': 3332, 'leonard': 3333, 'decor': 3334, 'madonna': 3335, 'lawrenc': 3336, 'voight': 3337, 'kennedi': 3338, 'edi': 3339, 'await': 3340, 'wire': 3341, 'reserv': 3342, 'atlanti': 3343, 'uneven': 3344, 'tip': 3345, 'roommat': 3346, 'befriend': 3347, 'ruthless': 3348, 'jew': 3349, 'ration': 3350, 'clumsi': 3351, 'bargain': 3352, 'ventur': 3353, 'palma': 3354, 'unsettl': 3355, 'garner': 3356, 'rural': 3357, 'abysm': 3358, 'carl': 3359, 'demi': 3360, '2007': 3361, 'chao': 3362, 'centr': 3363, 'clint': 3364, 'audit': 3365, 'voyag': 3366, 'holli': 3367, 'dimen': 3368, 'bold': 3369, 'bradi': 3370, '2nd': 3371, 'cd': 3372, 'ant': 3373, 'tiger': 3374, 'poetic': 3375, 'daddi': 3376, 'neglect': 3377, 'troop': 3378, 'nearbi': 3379, 'humili': 3380, 'imperson': 3381, 'wealth': 3382, 'acknowledg': 3383, 'cari': 3384, 'trail': 3385, 'lit': 3386, 'elimin': 3387, 'versu': 3388, 'exot': 3389, 'echo': 3390, 'mall': 3391, 'immigr': 3392, 'hart': 3393, 'characterist': 3394, 'cuba': 3395, 'timon': 3396, 'repul': 3397, 'saga': 3398, 'pau': 3399, 'mistaken': 3400, 'marshal': 3401, 'pun': 3402, 'homer': 3403, 'solo': 3404, 'domest': 3405, 'collap': 3406, 'ginger': 3407, 'infect': 3408, 'mickey': 3409, 'celluloid': 3410, 'jeffrey': 3411, 'milk': 3412, 'inan': 3413, 'leon': 3414, 'cake': 3415, 'gear': 3416, '1996': 3417, 'tribe': 3418, 'brooklyn': 3419, 'pant': 3420, 'interrupt': 3421, 'sore': 3422, 'promin': 3423, 'harvey': 3424, 'hbo': 3425, 'chest': 3426, 'assembl': 3427, 'undoubtedli': 3428, 'coff': 3429, 'equip': 3430, 'olivi': 3431, 'coat': 3432, 'inappropri': 3433, 'maggi': 3434, 'retain': 3435, 'airplan': 3436, 'colonel': 3437, 'vulgar': 3438, 'highest': 3439, 'trace': 3440, 'colleagu': 3441, 'embrac': 3442, 'pot': 3443, 'illog': 3444, 'pen': 3445, 'furthermor': 3446, 'florida': 3447, 'primari': 3448, 'devast': 3449, 'jenni': 3450, 'polanski': 3451, 'solut': 3452, 'aveng': 3453, 'humbl': 3454, 'instant': 3455, 'clau': 3456, 'wive': 3457, 'ya': 3458, '3rd': 3459, 'linda': 3460, 'disabl': 3461, 'gender': 3462, 'smaller': 3463, 'bowl': 3464, 'dian': 3465, 'outer': 3466, 'sale': 3467, 'descend': 3468, '1999': 3469, 'strain': 3470, 'dutch': 3471, 'godzilla': 3472, 'rick': 3473, 'principl': 3474, 'seduct': 3475, 'poke': 3476, 'cope': 3477, 'rabbit': 3478, 'predecessor': 3479, 'cue': 3480, 'mixtur': 3481, 'lol': 3482, 'vast': 3483, 'primarili': 3484, 'yard': 3485, 'dive': 3486, 'beneath': 3487, 'scope': 3488, 'berlin': 3489, 'devoid': 3490, 'bubbl': 3491, 'disjoint': 3492, 'inferior': 3493, 'dud': 3494, 'blatant': 3495, 'glamor': 3496, 'hal': 3497, 'bonu': 3498, 'secondli': 3499, 'gundam': 3500, 'grinch': 3501, 'myer': 3502, 'talki': 3503, 'shirley': 3504, 'alfr': 3505, 'casual': 3506, 'et': 3507, 'senseless': 3508, 'museum': 3509, 'shelf': 3510, 'aggress': 3511, 'breed': 3512, 'simplist': 3513, 'inva': 3514, 'april': 3515, 'arab': 3516, 'trademark': 3517, 'countrysid': 3518, 'alert': 3519, 'streep': 3520, 'pearl': 3521, 'domino': 3522, 'z': 3523, 'garbo': 3524, 'acid': 3525, 'robinson': 3526, 'sh': 3527, 'stir': 3528, 'vanish': 3529, 'stellar': 3530, 'illeg': 3531, 'defen': 3532, 'maci': 3533, 'deed': 3534, 'boom': 3535, 'disgrac': 3536, 'rendit': 3537, 'robberi': 3538, 'unhappi': 3539, 'mayor': 3540, 'hopeless': 3541, 'slide': 3542, 'stack': 3543, 'obtain': 3544, 'mail': 3545, 'uwe': 3546, 'hardcor': 3547, 'loyal': 3548, 'applaud': 3549, 'oz': 3550, 'khan': 3551, 'diana': 3552, 'incomprehen': 3553, 'soccer': 3554, 'fri': 3555, 'tempt': 3556, 'span': 3557, 'recruit': 3558, 'dismiss': 3559, 'parad': 3560, 'declin': 3561, 'spider': 3562, 'craze': 3563, 'wont': 3564, 'counter': 3565, 'psychic': 3566, 'rifl': 3567, 'tenant': 3568, 'dicken': 3569, 'scroog': 3570, 'blew': 3571, 'topless': 3572, 'amanda': 3573, 'grandfath': 3574, 'hartley': 3575, 'trashi': 3576, 'revolt': 3577, 'faster': 3578, 'riot': 3579, 'porno': 3580, 'woo': 3581, 'resurrect': 3582, 'sympath': 3583, 'wet': 3584, 'intim': 3585, 'bitch': 3586, 'shaw': 3587, 'sibl': 3588, 'goer': 3589, 'shed': 3590, 'justin': 3591, 'niro': 3592, 'ethnic': 3593, 'lumet': 3594, 'gap': 3595, 'eager': 3596, 'immort': 3597, 'weakest': 3598, 'biographi': 3599, 'patriot': 3600, '00': 3601, 'slick': 3602, 'honesti': 3603, 'dealer': 3604, 'ballet': 3605, 'jonathan': 3606, 'region': 3607, 'unreal': 3608, 'wheel': 3609, 'partial': 3610, 'choru': 3611, 'hopper': 3612, 'steam': 3613, 'hesit': 3614, 'enlighten': 3615, 'farmer': 3616, 'commend': 3617, 'ensur': 3618, 'worm': 3619, 'nephew': 3620, 'rider': 3621, 'lena': 3622, 'mario': 3623, 'feminist': 3624, 'andr': 3625, 'wendi': 3626, 'similarli': 3627, 'leo': 3628, 'safeti': 3629, 'charlott': 3630, 'vice': 3631, 'psychopath': 3632, 'kingdom': 3633, 'composit': 3634, 'sandra': 3635, 'wore': 3636, 'skull': 3637, 'snap': 3638, 'morri': 3639, 'victori': 3640, 'blunt': 3641, 'owen': 3642, 'mutant': 3643, 'sappi': 3644, 'util': 3645, 'hung': 3646, 'nostalg': 3647, 'repress': 3648, 'confin': 3649, 'franco': 3650, 'properti': 3651, 'prequel': 3652, 'macarthur': 3653, 'snl': 3654, 'bumbl': 3655, 'strand': 3656, 'montana': 3657, 'emperor': 3658, 'pattern': 3659, 'heartbreak': 3660, 'rocki': 3661, 'bow': 3662, 'empathi': 3663, 'bergman': 3664, 'drain': 3665, 'tail': 3666, 'rambl': 3667, 'campbel': 3668, 'repli': 3669, 'acquir': 3670, 'latin': 3671, 'kyle': 3672, 'miseri': 3673, 'thru': 3674, 'exit': 3675, 'del': 3676, 'dust': 3677, '1972': 3678, 'compen': 3679, 'drum': 3680, 'rope': 3681, 'speci': 3682, 'recycl': 3683, 'valuabl': 3684, 'tad': 3685, 'despair': 3686, 'cg': 3687, 'hyde': 3688, 'whoopi': 3689, 'dalton': 3690, 'farrel': 3691, 'bleed': 3692, 'oppress': 3693, 'gal': 3694, 'airport': 3695, 'pour': 3696, 'chess': 3697, 'downhil': 3698, 'mistress': 3699, 'contempl': 3700, '35': 3701, 'romp': 3702, 'gimmick': 3703, 'rotten': 3704, 'olli': 3705, 'slug': 3706, 'stilt': 3707, 'tonight': 3708, 'orson': 3709, 'martian': 3710, 'rapist': 3711, 'roth': 3712, 'carradin': 3713, 'wacki': 3714, 'radic': 3715, 'percept': 3716, 'da': 3717, 'melodi': 3718, 'slash': 3719, 'arguabl': 3720, 'tackl': 3721, 'champion': 3722, 'perver': 3723, 'dazzl': 3724, '1983': 3725, 'shelley': 3726, 'preach': 3727, 'belt': 3728, 'pervert': 3729, 'pursuit': 3730, 'unpredict': 3731, 'mislead': 3732, 'banal': 3733, 'programm': 3734, 'arc': 3735, 'heal': 3736, 'paltrow': 3737, 'taught': 3738, 'attorney': 3739, 'edgar': 3740, 'lui': 3741, 'tooth': 3742, 'der': 3743, 'closest': 3744, 'chicken': 3745, 'raymond': 3746, 'rubi': 3747, 'graham': 3748, 'mesmer': 3749, 'vocal': 3750, 'uplift': 3751, 'poem': 3752, 'bela': 3753, 'climact': 3754, 'maid': 3755, 'virginia': 3756, 'gambl': 3757, 'plight': 3758, 'tiresom': 3759, 'orang': 3760, 'marti': 3761, 'vengeanc': 3762, 'passeng': 3763, 'franki': 3764, 'dixon': 3765, 'conneri': 3766, 'cleverli': 3767, 'duval': 3768, 'whine': 3769, 'mute': 3770, 'suffic': 3771, 'profan': 3772, 'calm': 3773, 'clone': 3774, 'yawn': 3775, 'quarter': 3776, 'convincingli': 3777, 'numb': 3778, 'scottish': 3779, 'sirk': 3780, 'bay': 3781, 'lundgren': 3782, 'inject': 3783, 'abraham': 3784, 'secretli': 3785, 'amitabh': 3786, 'swallow': 3787, '1968': 3788, 'tube': 3789, 'engross': 3790, 'paranoia': 3791, 'giggl': 3792, 'habit': 3793, 'exten': 3794, 'gerard': 3795, 'outing': 3796, 'volum': 3797, 'monologu': 3798, 'crystal': 3799, 'iran': 3800, 'pokemon': 3801, 'spock': 3802, 'junior': 3803, 'trend': 3804, 'bend': 3805, 'surpass': 3806, 'richardson': 3807, 'nichola': 3808, 'taxi': 3809, 'austen': 3810, 'underst': 3811, 'dispo': 3812, 'linger': 3813, 'expand': 3814, 'im': 3815, 'lowest': 3816, 'ethan': 3817, 'plod': 3818, 'abort': 3819, 'poetri': 3820, 'frankenstein': 3821, 'chicago': 3822, 'backward': 3823, 'grotesqu': 3824, 'franci': 3825, 'meander': 3826, 'earl': 3827, 'septemb': 3828, 'fed': 3829, 'literatur': 3830, 'hum': 3831, 'stallon': 3832, 'simplic': 3833, 'household': 3834, 'compliment': 3835, 'econom': 3836, 'lure': 3837, 'catchi': 3838, 'sue': 3839, 'greedi': 3840, 'tourist': 3841, 'muddl': 3842, 'mundan': 3843, 'nostalgia': 3844, 'rubber': 3845, 'rant': 3846, 'instrument': 3847, 'dysfunct': 3848, 'spoke': 3849, 'waitress': 3850, 'cannon': 3851, 'descent': 3852, 'myth': 3853, 'eugen': 3854, 'furi': 3855, 'envi': 3856, 'firstli': 3857, 'duck': 3858, 'mortal': 3859, 'map': 3860, 'occupi': 3861, 'equiv': 3862, 'bacal': 3863, 'molli': 3864, 'june': 3865, 'eaten': 3866, 'cent': 3867, 'flee': 3868, 'dictat': 3869, 'sissi': 3870, 'hello': 3871, 'crucial': 3872, 'phoni': 3873, 'mankind': 3874, 'coast': 3875, 'stale': 3876, 'dement': 3877, 'recogni': 3878, 'insur': 3879, 'recognit': 3880, 'carel': 3881, 'phantom': 3882, 'damon': 3883, 'lang': 3884, 'irrelev': 3885, 'omen': 3886, 'alongsid': 3887, 'deaf': 3888, 'randi': 3889, 'lengthi': 3890, 'labor': 3891, 'ashley': 3892, 'blackmail': 3893, 'dreari': 3894, 'buffalo': 3895, 'wisdom': 3896, 'newli': 3897, 'daisi': 3898, 'loyalti': 3899, 'likewi': 3900, 'reign': 3901, 'bump': 3902, '1973': 3903, 'proce': 3904, 'damm': 3905, 'onlin': 3906, 'grayson': 3907, 'cyborg': 3908, 'distinguish': 3909, 'heel': 3910, 'freez': 3911, 'rooney': 3912, 'rude': 3913, 'biko': 3914, 'twilight': 3915, 'antwon': 3916, 'drake': 3917, 'bike': 3918, 'tunnel': 3919, 'vein': 3920, 'attribut': 3921, 'basketb': 3922, 'interior': 3923, 'inher': 3924, 'keith': 3925, 'barrymor': 3926, 'baddi': 3927, 'butler': 3928, 'prey': 3929, 'approv': 3930, 'analysi': 3931, 'ridden': 3932, 'pink': 3933, 'chronicl': 3934, 'startl': 3935, 'sailor': 3936, 'nineti': 3937, 'exposur': 3938, 'absent': 3939, 'incorpor': 3940, 'boxer': 3941, 'provoc': 3942, 'empha': 3943, 'unorigin': 3944, 'worn': 3945, 'hypnot': 3946, 'drift': 3947, 'substitut': 3948, 'unrel': 3949, 'undeni': 3950, 'degrad': 3951, 'nicol': 3952, 'improvi': 3953, 'belushi': 3954, 'millionair': 3955, 'meg': 3956, 'stalker': 3957, 'mighti': 3958, 'underli': 3959, 'er': 3960, 'julian': 3961, 'walsh': 3962, 'barrel': 3963, 'indiff': 3964, 'meyer': 3965, 'simmon': 3966, 'bunni': 3967, 'condemn': 3968, 'mormon': 3969, 'predat': 3970, 'fleet': 3971, 'robbin': 3972, 'carla': 3973, 'elm': 3974, 'othello': 3975, 'exquisit': 3976, 'wretch': 3977, '3d': 3978, 'alarm': 3979, 'novak': 3980, 'edgi': 3981, 'roof': 3982, 'reid': 3983, 'priceless': 3984, 'dolph': 3985, 'agenda': 3986, 'furiou': 3987, 'disord': 3988, 'greed': 3989, 'rukh': 3990, 'vital': 3991, 'shove': 3992, 'unawar': 3993, 'mtv': 3994, 'errol': 3995, 'enthusiasm': 3996, 'palac': 3997, 'warmth': 3998, 'marion': 3999, 'alison': 4000, 'watson': 4001, 'firm': 4002, 'hay': 4003, 'nyc': 4004, 'lampoon': 4005, 'unleash': 4006, 'minimum': 4007, 'gestur': 4008, 'orlean': 4009, 'ponder': 4010, 'distort': 4011, 'valentin': 4012, 'eastern': 4013, 'cassidi': 4014, 'session': 4015, '1933': 4016, '13th': 4017, 'randomli': 4018, 'drip': 4019, 'zizek': 4020, 'crown': 4021, 'pamela': 4022, 'angela': 4023, 'peck': 4024, 'profit': 4025, 'petti': 4026, 'campaign': 4027, 'testament': 4028, 'showdown': 4029, 'spain': 4030, 'simultan': 4031, 'preserv': 4032, 'championship': 4033, 'iraq': 4034, 'sergeant': 4035, 'coup': 4036, 'glanc': 4037, 'thompson': 4038, 'beatl': 4039, 'peril': 4040, 'israel': 4041, 'nun': 4042, 'crawl': 4043, 'reson': 4044, 'brenda': 4045, 'scotland': 4046, 'unimagin': 4047, 'bro': 4048, 'fido': 4049, 'rout': 4050, 'stake': 4051, 'contradict': 4052, 'cream': 4053, 'exposit': 4054, 'cooki': 4055, '1984': 4056, 'stroke': 4057, 'realm': 4058, 'lap': 4059, 'mon': 4060, 'calib': 4061, 'sabrina': 4062, 'perpetu': 4063, 'travesti': 4064, 'shootout': 4065, 'restrain': 4066, 'climat': 4067, 'gentleman': 4068, 'quinn': 4069, 'repres': 4070, 'transcend': 4071, 'valley': 4072, 'wig': 4073, 'jan': 4074, 'buster': 4075, 'kurosawa': 4076, 'miyazaki': 4077, 'din': 4078, 'regist': 4079, 'han': 4080, 'crow': 4081, 'austin': 4082, '1997': 4083, 'preten': 4084, '1987': 4085, 'shaki': 4086, 'femm': 4087, 'warrant': 4088, 'derang': 4089, 'fuller': 4090, 'uncov': 4091, 'yank': 4092, 'distress': 4093, 'spacey': 4094, 'shoddi': 4095, 'passabl': 4096, 'greg': 4097, 'wax': 4098, 'traumat': 4099, 'painter': 4100, 'expedit': 4101, 'abomin': 4102, 'darren': 4103, 'compromi': 4104, 'perceiv': 4105, 'delic': 4106, 'baldwin': 4107, 'pole': 4108, 'stargat': 4109, 'geek': 4110, 'monoton': 4111, 'censor': 4112, 'unseen': 4113, 'mclaglen': 4114, 'brow': 4115, 'dana': 4116, 'meryl': 4117, 'sucker': 4118, 'unsatisfi': 4119, 'businessman': 4120, 'ustinov': 4121, 'crawford': 4122, 'soderbergh': 4123, 'sammi': 4124, 'cloud': 4125, 'tacki': 4126, 'ross': 4127, 'josh': 4128, 'unravel': 4129, 'sid': 4130, 'click': 4131, 'clash': 4132, 'deniro': 4133, 'tech': 4134, 'judgment': 4135, 'jewel': 4136, 'polici': 4137, 'norm': 4138, 'wholli': 4139, 'kumar': 4140, 'primit': 4141, 'minu': 4142, 'decea': 4143, 'fenc': 4144, 'anchor': 4145, '1993': 4146, 'athlet': 4147, 'nathan': 4148, 'verbal': 4149, 'correctli': 4150, 'fog': 4151, 'exclu': 4152, 'tarantino': 4153, 'dee': 4154, 'accuraci': 4155, 'reluct': 4156, 'valid': 4157, 'seal': 4158, 'antonioni': 4159, 'temper': 4160, 'shanghai': 4161, 'fabric': 4162, 'pocket': 4163, 'hallucin': 4164, 'fart': 4165, 'roller': 4166, 'enforc': 4167, '2008': 4168, 'bake': 4169, 'crippl': 4170, 'sheet': 4171, 'fought': 4172, 'trait': 4173, 'malon': 4174, 'seldom': 4175, 'alec': 4176, 'darn': 4177, 'nicola': 4178, 'logan': 4179, 'clerk': 4180, 'ritual': 4181, 'patienc': 4182, 'sand': 4183, 'joel': 4184, 'slam': 4185, 'mode': 4186, 'dreck': 4187, 'conduct': 4188, '1971': 4189, 'unfair': 4190, 'sustain': 4191, 'tax': 4192, 'wang': 4193, 'behold': 4194, '3000': 4195, 'sunni': 4196, 'debt': 4197, 'murray': 4198, '1995': 4199, 'vanc': 4200, 'paradi': 4201, 'prepost': 4202, 'grief': 4203, 'despi': 4204, 'scriptwrit': 4205, 'preston': 4206, 'schedul': 4207, 'stuart': 4208, 'outlin': 4209, 'guitar': 4210, 'technicolor': 4211, 'squad': 4212, 'exhaust': 4213, 'isabel': 4214, 'runner': 4215, 'stark': 4216, 'penni': 4217, 'sweep': 4218, 'legaci': 4219, 'critiqu': 4220, 'tactic': 4221, 'bridget': 4222, 'fundament': 4223, 'rita': 4224, 'divid': 4225, 'canyon': 4226, 'phil': 4227, 'robber': 4228, 'shell': 4229, 'pete': 4230, 'soup': 4231, 'helpless': 4232, 'rehear': 4233, 'culmin': 4234, 'cigarett': 4235, 'alley': 4236, 'marc': 4237, 'palanc': 4238, 'rehash': 4239, 'rear': 4240, 'delv': 4241, 'propo': 4242, 'passag': 4243, 'sugar': 4244, 'drove': 4245, 'flair': 4246, 'sniper': 4247, 'bloom': 4248, 'lacklust': 4249, 'gregori': 4250, 'inabl': 4251, 'agenc': 4252, 'kansa': 4253, 'aesthet': 4254, 'russia': 4255, 'invad': 4256, 'unexpectedli': 4257, 'sentinel': 4258, 'boyl': 4259, 'newman': 4260, 'downey': 4261, 'jodi': 4262, 'restrict': 4263, 'jacket': 4264, 'implic': 4265, 'vomit': 4266, 'connor': 4267, 'liberti': 4268, 'alicia': 4269, 'bacon': 4270, 'tendenc': 4271, 'awhil': 4272, 'mccoy': 4273, 'pale': 4274, 'feat': 4275, '1936': 4276, 'rod': 4277, 'chainsaw': 4278, 'delet': 4279, 'wrench': 4280, 'kolchak': 4281, 'lush': 4282, 'rampag': 4283, 'horn': 4284, 'sharon': 4285, 'asylum': 4286, 'behaviour': 4287, 'cap': 4288, 'ladder': 4289, 'foxx': 4290, '22': 4291, 'karl': 4292, 'improb': 4293, 'tripe': 4294, 'yeti': 4295, 'vet': 4296, 'arrow': 4297, 'conscienc': 4298, 'fright': 4299, 'hungri': 4300, 'visitor': 4301, 'elit': 4302, 'coaster': 4303, 'wildli': 4304, 'newcom': 4305, 'scoop': 4306, 'weav': 4307, 'tomorrow': 4308, 'globe': 4309, 'lurk': 4310, 'filler': 4311, 'tasteless': 4312, '19th': 4313, '1978': 4314, 'eli': 4315, 'paramount': 4316, '1988': 4317, 'rhythm': 4318, 'prank': 4319, 'suffici': 4320, 'hackney': 4321, 'spice': 4322, 'aristocrat': 4323, 'shortcom': 4324, 'sung': 4325, 'amazon': 4326, 'suspicion': 4327, 'hulk': 4328, 'stream': 4329, 'rumor': 4330, '1920': 4331, 'ari': 4332, 'wagner': 4333, 'underneath': 4334, 'thunderbird': 4335, 'ingeni': 4336, 'circu': 4337, 'choppi': 4338, 'hopkin': 4339, 'counterpart': 4340, 'brit': 4341, 'grudg': 4342, 'smell': 4343, 'wwe': 4344, 'standout': 4345, 'iv': 4346, 'heist': 4347, 'ram': 4348, 'quietli': 4349, 'literari': 4350, 'immer': 4351, 'secondari': 4352, 'beverli': 4353, 'paxton': 4354, 'worship': 4355, 'minist': 4356, 'cancer': 4357, 'en': 4358, '1989': 4359, 'leigh': 4360, 'abrupt': 4361, 'inmat': 4362, 'recogniz': 4363, 'straightforward': 4364, '75': 4365, 'bread': 4366, 'atroc': 4367, 'entranc': 4368, 'len': 4369, 'penn': 4370, 'couch': 4371, 'impo': 4372, 'rub': 4373, 'posey': 4374, 'lectur': 4375, 'tierney': 4376, 'chamberlain': 4377, 'dirt': 4378, 'chavez': 4379, '1939': 4380, 'curli': 4381, 'naughti': 4382, 'springer': 4383, 'entitl': 4384, 'skeptic': 4385, 'morbid': 4386, 'watcher': 4387, 'net': 4388, 'cattl': 4389, 'attenborough': 4390, 'injuri': 4391, 'policeman': 4392, 'heartfelt': 4393, 'moreov': 4394, 'enthral': 4395, 'ratso': 4396, 'clan': 4397, '1986': 4398, 'ace': 4399, 'geni': 4400, 'convert': 4401, 'esther': 4402, 'missil': 4403, 'nolan': 4404, 'misguid': 4405, 'nemesi': 4406, 'duel': 4407, 'sublim': 4408, 'bernard': 4409, 'variat': 4410, 'sassi': 4411, 'lindsay': 4412, 'preme': 4413, 'laurenc': 4414, 'quaid': 4415, 'yearn': 4416, 'reliabl': 4417, '1979': 4418, 'moder': 4419, 'hopelessli': 4420, 'cruelti': 4421, 'vader': 4422, 'grin': 4423, 'kidman': 4424, 'dont': 4425, 'proport': 4426, 'mytholog': 4427, 'brood': 4428, 'setup': 4429, 'artsi': 4430, 'enabl': 4431, 'diari': 4432, 'rosemari': 4433, 'poe': 4434, 'egg': 4435, 'characteri': 4436, 'buzz': 4437, 'youngest': 4438, 'tyler': 4439, 'graini': 4440, 'kitti': 4441, 'hk': 4442, 'obstacl': 4443, 'unexplain': 4444, 'refug': 4445, 'facil': 4446, 'puppi': 4447, 'bye': 4448, 'uncut': 4449, 'spiral': 4450, 'steadi': 4451, 'carlito': 4452, 'bean': 4453, 'hammi': 4454, 'clueless': 4455, 'exterior': 4456, 'fuel': 4457, '1969': 4458, 'spontan': 4459, 'gillian': 4460, 'underworld': 4461, 'gina': 4462, 'weather': 4463, 'brendan': 4464, 'disastr': 4465, 'patricia': 4466, 'sweat': 4467, 'christin': 4468, 'niec': 4469, 'oblig': 4470, 'despic': 4471, 'heap': 4472, 'decept': 4473, 'bewar': 4474, 'acquaint': 4475, 'scar': 4476, 'hain': 4477, 'kline': 4478, 'effici': 4479, 'bounc': 4480, 'martha': 4481, 'baffl': 4482, 'narrow': 4483, 'bronson': 4484, 'viewpoint': 4485, 'virtu': 4486, 'goof': 4487, 'mayhem': 4488, 'candl': 4489, 'mermaid': 4490, 'loath': 4491, 'sooner': 4492, 'taboo': 4493, 'dandi': 4494, 'outlaw': 4495, 'headach': 4496, 'angst': 4497, 'fontain': 4498, 'trigger': 4499, 'analyz': 4500, 'insipid': 4501, 'biker': 4502, 'sleepwalk': 4503, 'astound': 4504, '73': 4505, 'uh': 4506, 'loi': 4507, 'tick': 4508, 'injur': 4509, 'enlist': 4510, 'suprem': 4511, 'harmless': 4512, 'rome': 4513, 'hepburn': 4514, 'dilemma': 4515, 'fluff': 4516, 'shatter': 4517, 'renaiss': 4518, 'preachi': 4519, 'housewif': 4520, '19': 4521, 'lester': 4522, 'idol': 4523, 'salt': 4524, 'dismal': 4525, 'hokey': 4526, 'oldest': 4527, 'intric': 4528, 'ariel': 4529, 'foolish': 4530, 'tripl': 4531, 'surgeri': 4532, 'zoom': 4533, 'overlong': 4534, 'slimi': 4535, 'amor': 4536, 'hostag': 4537, 'boston': 4538, 'hooker': 4539, 'redund': 4540, 'stimul': 4541, 'camcord': 4542, 'immatur': 4543, 'claustrophob': 4544, 'stair': 4545, 'whore': 4546, 'contempt': 4547, 'macho': 4548, 'guin': 4549, 'steer': 4550, 'perman': 4551, 'corbett': 4552, 'spade': 4553, 'scors': 4554, 'cassavet': 4555, 'glorifi': 4556, 'dish': 4557, 'filth': 4558, 'phenomenon': 4559, 'ebert': 4560, 'bent': 4561, 'gere': 4562, 'sox': 4563, 'muscl': 4564, 'harold': 4565, 'mutual': 4566, 'shield': 4567, 'flag': 4568, 'prece': 4569, 'neurot': 4570, 'keen': 4571, 'shred': 4572, 'beard': 4573, 'remad': 4574, 'transplant': 4575, 'schlock': 4576, 'mount': 4577, 'assert': 4578, 'fascist': 4579, 'strongest': 4580, 'radiat': 4581, 'alvin': 4582, 'rhyme': 4583, 'obligatori': 4584, 'zane': 4585, 'cush': 4586, 'spree': 4587, 'conquer': 4588, 'corman': 4589, 'dwarf': 4590, 'cohen': 4591, 'flirt': 4592, 'gasp': 4593, 'nolt': 4594, 'trivia': 4595, 'gabl': 4596, 'antagonist': 4597, 'messi': 4598, '1976': 4599, 'astronaut': 4600, 'frantic': 4601, 'flashi': 4602, '1981': 4603, 'margin': 4604, 'naschi': 4605, 'spinal': 4606, 'cow': 4607, 'joker': 4608, 'faint': 4609, 'widescreen': 4610, 'brush': 4611, 'someday': 4612, 'strive': 4613, 'bitten': 4614, 'resum': 4615, 'interestingli': 4616, 'instruct': 4617, 'claud': 4618, 'persuad': 4619, 'raj': 4620, 'deer': 4621, 'sensual': 4622, 'bachelor': 4623, 'boob': 4624, 'wield': 4625, 'departur': 4626, 'triangl': 4627, '28': 4628, 'www': 4629, 'divin': 4630, '1945': 4631, 'archiv': 4632, 'repri': 4633, 'mol': 4634, 'info': 4635, 'inflict': 4636, 'discern': 4637, 'mobil': 4638, 'flock': 4639, 'hara': 4640, 'vaniti': 4641, 'fishburn': 4642, 'carey': 4643, 'ritchi': 4644, 'scandal': 4645, '95': 4646, 'barn': 4647, 'aborigin': 4648, 'danish': 4649, 'axe': 4650, 'neill': 4651, 'bate': 4652, 'fragil': 4653, 'cher': 4654, 'heartwarm': 4655, 'prophet': 4656, 'hilar': 4657, 'dylan': 4658, 'biblic': 4659, 'banter': 4660, 'cb': 4661, 'senior': 4662, 'europa': 4663, 'jade': 4664, 'carlo': 4665, 'pickford': 4666, 'pacif': 4667, 'ish': 4668, 'mobster': 4669, 'pixar': 4670, 'hapless': 4671, 'loretta': 4672, 'casino': 4673, 'clad': 4674, 'submit': 4675, 'earnest': 4676, 'dim': 4677, 'wendigo': 4678, 'miracul': 4679, 'kathryn': 4680, 'vibrant': 4681, 'helm': 4682, 'colin': 4683, 'timberlak': 4684, 'rot': 4685, 'recit': 4686, 'artwork': 4687, 'proclaim': 4688, 'undermin': 4689, 'parson': 4690, 'melissa': 4691, 'frontier': 4692, 'anton': 4693, 'cycl': 4694, 'harrison': 4695, 'hug': 4696, 'dame': 4697, 'traffic': 4698, 'cliffhang': 4699, 'luka': 4700, 'vile': 4701, 'articl': 4702, 'token': 4703, 'flavor': 4704, 'holocaust': 4705, 'legitim': 4706, 'cerebr': 4707, 'sicken': 4708, 'breakfast': 4709, 'electron': 4710, 'toronto': 4711, 'estrang': 4712, 'seedi': 4713, 'redneck': 4714, 'blatantli': 4715, 'den': 4716, 'winchest': 4717, 'static': 4718, 'http': 4719, 'jordan': 4720, 'akin': 4721, 'marlon': 4722, 'choke': 4723, 'foil': 4724, 'pc': 4725, 'orphan': 4726, 'lucil': 4727, 'jo': 4728, 'illu': 4729, 'wardrob': 4730, 'venom': 4731, 'northern': 4732, 'feast': 4733, 'rooki': 4734, 'bikini': 4735, 'mathieu': 4736, 'alexandr': 4737, 'milo': 4738, 'uma': 4739, 'misfortun': 4740, 'isra': 4741, 'vanessa': 4742, 'mason': 4743, 'bondag': 4744, 'razor': 4745, 'trier': 4746, 'nope': 4747, 'shepherd': 4748, 'antholog': 4749, 'dudley': 4750, 'leather': 4751, 'linear': 4752, 'disregard': 4753, 'swept': 4754, 'styliz': 4755, 'boyer': 4756, 'retriev': 4757, 'psych': 4758, 'gilbert': 4759, 'ceremoni': 4760, 'howl': 4761, 'feminin': 4762, 'nightclub': 4763, 'glare': 4764, 'anxiou': 4765, 'fifth': 4766, 'cartoonish': 4767, 'deem': 4768, 'audrey': 4769, 'tack': 4770, 'whack': 4771, 'knightley': 4772, 'affleck': 4773, 'turd': 4774, 'magician': 4775, 'peer': 4776, 'ideolog': 4777, 'oppon': 4778, 'abund': 4779, 'clinic': 4780, 'shorter': 4781, 'smack': 4782, 'highway': 4783, 'wrestler': 4784, 'gunga': 4785, 'comprehend': 4786, 'outdat': 4787, 'huston': 4788, 'frog': 4789, 'charlton': 4790, 'senat': 4791, 'chip': 4792, 'moe': 4793, 'uniformli': 4794, '4th': 4795, 'btw': 4796, 'greet': 4797, 'energet': 4798, 'durat': 4799, 'tara': 4800, 'coward': 4801, '1994': 4802, 'goldsworthi': 4803, 'boo': 4804, 'summar': 4805, 'monument': 4806, 'conrad': 4807, '1991': 4808, 'spawn': 4809, 'plate': 4810, 'spine': 4811, 'evolut': 4812, 'compri': 4813, 'phenomen': 4814, 'corn': 4815, 'toe': 4816, 'lighter': 4817, 'breakdown': 4818, 'einstein': 4819, 'lavish': 4820, 'sleaz': 4821, 'braveheart': 4822, 'potter': 4823, 'bogu': 4824, 'collector': 4825, 'mitch': 4826, 'salvat': 4827, 'cuban': 4828, 'lifeless': 4829, 'salman': 4830, 'bastard': 4831, 'snatch': 4832, 'newer': 4833, 'cemeteri': 4834, 'client': 4835, 'neatli': 4836, 'occup': 4837, 'gilliam': 4838, 'historian': 4839, 'undertak': 4840, 'sorrow': 4841, 'spectacl': 4842, 'appl': 4843, 'bori': 4844, 'judd': 4845, 'constitut': 4846, 'signal': 4847, 'replay': 4848, 'ie': 4849, 'inaccuraci': 4850, 'undead': 4851, 'armstrong': 4852, 'creek': 4853, 'ol': 4854, 'capot': 4855, 'kent': 4856, 'mcqueen': 4857, 'pronounc': 4858, '1974': 4859, 'firmli': 4860, 'belli': 4861, 'outright': 4862, 'jam': 4863, 'jule': 4864, 'evelyn': 4865, 'randolph': 4866, 'cecil': 4867, 'liu': 4868, '1977': 4869, 'fluid': 4870, 'jare': 4871, 'wtf': 4872, 'kazan': 4873, 'eleven': 4874, 'alleg': 4875, 'healthi': 4876, 'clara': 4877, 'embark': 4878, 'jedi': 4879, 'bulk': 4880, 'luxuri': 4881, 'dubiou': 4882, 'trauma': 4883, 'nina': 4884, 'lex': 4885, 'galaxi': 4886, 'forgiven': 4887, 'carmen': 4888, 'blur': 4889, 'roar': 4890, 'lanc': 4891, 'meal': 4892, 'vain': 4893, 'unattract': 4894, 'lauren': 4895, 'genet': 4896, 'antonio': 4897, 'tokyo': 4898, 'poker': 4899, 'pioneer': 4900, 'inaccur': 4901, 'groan': 4902, 'id': 4903, 'walt': 4904, 'comprehen': 4905, 'relentless': 4906, 'subtli': 4907, 'truman': 4908, 'fruit': 4909, 'spray': 4910, 'inclu': 4911, 'goldblum': 4912, 'basket': 4913, 'conan': 4914, 'paula': 4915, 'cape': 4916, 'mum': 4917, 'pepper': 4918, 'miniseri': 4919, 'knee': 4920, 'sidewalk': 4921, 'decapit': 4922, 'palm': 4923, 'rosario': 4924, 'congratul': 4925, '1985': 4926, 'comb': 4927, 'propheci': 4928, 'kiddi': 4929, 'vignett': 4930, 'abound': 4931, 'unsuspect': 4932, 'curtain': 4933, 'miami': 4934, 'aussi': 4935, 'bait': 4936, 'porter': 4937, 'bsg': 4938, 'ash': 4939, 'profil': 4940, 'playboy': 4941, 'substanti': 4942, 'handicap': 4943, 'monti': 4944, 'incorrect': 4945, 'evan': 4946, 'victorian': 4947, 'scarfac': 4948, 'mice': 4949, 'intru': 4950, 'weaker': 4951, 'spill': 4952, 'modest': 4953, 'goo': 4954, 'asset': 4955, 'sophi': 4956, 'growth': 4957, 'sparkl': 4958, 'drone': 4959, 'rapidli': 4960, 'reincarn': 4961, 'deputi': 4962, 'optimist': 4963, 'ghetto': 4964, 'weari': 4965, 'assort': 4966, 'bach': 4967, 'omin': 4968, 'ingrid': 4969, 'frontal': 4970, 'verg': 4971, 'vastli': 4972, 'cypher': 4973, 'detach': 4974, 'turtl': 4975, 'hackman': 4976, 'vigil': 4977, 'motorcycl': 4978, 'casper': 4979, 'orchestr': 4980, 'scariest': 4981, 'macabr': 4982, 'jill': 4983, 'bravo': 4984, 'hostil': 4985, '21st': 4986, 'epitom': 4987, 'masterson': 4988, 'stunningli': 4989, '1959': 4990, 'thiev': 4991, 'mitchum': 4992, 'shave': 4993, 'biopic': 4994, 'pump': 4995, 'expertli': 4996, 'hybrid': 4997, 'interv': 4998, 'mutil': 4999}\n"
     ]
    }
   ],
   "source": [
    "print(word_dict)"
   ]
  },
  {
   "cell_type": "markdown",
   "metadata": {},
   "source": [
    "**Question:** What are the five most frequently appearing (tokenized) words in the training set? Does it makes sense that these words appear frequently in the training set?"
   ]
  },
  {
   "cell_type": "markdown",
   "metadata": {},
   "source": [
    "**Answer:** The five most frequently appearing words in the training set are\n",
    "'movi', 'film', 'one', 'like', 'time'. \n",
    "Yes, it makes sense because all of them are related to one theme (movie review) and relatively neutral (neither extremely positive nor extremely negative), which make them be the most appearing ones. As for the word 'like', the review_to_words method makes it neutral: it can be found in a review with negative ('don't like it') or positive ('liked it') meanings. "
   ]
  },
  {
   "cell_type": "code",
   "execution_count": 20,
   "metadata": {},
   "outputs": [
    {
     "name": "stdout",
     "output_type": "stream",
     "text": [
      "['movi', 'film', 'one', 'like', 'time']\n"
     ]
    }
   ],
   "source": [
    "# TODO: Use this space to determine the five most frequently appearing words in the training set.\n",
    "\n",
    "word_dict_top5 = list(word_dict.keys())[:5]\n",
    "print(word_dict_top5)"
   ]
  },
  {
   "cell_type": "markdown",
   "metadata": {},
   "source": [
    "### Save `word_dict`\n",
    "\n",
    "Later on when we construct an endpoint which processes a submitted review we will need to make use of the `word_dict` which we have created. As such, we will save it to a file now for future use."
   ]
  },
  {
   "cell_type": "code",
   "execution_count": 21,
   "metadata": {},
   "outputs": [],
   "source": [
    "data_dir = '../data/pytorch' # The folder we will use for storing data\n",
    "if not os.path.exists(data_dir): # Make sure that the folder exists\n",
    "    os.makedirs(data_dir)"
   ]
  },
  {
   "cell_type": "code",
   "execution_count": 22,
   "metadata": {},
   "outputs": [],
   "source": [
    "with open(os.path.join(data_dir, 'word_dict.pkl'), \"wb\") as f:\n",
    "    pickle.dump(word_dict, f)"
   ]
  },
  {
   "cell_type": "markdown",
   "metadata": {},
   "source": [
    "### Transform the reviews\n",
    "\n",
    "Now that we have our word dictionary which allows us to transform the words appearing in the reviews into integers, it is time to make use of it and convert our reviews to their integer sequence representation, making sure to pad or truncate to a fixed length, which in our case is `500`."
   ]
  },
  {
   "cell_type": "code",
   "execution_count": 23,
   "metadata": {},
   "outputs": [],
   "source": [
    "def convert_and_pad(word_dict, sentence, pad=500):\n",
    "    NOWORD = 0 # We will use 0 to represent the 'no word' category\n",
    "    INFREQ = 1 # and we use 1 to represent the infrequent words, i.e., words not appearing in word_dict\n",
    "    \n",
    "    working_sentence = [NOWORD] * pad\n",
    "    \n",
    "    for word_index, word in enumerate(sentence[:pad]):\n",
    "        if word in word_dict:\n",
    "            working_sentence[word_index] = word_dict[word]\n",
    "        else:\n",
    "            working_sentence[word_index] = INFREQ\n",
    "            \n",
    "    return working_sentence, min(len(sentence), pad)\n",
    "\n",
    "def convert_and_pad_data(word_dict, data, pad=500):\n",
    "    result = []\n",
    "    lengths = []\n",
    "    \n",
    "    for sentence in data:\n",
    "        converted, leng = convert_and_pad(word_dict, sentence, pad)\n",
    "        result.append(converted)\n",
    "        lengths.append(leng)\n",
    "        \n",
    "    return np.array(result), np.array(lengths)"
   ]
  },
  {
   "cell_type": "code",
   "execution_count": 24,
   "metadata": {},
   "outputs": [],
   "source": [
    "train_X, train_X_len = convert_and_pad_data(word_dict, train_X)\n",
    "test_X, test_X_len = convert_and_pad_data(word_dict, test_X)"
   ]
  },
  {
   "cell_type": "markdown",
   "metadata": {},
   "source": [
    "As a quick check to make sure that things are working as intended, check to see what one of the reviews in the training set looks like after having been processeed. Does this look reasonable? What is the length of a review in the training set?"
   ]
  },
  {
   "cell_type": "code",
   "execution_count": 25,
   "metadata": {
    "scrolled": true
   },
   "outputs": [
    {
     "name": "stdout",
     "output_type": "stream",
     "text": [
      "[  28  171   42  364 1234   25    5  325  434  115  364   81    5   13\n",
      "    9   39   71    1  463  878  364  561  620  804   66  307 2169   98\n",
      " 1543  420  205    1  317   31    1    1  356 4428    9   61  814  764\n",
      "   53  132    1 2210    1    9  332 1392  764 2741  317  100  352  620\n",
      " 2468  835   89  588  201   37   49   10 1294    9 3744    1 3897 1478\n",
      " 1714   29  490  147  163  233 1897   40 3441  364 1128 1807 2441  471\n",
      "  297  120   36   17  601  543   73  364  325  434  902    1   33  113\n",
      "   36  327  940 1951  864  776   73   24  233    0    0    0    0    0\n",
      "    0    0    0    0    0    0    0    0    0    0    0    0    0    0\n",
      "    0    0    0    0    0    0    0    0    0    0    0    0    0    0\n",
      "    0    0    0    0    0    0    0    0    0    0    0    0    0    0\n",
      "    0    0    0    0    0    0    0    0    0    0    0    0    0    0\n",
      "    0    0    0    0    0    0    0    0    0    0    0    0    0    0\n",
      "    0    0    0    0    0    0    0    0    0    0    0    0    0    0\n",
      "    0    0    0    0    0    0    0    0    0    0    0    0    0    0\n",
      "    0    0    0    0    0    0    0    0    0    0    0    0    0    0\n",
      "    0    0    0    0    0    0    0    0    0    0    0    0    0    0\n",
      "    0    0    0    0    0    0    0    0    0    0    0    0    0    0\n",
      "    0    0    0    0    0    0    0    0    0    0    0    0    0    0\n",
      "    0    0    0    0    0    0    0    0    0    0    0    0    0    0\n",
      "    0    0    0    0    0    0    0    0    0    0    0    0    0    0\n",
      "    0    0    0    0    0    0    0    0    0    0    0    0    0    0\n",
      "    0    0    0    0    0    0    0    0    0    0    0    0    0    0\n",
      "    0    0    0    0    0    0    0    0    0    0    0    0    0    0\n",
      "    0    0    0    0    0    0    0    0    0    0    0    0    0    0\n",
      "    0    0    0    0    0    0    0    0    0    0    0    0    0    0\n",
      "    0    0    0    0    0    0    0    0    0    0    0    0    0    0\n",
      "    0    0    0    0    0    0    0    0    0    0    0    0    0    0\n",
      "    0    0    0    0    0    0    0    0    0    0    0    0    0    0\n",
      "    0    0    0    0    0    0    0    0    0    0    0    0    0    0\n",
      "    0    0    0    0    0    0    0    0    0    0    0    0    0    0\n",
      "    0    0    0    0    0    0    0    0    0    0    0    0    0    0\n",
      "    0    0    0    0    0    0    0    0    0    0    0    0    0    0\n",
      "    0    0    0    0    0    0    0    0    0    0    0    0    0    0\n",
      "    0    0    0    0    0    0    0    0    0    0    0    0    0    0\n",
      "    0    0    0    0    0    0    0    0    0    0]\n",
      "107\n"
     ]
    }
   ],
   "source": [
    "# Use this cell to examine one of the processed reviews to make sure everything is working as intended.\n",
    "\n",
    "# check train_X[100] after having been processeed.\n",
    "print(train_X[100]) \n",
    "\n",
    "# check the length of train_X[100] - the number of non-zero(s) in train_X[100].\n",
    "print(train_X_len[100])"
   ]
  },
  {
   "cell_type": "markdown",
   "metadata": {},
   "source": [
    "**Question:** In the cells above we use the `preprocess_data` and `convert_and_pad_data` methods to process both the training and testing set. Why or why not might this be a problem?"
   ]
  },
  {
   "cell_type": "markdown",
   "metadata": {},
   "source": [
    "**Answer:** This might be a problem because we don't know how different (more poor/rich or the same?) word dictionary between the training and testing set is. Therefore, we make 1 dictionary built on the training set and \"regularize\" both the training and testing sets according to this dictionary in the SAME way (applying the convert_and_pad_data method allows us to do that and helps feed integer sequences of words into our model). \n",
    "Processing data in a such way allows us to minimize risk of data leakage and make our model more accurately predict. "
   ]
  },
  {
   "cell_type": "markdown",
   "metadata": {},
   "source": [
    "## Step 3: Upload the data to S3\n",
    "\n",
    "As in the XGBoost notebook, we will need to upload the training dataset to S3 in order for our training code to access it. For now we will save it locally and we will upload to S3 later on.\n",
    "\n",
    "### Save the processed training dataset locally\n",
    "\n",
    "It is important to note the format of the data that we are saving as we will need to know it when we write the training code. In our case, each row of the dataset has the form `label`, `length`, `review[500]` where `review[500]` is a sequence of `500` integers representing the words in the review."
   ]
  },
  {
   "cell_type": "code",
   "execution_count": 27,
   "metadata": {},
   "outputs": [],
   "source": [
    "import pandas as pd\n",
    "    \n",
    "pd.concat([pd.DataFrame(train_y), pd.DataFrame(train_X_len), pd.DataFrame(train_X)], axis=1) \\\n",
    "        .to_csv(os.path.join(data_dir, 'train.csv'), header=False, index=False)"
   ]
  },
  {
   "cell_type": "markdown",
   "metadata": {},
   "source": [
    "### Uploading the training data\n",
    "\n",
    "\n",
    "Next, we need to upload the training data to the SageMaker default S3 bucket so that we can provide access to it while training our model."
   ]
  },
  {
   "cell_type": "code",
   "execution_count": 28,
   "metadata": {},
   "outputs": [],
   "source": [
    "import sagemaker\n",
    "\n",
    "sagemaker_session = sagemaker.Session()\n",
    "\n",
    "bucket = sagemaker_session.default_bucket()\n",
    "prefix = 'sagemaker/sentiment_rnn'\n",
    "\n",
    "role = sagemaker.get_execution_role()"
   ]
  },
  {
   "cell_type": "code",
   "execution_count": 29,
   "metadata": {},
   "outputs": [],
   "source": [
    "input_data = sagemaker_session.upload_data(path=data_dir, bucket=bucket, key_prefix=prefix)"
   ]
  },
  {
   "cell_type": "markdown",
   "metadata": {},
   "source": [
    "**NOTE:** The cell above uploads the entire contents of our data directory. This includes the `word_dict.pkl` file. This is fortunate as we will need this later on when we create an endpoint that accepts an arbitrary review. For now, we will just take note of the fact that it resides in the data directory (and so also in the S3 training bucket) and that we will need to make sure it gets saved in the model directory."
   ]
  },
  {
   "cell_type": "markdown",
   "metadata": {},
   "source": [
    "## Step 4: Build and Train the PyTorch Model\n",
    "\n",
    "In the XGBoost notebook we discussed what a model is in the SageMaker framework. In particular, a model comprises three objects\n",
    "\n",
    " - Model Artifacts,\n",
    " - Training Code, and\n",
    " - Inference Code,\n",
    " \n",
    "each of which interact with one another. In the XGBoost example we used training and inference code that was provided by Amazon. Here we will still be using containers provided by Amazon with the added benefit of being able to include our own custom code.\n",
    "\n",
    "We will start by implementing our own neural network in PyTorch along with a training script. For the purposes of this project we have provided the necessary model object in the `model.py` file, inside of the `train` folder. You can see the provided implementation by running the cell below."
   ]
  },
  {
   "cell_type": "code",
   "execution_count": 30,
   "metadata": {},
   "outputs": [
    {
     "name": "stdout",
     "output_type": "stream",
     "text": [
      "\u001b[34mimport\u001b[39;49;00m \u001b[04m\u001b[36mtorch\u001b[39;49;00m\u001b[04m\u001b[36m.\u001b[39;49;00m\u001b[04m\u001b[36mnn\u001b[39;49;00m \u001b[34mas\u001b[39;49;00m \u001b[04m\u001b[36mnn\u001b[39;49;00m\r\n",
      "\r\n",
      "\u001b[34mclass\u001b[39;49;00m \u001b[04m\u001b[32mLSTMClassifier\u001b[39;49;00m(nn.Module):\r\n",
      "    \u001b[33m\"\"\"\u001b[39;49;00m\r\n",
      "\u001b[33m    This is the simple RNN model we will be using to perform Sentiment Analysis.\u001b[39;49;00m\r\n",
      "\u001b[33m    \"\"\"\u001b[39;49;00m\r\n",
      "\r\n",
      "    \u001b[34mdef\u001b[39;49;00m \u001b[32m__init__\u001b[39;49;00m(\u001b[36mself\u001b[39;49;00m, embedding_dim, hidden_dim, vocab_size):\r\n",
      "        \u001b[33m\"\"\"\u001b[39;49;00m\r\n",
      "\u001b[33m        Initialize the model by settingg up the various layers.\u001b[39;49;00m\r\n",
      "\u001b[33m        \"\"\"\u001b[39;49;00m\r\n",
      "        \u001b[36msuper\u001b[39;49;00m(LSTMClassifier, \u001b[36mself\u001b[39;49;00m).\u001b[32m__init__\u001b[39;49;00m()\r\n",
      "\r\n",
      "        \u001b[36mself\u001b[39;49;00m.embedding = nn.Embedding(vocab_size, embedding_dim, padding_idx=\u001b[34m0\u001b[39;49;00m)\r\n",
      "        \u001b[36mself\u001b[39;49;00m.lstm = nn.LSTM(embedding_dim, hidden_dim)\r\n",
      "        \u001b[36mself\u001b[39;49;00m.dense = nn.Linear(in_features=hidden_dim, out_features=\u001b[34m1\u001b[39;49;00m)\r\n",
      "        \u001b[36mself\u001b[39;49;00m.sig = nn.Sigmoid()\r\n",
      "        \r\n",
      "        \u001b[36mself\u001b[39;49;00m.word_dict = \u001b[34mNone\u001b[39;49;00m\r\n",
      "\r\n",
      "    \u001b[34mdef\u001b[39;49;00m \u001b[32mforward\u001b[39;49;00m(\u001b[36mself\u001b[39;49;00m, x):\r\n",
      "        \u001b[33m\"\"\"\u001b[39;49;00m\r\n",
      "\u001b[33m        Perform a forward pass of our model on some input.\u001b[39;49;00m\r\n",
      "\u001b[33m        \"\"\"\u001b[39;49;00m\r\n",
      "        x = x.t()\r\n",
      "        lengths = x[\u001b[34m0\u001b[39;49;00m,:]\r\n",
      "        reviews = x[\u001b[34m1\u001b[39;49;00m:,:]\r\n",
      "        embeds = \u001b[36mself\u001b[39;49;00m.embedding(reviews)\r\n",
      "        lstm_out, _ = \u001b[36mself\u001b[39;49;00m.lstm(embeds)\r\n",
      "        out = \u001b[36mself\u001b[39;49;00m.dense(lstm_out)\r\n",
      "        out = out[lengths - \u001b[34m1\u001b[39;49;00m, \u001b[36mrange\u001b[39;49;00m(\u001b[36mlen\u001b[39;49;00m(lengths))]\r\n",
      "        \u001b[34mreturn\u001b[39;49;00m \u001b[36mself\u001b[39;49;00m.sig(out.squeeze())\r\n"
     ]
    }
   ],
   "source": [
    "!pygmentize train/model.py"
   ]
  },
  {
   "cell_type": "markdown",
   "metadata": {},
   "source": [
    "The important takeaway from the implementation provided is that there are three parameters that we may wish to tweak to improve the performance of our model. These are the embedding dimension, the hidden dimension and the size of the vocabulary. We will likely want to make these parameters configurable in the training script so that if we wish to modify them we do not need to modify the script itself. We will see how to do this later on. To start we will write some of the training code in the notebook so that we can more easily diagnose any issues that arise.\n",
    "\n",
    "First we will load a small portion of the training data set to use as a sample. It would be very time consuming to try and train the model completely in the notebook as we do not have access to a gpu and the compute instance that we are using is not particularly powerful. However, we can work on a small bit of the data to get a feel for how our training script is behaving."
   ]
  },
  {
   "cell_type": "code",
   "execution_count": 31,
   "metadata": {},
   "outputs": [],
   "source": [
    "import torch\n",
    "import torch.utils.data\n",
    "\n",
    "# Read in only the first 250 rows\n",
    "train_sample = pd.read_csv(os.path.join(data_dir, 'train.csv'), header=None, names=None, nrows=250)\n",
    "\n",
    "# Turn the input pandas dataframe into tensors\n",
    "train_sample_y = torch.from_numpy(train_sample[[0]].values).float().squeeze()\n",
    "train_sample_X = torch.from_numpy(train_sample.drop([0], axis=1).values).long()\n",
    "\n",
    "# Build the dataset\n",
    "train_sample_ds = torch.utils.data.TensorDataset(train_sample_X, train_sample_y)\n",
    "# Build the dataloader\n",
    "train_sample_dl = torch.utils.data.DataLoader(train_sample_ds, batch_size=50)"
   ]
  },
  {
   "cell_type": "markdown",
   "metadata": {},
   "source": [
    "### (TODO) Writing the training method\n",
    "\n",
    "Next we need to write the training code itself. This should be very similar to training methods that you have written before to train PyTorch models. We will leave any difficult aspects such as model saving / loading and parameter loading until a little later."
   ]
  },
  {
   "cell_type": "code",
   "execution_count": 34,
   "metadata": {},
   "outputs": [],
   "source": [
    "def train(model, train_loader, epochs, optimizer, loss_fn, device):\n",
    "    for epoch in range(1, epochs + 1):\n",
    "        model.train()\n",
    "        total_loss = 0\n",
    "        for batch in train_loader:         \n",
    "            batch_X, batch_y = batch\n",
    "            \n",
    "            batch_X = batch_X.to(device)\n",
    "            batch_y = batch_y.to(device)\n",
    "            \n",
    "            # TODO: Complete this train method to train the model provided.\n",
    "            \n",
    "            # ★　add_start\n",
    "            optimizer.zero_grad() # clear all gradients\n",
    "            \n",
    "            y_pred = model(batch_X) # compute y_pred by passing batch_X into the model \n",
    "            loss = loss_fn(y_pred, batch_y) # compute loss with the function loss_fn            \n",
    "            loss.backward() # compute gradient\n",
    "            optimizer.step() # proceed gradient descent\n",
    "            # ★ add_end\n",
    "            \n",
    "            total_loss += loss.data.item()\n",
    "        print(\"Epoch: {}, BCELoss: {}\".format(epoch, total_loss / len(train_loader)))"
   ]
  },
  {
   "cell_type": "markdown",
   "metadata": {},
   "source": [
    "Supposing we have the training method above, we will test that it is working by writing a bit of code in the notebook that executes our training method on the small sample training set that we loaded earlier. The reason for doing this in the notebook is so that we have an opportunity to fix any errors that arise early when they are easier to diagnose."
   ]
  },
  {
   "cell_type": "code",
   "execution_count": 35,
   "metadata": {},
   "outputs": [
    {
     "name": "stdout",
     "output_type": "stream",
     "text": [
      "Epoch: 1, BCELoss: 0.6957680821418762\n",
      "Epoch: 2, BCELoss: 0.6856355428695678\n",
      "Epoch: 3, BCELoss: 0.677063500881195\n",
      "Epoch: 4, BCELoss: 0.6674369096755981\n",
      "Epoch: 5, BCELoss: 0.6552540540695191\n"
     ]
    }
   ],
   "source": [
    "import torch.optim as optim\n",
    "from train.model import LSTMClassifier\n",
    "\n",
    "device = torch.device(\"cuda\" if torch.cuda.is_available() else \"cpu\")\n",
    "model = LSTMClassifier(32, 100, 5000).to(device)\n",
    "optimizer = optim.Adam(model.parameters())\n",
    "loss_fn = torch.nn.BCELoss()\n",
    "\n",
    "train(model, train_sample_dl, 5, optimizer, loss_fn, device)"
   ]
  },
  {
   "cell_type": "markdown",
   "metadata": {},
   "source": [
    "In order to construct a PyTorch model using SageMaker we must provide SageMaker with a training script. We may optionally include a directory which will be copied to the container and from which our training code will be run. When the training container is executed it will check the uploaded directory (if there is one) for a `requirements.txt` file and install any required Python libraries, after which the training script will be run."
   ]
  },
  {
   "cell_type": "markdown",
   "metadata": {},
   "source": [
    "### (TODO) Training the model\n",
    "\n",
    "When a PyTorch model is constructed in SageMaker, an entry point must be specified. This is the Python file which will be executed when the model is trained. Inside of the `train` directory is a file called `train.py` which has been provided and which contains most of the necessary code to train our model. The only thing that is missing is the implementation of the `train()` method which you wrote earlier in this notebook.\n",
    "\n",
    "**TODO**: Copy the `train()` method written above and paste it into the `train/train.py` file where required.\n",
    "\n",
    "The way that SageMaker passes hyperparameters to the training script is by way of arguments. These arguments can then be parsed and used in the training script. To see how this is done take a look at the provided `train/train.py` file."
   ]
  },
  {
   "cell_type": "code",
   "execution_count": 50,
   "metadata": {},
   "outputs": [],
   "source": [
    "from sagemaker.pytorch import PyTorch\n",
    "\n",
    "estimator = PyTorch(entry_point=\"train.py\",\n",
    "                    source_dir=\"train\",\n",
    "                    role=role,\n",
    "                    framework_version='0.4.0',\n",
    "                    train_instance_count=1,\n",
    "                    train_instance_type='ml.p2.xlarge',\n",
    "                    hyperparameters={\n",
    "                        'epochs': 10,\n",
    "                        'hidden_dim': 200,\n",
    "                    })"
   ]
  },
  {
   "cell_type": "code",
   "execution_count": 51,
   "metadata": {},
   "outputs": [
    {
     "name": "stderr",
     "output_type": "stream",
     "text": [
      "'create_image_uri' will be deprecated in favor of 'ImageURIProvider' class in SageMaker Python SDK v2.\n",
      "'s3_input' class will be renamed to 'TrainingInput' in SageMaker Python SDK v2.\n",
      "'create_image_uri' will be deprecated in favor of 'ImageURIProvider' class in SageMaker Python SDK v2.\n"
     ]
    },
    {
     "name": "stdout",
     "output_type": "stream",
     "text": [
      "2021-06-01 03:34:31 Starting - Starting the training job...\n",
      "2021-06-01 03:34:34 Starting - Launching requested ML instances......\n",
      "2021-06-01 03:35:44 Starting - Preparing the instances for training.........\n",
      "2021-06-01 03:37:20 Downloading - Downloading input data...\n",
      "2021-06-01 03:37:56 Training - Downloading the training image....\u001b[34mbash: cannot set terminal process group (-1): Inappropriate ioctl for device\u001b[0m\n",
      "\u001b[34mbash: no job control in this shell\u001b[0m\n",
      "\u001b[34m2021-06-01 03:38:28,861 sagemaker-containers INFO     Imported framework sagemaker_pytorch_container.training\u001b[0m\n",
      "\u001b[34m2021-06-01 03:38:28,889 sagemaker_pytorch_container.training INFO     Block until all host DNS lookups succeed.\u001b[0m\n",
      "\u001b[34m2021-06-01 03:38:28,893 sagemaker_pytorch_container.training INFO     Invoking user training script.\u001b[0m\n",
      "\u001b[34m2021-06-01 03:38:29,166 sagemaker-containers INFO     Module train does not provide a setup.py. \u001b[0m\n",
      "\u001b[34mGenerating setup.py\u001b[0m\n",
      "\u001b[34m2021-06-01 03:38:29,167 sagemaker-containers INFO     Generating setup.cfg\u001b[0m\n",
      "\u001b[34m2021-06-01 03:38:29,167 sagemaker-containers INFO     Generating MANIFEST.in\u001b[0m\n",
      "\u001b[34m2021-06-01 03:38:29,167 sagemaker-containers INFO     Installing module with the following command:\u001b[0m\n",
      "\u001b[34m/usr/bin/python -m pip install -U . -r requirements.txt\u001b[0m\n",
      "\u001b[34mProcessing /opt/ml/code\u001b[0m\n",
      "\u001b[34mCollecting pandas (from -r requirements.txt (line 1))\n",
      "  Downloading https://files.pythonhosted.org/packages/74/24/0cdbf8907e1e3bc5a8da03345c23cbed7044330bb8f73bb12e711a640a00/pandas-0.24.2-cp35-cp35m-manylinux1_x86_64.whl (10.0MB)\u001b[0m\n",
      "\u001b[34mCollecting numpy (from -r requirements.txt (line 2))\u001b[0m\n",
      "\u001b[34m  Downloading https://files.pythonhosted.org/packages/b5/36/88723426b4ff576809fec7d73594fe17a35c27f8d01f93637637a29ae25b/numpy-1.18.5-cp35-cp35m-manylinux1_x86_64.whl (19.9MB)\u001b[0m\n",
      "\u001b[34mCollecting nltk (from -r requirements.txt (line 3))\n",
      "  Downloading https://files.pythonhosted.org/packages/5e/37/9532ddd4b1bbb619333d5708aaad9bf1742f051a664c3c6fa6632a105fd8/nltk-3.6.2-py3-none-any.whl (1.5MB)\u001b[0m\n",
      "\u001b[34mCollecting beautifulsoup4 (from -r requirements.txt (line 4))\n",
      "  Downloading https://files.pythonhosted.org/packages/d1/41/e6495bd7d3781cee623ce23ea6ac73282a373088fcd0ddc809a047b18eae/beautifulsoup4-4.9.3-py3-none-any.whl (115kB)\u001b[0m\n",
      "\u001b[34mCollecting html5lib (from -r requirements.txt (line 5))\n",
      "  Downloading https://files.pythonhosted.org/packages/6c/dd/a834df6482147d48e225a49515aabc28974ad5a4ca3215c18a882565b028/html5lib-1.1-py2.py3-none-any.whl (112kB)\u001b[0m\n",
      "\u001b[34mRequirement already satisfied, skipping upgrade: python-dateutil>=2.5.0 in /usr/local/lib/python3.5/dist-packages (from pandas->-r requirements.txt (line 1)) (2.7.5)\u001b[0m\n",
      "\u001b[34mCollecting pytz>=2011k (from pandas->-r requirements.txt (line 1))\n",
      "  Downloading https://files.pythonhosted.org/packages/70/94/784178ca5dd892a98f113cdd923372024dc04b8d40abe77ca76b5fb90ca6/pytz-2021.1-py2.py3-none-any.whl (510kB)\u001b[0m\n",
      "\u001b[34mCollecting joblib (from nltk->-r requirements.txt (line 3))\n",
      "  Downloading https://files.pythonhosted.org/packages/28/5c/cf6a2b65a321c4a209efcdf64c2689efae2cb62661f8f6f4bb28547cf1bf/joblib-0.14.1-py2.py3-none-any.whl (294kB)\u001b[0m\n",
      "\u001b[34mCollecting regex (from nltk->-r requirements.txt (line 3))\u001b[0m\n",
      "\u001b[34m  Downloading https://files.pythonhosted.org/packages/38/3f/4c42a98c9ad7d08c16e7d23b2194a0e4f3b2914662da8bc88986e4e6de1f/regex-2021.4.4.tar.gz (693kB)\u001b[0m\n",
      "\u001b[34mRequirement already satisfied, skipping upgrade: click in /usr/local/lib/python3.5/dist-packages (from nltk->-r requirements.txt (line 3)) (7.0)\u001b[0m\n",
      "\u001b[34mCollecting tqdm (from nltk->-r requirements.txt (line 3))\n",
      "  Downloading https://files.pythonhosted.org/packages/42/d7/f357d98e9b50346bcb6095fe3ad205d8db3174eb5edb03edfe7c4099576d/tqdm-4.61.0-py2.py3-none-any.whl (75kB)\u001b[0m\n",
      "\u001b[34mCollecting soupsieve>1.2; python_version >= \"3.0\" (from beautifulsoup4->-r requirements.txt (line 4))\n",
      "  Downloading https://files.pythonhosted.org/packages/02/fb/1c65691a9aeb7bd6ac2aa505b84cb8b49ac29c976411c6ab3659425e045f/soupsieve-2.1-py3-none-any.whl\u001b[0m\n",
      "\u001b[34mRequirement already satisfied, skipping upgrade: six>=1.9 in /usr/local/lib/python3.5/dist-packages (from html5lib->-r requirements.txt (line 5)) (1.11.0)\u001b[0m\n",
      "\u001b[34mCollecting webencodings (from html5lib->-r requirements.txt (line 5))\n",
      "  Downloading https://files.pythonhosted.org/packages/f4/24/2a3e3df732393fed8b3ebf2ec078f05546de641fe1b667ee316ec1dcf3b7/webencodings-0.5.1-py2.py3-none-any.whl\u001b[0m\n",
      "\u001b[34mBuilding wheels for collected packages: train, regex\n",
      "  Running setup.py bdist_wheel for train: started\n",
      "  Running setup.py bdist_wheel for train: finished with status 'done'\n",
      "  Stored in directory: /tmp/pip-ephem-wheel-cache-6p9ov5yx/wheels/35/24/16/37574d11bf9bde50616c67372a334f94fa8356bc7164af8ca3\n",
      "  Running setup.py bdist_wheel for regex: started\u001b[0m\n",
      "\u001b[34m  Running setup.py bdist_wheel for regex: finished with status 'done'\n",
      "  Stored in directory: /root/.cache/pip/wheels/c9/05/a8/b85fa0bd7850b99f9b4f106972975f2e3c46412e12f9949b58\u001b[0m\n",
      "\u001b[34mSuccessfully built train regex\u001b[0m\n",
      "\u001b[34mInstalling collected packages: numpy, pytz, pandas, joblib, regex, tqdm, nltk, soupsieve, beautifulsoup4, webencodings, html5lib, train\n",
      "  Found existing installation: numpy 1.15.4\n",
      "    Uninstalling numpy-1.15.4:\u001b[0m\n",
      "\u001b[34m      Successfully uninstalled numpy-1.15.4\u001b[0m\n",
      "\n",
      "2021-06-01 03:38:39 Training - Training image download completed. Training in progress.\u001b[34mSuccessfully installed beautifulsoup4-4.9.3 html5lib-1.1 joblib-0.14.1 nltk-3.6.2 numpy-1.18.5 pandas-0.24.2 pytz-2021.1 regex-2021.4.4 soupsieve-2.1 tqdm-4.61.0 train-1.0.0 webencodings-0.5.1\u001b[0m\n",
      "\u001b[34mYou are using pip version 18.1, however version 20.3.4 is available.\u001b[0m\n",
      "\u001b[34mYou should consider upgrading via the 'pip install --upgrade pip' command.\u001b[0m\n",
      "\u001b[34m2021-06-01 03:38:51,176 sagemaker-containers INFO     Invoking user script\n",
      "\u001b[0m\n",
      "\u001b[34mTraining Env:\n",
      "\u001b[0m\n",
      "\u001b[34m{\n",
      "    \"num_cpus\": 4,\n",
      "    \"user_entry_point\": \"train.py\",\n",
      "    \"current_host\": \"algo-1\",\n",
      "    \"num_gpus\": 1,\n",
      "    \"hyperparameters\": {\n",
      "        \"hidden_dim\": 200,\n",
      "        \"epochs\": 10\n",
      "    },\n",
      "    \"output_data_dir\": \"/opt/ml/output/data\",\n",
      "    \"resource_config\": {\n",
      "        \"current_host\": \"algo-1\",\n",
      "        \"hosts\": [\n",
      "            \"algo-1\"\n",
      "        ],\n",
      "        \"network_interface_name\": \"eth0\"\n",
      "    },\n",
      "    \"input_dir\": \"/opt/ml/input\",\n",
      "    \"framework_module\": \"sagemaker_pytorch_container.training:main\",\n",
      "    \"network_interface_name\": \"eth0\",\n",
      "    \"input_config_dir\": \"/opt/ml/input/config\",\n",
      "    \"hosts\": [\n",
      "        \"algo-1\"\n",
      "    ],\n",
      "    \"output_intermediate_dir\": \"/opt/ml/output/intermediate\",\n",
      "    \"additional_framework_parameters\": {},\n",
      "    \"channel_input_dirs\": {\n",
      "        \"training\": \"/opt/ml/input/data/training\"\n",
      "    },\n",
      "    \"job_name\": \"sagemaker-pytorch-2021-06-01-03-34-31-315\",\n",
      "    \"output_dir\": \"/opt/ml/output\",\n",
      "    \"module_name\": \"train\",\n",
      "    \"module_dir\": \"s3://sagemaker-us-east-1-823434656352/sagemaker-pytorch-2021-06-01-03-34-31-315/source/sourcedir.tar.gz\",\n",
      "    \"input_data_config\": {\n",
      "        \"training\": {\n",
      "            \"S3DistributionType\": \"FullyReplicated\",\n",
      "            \"TrainingInputMode\": \"File\",\n",
      "            \"RecordWrapperType\": \"None\"\n",
      "        }\n",
      "    },\n",
      "    \"log_level\": 20,\n",
      "    \"model_dir\": \"/opt/ml/model\"\u001b[0m\n",
      "\u001b[34m}\n",
      "\u001b[0m\n",
      "\u001b[34mEnvironment variables:\n",
      "\u001b[0m\n",
      "\u001b[34mSM_INPUT_DATA_CONFIG={\"training\":{\"RecordWrapperType\":\"None\",\"S3DistributionType\":\"FullyReplicated\",\"TrainingInputMode\":\"File\"}}\u001b[0m\n",
      "\u001b[34mSM_MODULE_NAME=train\u001b[0m\n",
      "\u001b[34mSM_OUTPUT_DIR=/opt/ml/output\u001b[0m\n",
      "\u001b[34mSM_MODULE_DIR=s3://sagemaker-us-east-1-823434656352/sagemaker-pytorch-2021-06-01-03-34-31-315/source/sourcedir.tar.gz\u001b[0m\n",
      "\u001b[34mSM_HPS={\"epochs\":10,\"hidden_dim\":200}\u001b[0m\n",
      "\u001b[34mSM_MODEL_DIR=/opt/ml/model\u001b[0m\n",
      "\u001b[34mPYTHONPATH=/usr/local/bin:/usr/lib/python35.zip:/usr/lib/python3.5:/usr/lib/python3.5/plat-x86_64-linux-gnu:/usr/lib/python3.5/lib-dynload:/usr/local/lib/python3.5/dist-packages:/usr/lib/python3/dist-packages\u001b[0m\n",
      "\u001b[34mSM_NUM_CPUS=4\u001b[0m\n",
      "\u001b[34mSM_RESOURCE_CONFIG={\"current_host\":\"algo-1\",\"hosts\":[\"algo-1\"],\"network_interface_name\":\"eth0\"}\u001b[0m\n",
      "\u001b[34mSM_HOSTS=[\"algo-1\"]\u001b[0m\n",
      "\u001b[34mSM_USER_ENTRY_POINT=train.py\u001b[0m\n",
      "\u001b[34mSM_HP_EPOCHS=10\u001b[0m\n",
      "\u001b[34mSM_INPUT_CONFIG_DIR=/opt/ml/input/config\u001b[0m\n",
      "\u001b[34mSM_USER_ARGS=[\"--epochs\",\"10\",\"--hidden_dim\",\"200\"]\u001b[0m\n",
      "\u001b[34mSM_OUTPUT_INTERMEDIATE_DIR=/opt/ml/output/intermediate\u001b[0m\n",
      "\u001b[34mSM_HP_HIDDEN_DIM=200\u001b[0m\n",
      "\u001b[34mSM_FRAMEWORK_MODULE=sagemaker_pytorch_container.training:main\u001b[0m\n",
      "\u001b[34mSM_CHANNELS=[\"training\"]\u001b[0m\n",
      "\u001b[34mSM_CURRENT_HOST=algo-1\u001b[0m\n",
      "\u001b[34mSM_OUTPUT_DATA_DIR=/opt/ml/output/data\u001b[0m\n",
      "\u001b[34mSM_INPUT_DIR=/opt/ml/input\u001b[0m\n",
      "\u001b[34mSM_FRAMEWORK_PARAMS={}\u001b[0m\n",
      "\u001b[34mSM_NETWORK_INTERFACE_NAME=eth0\u001b[0m\n",
      "\u001b[34mSM_TRAINING_ENV={\"additional_framework_parameters\":{},\"channel_input_dirs\":{\"training\":\"/opt/ml/input/data/training\"},\"current_host\":\"algo-1\",\"framework_module\":\"sagemaker_pytorch_container.training:main\",\"hosts\":[\"algo-1\"],\"hyperparameters\":{\"epochs\":10,\"hidden_dim\":200},\"input_config_dir\":\"/opt/ml/input/config\",\"input_data_config\":{\"training\":{\"RecordWrapperType\":\"None\",\"S3DistributionType\":\"FullyReplicated\",\"TrainingInputMode\":\"File\"}},\"input_dir\":\"/opt/ml/input\",\"job_name\":\"sagemaker-pytorch-2021-06-01-03-34-31-315\",\"log_level\":20,\"model_dir\":\"/opt/ml/model\",\"module_dir\":\"s3://sagemaker-us-east-1-823434656352/sagemaker-pytorch-2021-06-01-03-34-31-315/source/sourcedir.tar.gz\",\"module_name\":\"train\",\"network_interface_name\":\"eth0\",\"num_cpus\":4,\"num_gpus\":1,\"output_data_dir\":\"/opt/ml/output/data\",\"output_dir\":\"/opt/ml/output\",\"output_intermediate_dir\":\"/opt/ml/output/intermediate\",\"resource_config\":{\"current_host\":\"algo-1\",\"hosts\":[\"algo-1\"],\"network_interface_name\":\"eth0\"},\"user_entry_point\":\"train.py\"}\u001b[0m\n",
      "\u001b[34mSM_LOG_LEVEL=20\u001b[0m\n",
      "\u001b[34mSM_CHANNEL_TRAINING=/opt/ml/input/data/training\u001b[0m\n",
      "\u001b[34mSM_NUM_GPUS=1\n",
      "\u001b[0m\n",
      "\u001b[34mInvoking script with the following command:\n",
      "\u001b[0m\n",
      "\u001b[34m/usr/bin/python -m train --epochs 10 --hidden_dim 200\n",
      "\n",
      "\u001b[0m\n",
      "\u001b[34mUsing device cuda.\u001b[0m\n",
      "\u001b[34mGet train data loader.\u001b[0m\n",
      "\u001b[34mModel loaded with embedding_dim 32, hidden_dim 200, vocab_size 5000.\u001b[0m\n",
      "\u001b[34mEpoch: 1, BCELoss: 0.6564794073299486\u001b[0m\n",
      "\u001b[34mEpoch: 2, BCELoss: 0.5790149606004054\u001b[0m\n",
      "\u001b[34mEpoch: 3, BCELoss: 0.49874406748888445\u001b[0m\n",
      "\u001b[34mEpoch: 4, BCELoss: 0.43886882188368814\u001b[0m\n",
      "\u001b[34mEpoch: 5, BCELoss: 0.3988646335747777\u001b[0m\n",
      "\u001b[34mEpoch: 6, BCELoss: 0.38832581286527673\u001b[0m\n",
      "\u001b[34mEpoch: 7, BCELoss: 0.3939316418706154\u001b[0m\n",
      "\u001b[34mEpoch: 8, BCELoss: 0.3381400357703773\u001b[0m\n",
      "\u001b[34mEpoch: 9, BCELoss: 0.30611241289547514\u001b[0m\n",
      "\u001b[34mEpoch: 10, BCELoss: 0.29181242323651607\u001b[0m\n",
      "\u001b[34m2021-06-01 03:41:47,941 sagemaker-containers INFO     Reporting training SUCCESS\u001b[0m\n",
      "\n",
      "2021-06-01 03:41:59 Uploading - Uploading generated training model\n",
      "2021-06-01 03:41:59 Completed - Training job completed\n",
      "Training seconds: 279\n",
      "Billable seconds: 279\n"
     ]
    }
   ],
   "source": [
    "estimator.fit({'training': input_data})"
   ]
  },
  {
   "cell_type": "markdown",
   "metadata": {},
   "source": [
    "## Step 5: Testing the model\n",
    "\n",
    "As mentioned at the top of this notebook, we will be testing this model by first deploying it and then sending the testing data to the deployed endpoint. We will do this so that we can make sure that the deployed model is working correctly.\n",
    "\n",
    "## Step 6: Deploy the model for testing\n",
    "\n",
    "Now that we have trained our model, we would like to test it to see how it performs. Currently our model takes input of the form `review_length, review[500]` where `review[500]` is a sequence of `500` integers which describe the words present in the review, encoded using `word_dict`. Fortunately for us, SageMaker provides built-in inference code for models with simple inputs such as this.\n",
    "\n",
    "There is one thing that we need to provide, however, and that is a function which loads the saved model. This function must be called `model_fn()` and takes as its only parameter a path to the directory where the model artifacts are stored. This function must also be present in the python file which we specified as the entry point. In our case the model loading function has been provided and so no changes need to be made.\n",
    "\n",
    "**NOTE**: When the built-in inference code is run it must import the `model_fn()` method from the `train.py` file. This is why the training code is wrapped in a main guard ( ie, `if __name__ == '__main__':` )\n",
    "\n",
    "Since we don't need to change anything in the code that was uploaded during training, we can simply deploy the current model as-is.\n",
    "\n",
    "**NOTE:** When deploying a model you are asking SageMaker to launch an compute instance that will wait for data to be sent to it. As a result, this compute instance will continue to run until *you* shut it down. This is important to know since the cost of a deployed endpoint depends on how long it has been running for.\n",
    "\n",
    "In other words **If you are no longer using a deployed endpoint, shut it down!**\n",
    "\n",
    "**TODO:** Deploy the trained model."
   ]
  },
  {
   "cell_type": "code",
   "execution_count": 53,
   "metadata": {},
   "outputs": [
    {
     "name": "stderr",
     "output_type": "stream",
     "text": [
      "Parameter image will be renamed to image_uri in SageMaker Python SDK v2.\n",
      "'create_image_uri' will be deprecated in favor of 'ImageURIProvider' class in SageMaker Python SDK v2.\n"
     ]
    },
    {
     "name": "stdout",
     "output_type": "stream",
     "text": [
      "---------------!"
     ]
    }
   ],
   "source": [
    "# TODO: Deploy the trained model\n",
    "\n",
    "pytorch_predictor = estimator.deploy(initial_instance_count=1, instance_type='ml.m4.xlarge')"
   ]
  },
  {
   "cell_type": "markdown",
   "metadata": {},
   "source": [
    "## Step 7 - Use the model for testing\n",
    "\n",
    "Once deployed, we can read in the test data and send it off to our deployed model to get some results. Once we collect all of the results we can determine how accurate our model is."
   ]
  },
  {
   "cell_type": "code",
   "execution_count": 41,
   "metadata": {},
   "outputs": [],
   "source": [
    "test_X = pd.concat([pd.DataFrame(test_X_len), pd.DataFrame(test_X)], axis=1)"
   ]
  },
  {
   "cell_type": "code",
   "execution_count": 42,
   "metadata": {},
   "outputs": [],
   "source": [
    "# We split the data into chunks and send each chunk seperately, accumulating the results.\n",
    "\n",
    "def predict(data, rows=512):\n",
    "    split_array = np.array_split(data, int(data.shape[0] / float(rows) + 1))\n",
    "    predictions = np.array([])\n",
    "    for array in split_array:\n",
    "        predictions = np.append(predictions, pytorch_predictor.predict(array))\n",
    "    \n",
    "    return predictions"
   ]
  },
  {
   "cell_type": "code",
   "execution_count": 43,
   "metadata": {},
   "outputs": [],
   "source": [
    "predictions = predict(test_X.values)\n",
    "predictions = [round(num) for num in predictions]"
   ]
  },
  {
   "cell_type": "code",
   "execution_count": 44,
   "metadata": {},
   "outputs": [
    {
     "data": {
      "text/plain": [
       "0.84748"
      ]
     },
     "execution_count": 44,
     "metadata": {},
     "output_type": "execute_result"
    }
   ],
   "source": [
    "from sklearn.metrics import accuracy_score\n",
    "accuracy_score(test_y, predictions)"
   ]
  },
  {
   "cell_type": "markdown",
   "metadata": {},
   "source": [
    "**Question:** How does this model compare to the XGBoost model you created earlier? Why might these two models perform differently on this dataset? Which do *you* think is better for sentiment analysis?"
   ]
  },
  {
   "cell_type": "markdown",
   "metadata": {},
   "source": [
    "**Answer:** From the performance point of view, it's difficult to figure out which model (PyTorch or XGBoost) is better. The approach of each model is quite different. The XGBoost model uses boosting approach (the better hyperparameters fit, the better model performance is), whereas the PyTorch one uses LSTM-RNN (recurrent neural network) approach. To make a conclusion on what model performs worse on this dataset, it's neccesary to define and analyze the poorest samples of each model.\n",
    "As for me, PyTorch is better for solving tasks like sentiment analysis using advanced ML solutions, such as RNN, CNN and so on."
   ]
  },
  {
   "cell_type": "markdown",
   "metadata": {},
   "source": [
    "### (TODO) More testing\n",
    "\n",
    "We now have a trained model which has been deployed and which we can send processed reviews to and which returns the predicted sentiment. However, ultimately we would like to be able to send our model an unprocessed review. That is, we would like to send the review itself as a string. For example, suppose we wish to send the following review to our model."
   ]
  },
  {
   "cell_type": "code",
   "execution_count": 45,
   "metadata": {},
   "outputs": [],
   "source": [
    "test_review = 'The simplest pleasures in life are the best, and this film is one of them. Combining a rather basic storyline of love and adventure this movie transcends the usual weekend fair with wit and unmitigated charm.'\n",
    "\n",
    "#test_review = 'This movie is awesome! It is kinda an energy drink for my heart! I would recommend it to all who wannabe naturally energized and get ready to broaden new horizons! '"
   ]
  },
  {
   "cell_type": "markdown",
   "metadata": {},
   "source": [
    "The question we now need to answer is, how do we send this review to our model?\n",
    "\n",
    "Recall in the first section of this notebook we did a bunch of data processing to the IMDb dataset. In particular, we did two specific things to the provided reviews.\n",
    " - Removed any html tags and stemmed the input\n",
    " - Encoded the review as a sequence of integers using `word_dict`\n",
    " \n",
    "In order process the review we will need to repeat these two steps.\n",
    "\n",
    "**TODO**: Using the `review_to_words` and `convert_and_pad` methods from section one, convert `test_review` into a numpy array `test_data` suitable to send to our model. Remember that our model expects input of the form `review_length, review[500]`."
   ]
  },
  {
   "cell_type": "code",
   "execution_count": 46,
   "metadata": {},
   "outputs": [],
   "source": [
    "# TODO: Convert test_review into a form usable by the model and save the results in test_data\n",
    "test_data = None\n",
    "\n",
    "test_data = review_to_words(test_review)\n",
    "test_data, test_data_len = convert_and_pad(word_dict, test_data)\n",
    "\n",
    "test_data = np.hstack((test_data_len, test_data))\n",
    "test_data = test_data.reshape(1, -1)"
   ]
  },
  {
   "cell_type": "markdown",
   "metadata": {},
   "source": [
    "Now that we have processed the review, we can send the resulting array to our model to predict the sentiment of the review."
   ]
  },
  {
   "cell_type": "code",
   "execution_count": 47,
   "metadata": {},
   "outputs": [
    {
     "data": {
      "text/plain": [
       "array(0.86181986, dtype=float32)"
      ]
     },
     "execution_count": 47,
     "metadata": {},
     "output_type": "execute_result"
    }
   ],
   "source": [
    "#predictor.predict(test_data)\n",
    "\n",
    "pytorch_predictor.predict(test_data)"
   ]
  },
  {
   "cell_type": "markdown",
   "metadata": {},
   "source": [
    "Since the return value of our model is close to `1`, we can be certain that the review we submitted is positive."
   ]
  },
  {
   "cell_type": "markdown",
   "metadata": {},
   "source": [
    "### Delete the endpoint\n",
    "\n",
    "Of course, just like in the XGBoost notebook, once we've deployed an endpoint it continues to run until we tell it to shut down. Since we are done using our endpoint for now, we can delete it."
   ]
  },
  {
   "cell_type": "code",
   "execution_count": 54,
   "metadata": {},
   "outputs": [
    {
     "name": "stderr",
     "output_type": "stream",
     "text": [
      "estimator.delete_endpoint() will be deprecated in SageMaker Python SDK v2. Please use the delete_endpoint() function on your predictor instead.\n"
     ]
    }
   ],
   "source": [
    "estimator.delete_endpoint()"
   ]
  },
  {
   "cell_type": "markdown",
   "metadata": {},
   "source": [
    "## Step 6 (again) - Deploy the model for the web app\n",
    "\n",
    "Now that we know that our model is working, it's time to create some custom inference code so that we can send the model a review which has not been processed and have it determine the sentiment of the review.\n",
    "\n",
    "As we saw above, by default the estimator which we created, when deployed, will use the entry script and directory which we provided when creating the model. However, since we now wish to accept a string as input and our model expects a processed review, we need to write some custom inference code.\n",
    "\n",
    "We will store the code that we write in the `serve` directory. Provided in this directory is the `model.py` file that we used to construct our model, a `utils.py` file which contains the `review_to_words` and `convert_and_pad` pre-processing functions which we used during the initial data processing, and `predict.py`, the file which will contain our custom inference code. Note also that `requirements.txt` is present which will tell SageMaker what Python libraries are required by our custom inference code.\n",
    "\n",
    "When deploying a PyTorch model in SageMaker, you are expected to provide four functions which the SageMaker inference container will use.\n",
    " - `model_fn`: This function is the same function that we used in the training script and it tells SageMaker how to load our model.\n",
    " - `input_fn`: This function receives the raw serialized input that has been sent to the model's endpoint and its job is to de-serialize and make the input available for the inference code.\n",
    " - `output_fn`: This function takes the output of the inference code and its job is to serialize this output and return it to the caller of the model's endpoint.\n",
    " - `predict_fn`: The heart of the inference script, this is where the actual prediction is done and is the function which you will need to complete.\n",
    "\n",
    "For the simple website that we are constructing during this project, the `input_fn` and `output_fn` methods are relatively straightforward. We only require being able to accept a string as input and we expect to return a single value as output. You might imagine though that in a more complex application the input or output may be image data or some other binary data which would require some effort to serialize.\n",
    "\n",
    "### (TODO) Writing inference code\n",
    "\n",
    "Before writing our custom inference code, we will begin by taking a look at the code which has been provided."
   ]
  },
  {
   "cell_type": "code",
   "execution_count": 56,
   "metadata": {},
   "outputs": [
    {
     "name": "stdout",
     "output_type": "stream",
     "text": [
      "\u001b[34mimport\u001b[39;49;00m \u001b[04m\u001b[36margparse\u001b[39;49;00m\r\n",
      "\u001b[34mimport\u001b[39;49;00m \u001b[04m\u001b[36mjson\u001b[39;49;00m\r\n",
      "\u001b[34mimport\u001b[39;49;00m \u001b[04m\u001b[36mos\u001b[39;49;00m\r\n",
      "\u001b[34mimport\u001b[39;49;00m \u001b[04m\u001b[36mpickle\u001b[39;49;00m\r\n",
      "\u001b[34mimport\u001b[39;49;00m \u001b[04m\u001b[36msys\u001b[39;49;00m\r\n",
      "\u001b[34mimport\u001b[39;49;00m \u001b[04m\u001b[36msagemaker_containers\u001b[39;49;00m\r\n",
      "\u001b[34mimport\u001b[39;49;00m \u001b[04m\u001b[36mpandas\u001b[39;49;00m \u001b[34mas\u001b[39;49;00m \u001b[04m\u001b[36mpd\u001b[39;49;00m\r\n",
      "\u001b[34mimport\u001b[39;49;00m \u001b[04m\u001b[36mnumpy\u001b[39;49;00m \u001b[34mas\u001b[39;49;00m \u001b[04m\u001b[36mnp\u001b[39;49;00m\r\n",
      "\u001b[34mimport\u001b[39;49;00m \u001b[04m\u001b[36mtorch\u001b[39;49;00m\r\n",
      "\u001b[34mimport\u001b[39;49;00m \u001b[04m\u001b[36mtorch\u001b[39;49;00m\u001b[04m\u001b[36m.\u001b[39;49;00m\u001b[04m\u001b[36mnn\u001b[39;49;00m \u001b[34mas\u001b[39;49;00m \u001b[04m\u001b[36mnn\u001b[39;49;00m\r\n",
      "\u001b[34mimport\u001b[39;49;00m \u001b[04m\u001b[36mtorch\u001b[39;49;00m\u001b[04m\u001b[36m.\u001b[39;49;00m\u001b[04m\u001b[36moptim\u001b[39;49;00m \u001b[34mas\u001b[39;49;00m \u001b[04m\u001b[36moptim\u001b[39;49;00m\r\n",
      "\u001b[34mimport\u001b[39;49;00m \u001b[04m\u001b[36mtorch\u001b[39;49;00m\u001b[04m\u001b[36m.\u001b[39;49;00m\u001b[04m\u001b[36mutils\u001b[39;49;00m\u001b[04m\u001b[36m.\u001b[39;49;00m\u001b[04m\u001b[36mdata\u001b[39;49;00m\r\n",
      "\r\n",
      "\u001b[34mfrom\u001b[39;49;00m \u001b[04m\u001b[36mmodel\u001b[39;49;00m \u001b[34mimport\u001b[39;49;00m LSTMClassifier\r\n",
      "\r\n",
      "\u001b[34mfrom\u001b[39;49;00m \u001b[04m\u001b[36mutils\u001b[39;49;00m \u001b[34mimport\u001b[39;49;00m review_to_words, convert_and_pad\r\n",
      "\r\n",
      "\u001b[34mdef\u001b[39;49;00m \u001b[32mmodel_fn\u001b[39;49;00m(model_dir):\r\n",
      "    \u001b[33m\"\"\"Load the PyTorch model from the `model_dir` directory.\"\"\"\u001b[39;49;00m\r\n",
      "    \u001b[36mprint\u001b[39;49;00m(\u001b[33m\"\u001b[39;49;00m\u001b[33mLoading model.\u001b[39;49;00m\u001b[33m\"\u001b[39;49;00m)\r\n",
      "\r\n",
      "    \u001b[37m# First, load the parameters used to create the model.\u001b[39;49;00m\r\n",
      "    model_info = {}\r\n",
      "    model_info_path = os.path.join(model_dir, \u001b[33m'\u001b[39;49;00m\u001b[33mmodel_info.pth\u001b[39;49;00m\u001b[33m'\u001b[39;49;00m)\r\n",
      "    \u001b[34mwith\u001b[39;49;00m \u001b[36mopen\u001b[39;49;00m(model_info_path, \u001b[33m'\u001b[39;49;00m\u001b[33mrb\u001b[39;49;00m\u001b[33m'\u001b[39;49;00m) \u001b[34mas\u001b[39;49;00m f:\r\n",
      "        model_info = torch.load(f)\r\n",
      "\r\n",
      "    \u001b[36mprint\u001b[39;49;00m(\u001b[33m\"\u001b[39;49;00m\u001b[33mmodel_info: \u001b[39;49;00m\u001b[33m{}\u001b[39;49;00m\u001b[33m\"\u001b[39;49;00m.format(model_info))\r\n",
      "\r\n",
      "    \u001b[37m# Determine the device and construct the model.\u001b[39;49;00m\r\n",
      "    device = torch.device(\u001b[33m\"\u001b[39;49;00m\u001b[33mcuda\u001b[39;49;00m\u001b[33m\"\u001b[39;49;00m \u001b[34mif\u001b[39;49;00m torch.cuda.is_available() \u001b[34melse\u001b[39;49;00m \u001b[33m\"\u001b[39;49;00m\u001b[33mcpu\u001b[39;49;00m\u001b[33m\"\u001b[39;49;00m)\r\n",
      "    model = LSTMClassifier(model_info[\u001b[33m'\u001b[39;49;00m\u001b[33membedding_dim\u001b[39;49;00m\u001b[33m'\u001b[39;49;00m], model_info[\u001b[33m'\u001b[39;49;00m\u001b[33mhidden_dim\u001b[39;49;00m\u001b[33m'\u001b[39;49;00m], model_info[\u001b[33m'\u001b[39;49;00m\u001b[33mvocab_size\u001b[39;49;00m\u001b[33m'\u001b[39;49;00m])\r\n",
      "\r\n",
      "    \u001b[37m# Load the store model parameters.\u001b[39;49;00m\r\n",
      "    model_path = os.path.join(model_dir, \u001b[33m'\u001b[39;49;00m\u001b[33mmodel.pth\u001b[39;49;00m\u001b[33m'\u001b[39;49;00m)\r\n",
      "    \u001b[34mwith\u001b[39;49;00m \u001b[36mopen\u001b[39;49;00m(model_path, \u001b[33m'\u001b[39;49;00m\u001b[33mrb\u001b[39;49;00m\u001b[33m'\u001b[39;49;00m) \u001b[34mas\u001b[39;49;00m f:\r\n",
      "        model.load_state_dict(torch.load(f))\r\n",
      "\r\n",
      "    \u001b[37m# Load the saved word_dict.\u001b[39;49;00m\r\n",
      "    word_dict_path = os.path.join(model_dir, \u001b[33m'\u001b[39;49;00m\u001b[33mword_dict.pkl\u001b[39;49;00m\u001b[33m'\u001b[39;49;00m)\r\n",
      "    \u001b[34mwith\u001b[39;49;00m \u001b[36mopen\u001b[39;49;00m(word_dict_path, \u001b[33m'\u001b[39;49;00m\u001b[33mrb\u001b[39;49;00m\u001b[33m'\u001b[39;49;00m) \u001b[34mas\u001b[39;49;00m f:\r\n",
      "        model.word_dict = pickle.load(f)\r\n",
      "\r\n",
      "    model.to(device).eval()\r\n",
      "\r\n",
      "    \u001b[36mprint\u001b[39;49;00m(\u001b[33m\"\u001b[39;49;00m\u001b[33mDone loading model.\u001b[39;49;00m\u001b[33m\"\u001b[39;49;00m)\r\n",
      "    \u001b[34mreturn\u001b[39;49;00m model\r\n",
      "\r\n",
      "\u001b[34mdef\u001b[39;49;00m \u001b[32minput_fn\u001b[39;49;00m(serialized_input_data, content_type):\r\n",
      "    \u001b[36mprint\u001b[39;49;00m(\u001b[33m'\u001b[39;49;00m\u001b[33mDeserializing the input data.\u001b[39;49;00m\u001b[33m'\u001b[39;49;00m)\r\n",
      "    \u001b[34mif\u001b[39;49;00m content_type == \u001b[33m'\u001b[39;49;00m\u001b[33mtext/plain\u001b[39;49;00m\u001b[33m'\u001b[39;49;00m:\r\n",
      "        data = serialized_input_data.decode(\u001b[33m'\u001b[39;49;00m\u001b[33mutf-8\u001b[39;49;00m\u001b[33m'\u001b[39;49;00m)\r\n",
      "        \u001b[34mreturn\u001b[39;49;00m data\r\n",
      "    \u001b[34mraise\u001b[39;49;00m \u001b[36mException\u001b[39;49;00m(\u001b[33m'\u001b[39;49;00m\u001b[33mRequested unsupported ContentType in content_type: \u001b[39;49;00m\u001b[33m'\u001b[39;49;00m + content_type)\r\n",
      "\r\n",
      "\u001b[34mdef\u001b[39;49;00m \u001b[32moutput_fn\u001b[39;49;00m(prediction_output, accept):\r\n",
      "    \u001b[36mprint\u001b[39;49;00m(\u001b[33m'\u001b[39;49;00m\u001b[33mSerializing the generated output.\u001b[39;49;00m\u001b[33m'\u001b[39;49;00m)\r\n",
      "    \u001b[34mreturn\u001b[39;49;00m \u001b[36mstr\u001b[39;49;00m(prediction_output)\r\n",
      "\r\n",
      "\u001b[34mdef\u001b[39;49;00m \u001b[32mpredict_fn\u001b[39;49;00m(input_data, model):\r\n",
      "    \u001b[36mprint\u001b[39;49;00m(\u001b[33m'\u001b[39;49;00m\u001b[33mInferring sentiment of input data.\u001b[39;49;00m\u001b[33m'\u001b[39;49;00m)\r\n",
      "\r\n",
      "    device = torch.device(\u001b[33m\"\u001b[39;49;00m\u001b[33mcuda\u001b[39;49;00m\u001b[33m\"\u001b[39;49;00m \u001b[34mif\u001b[39;49;00m torch.cuda.is_available() \u001b[34melse\u001b[39;49;00m \u001b[33m\"\u001b[39;49;00m\u001b[33mcpu\u001b[39;49;00m\u001b[33m\"\u001b[39;49;00m)\r\n",
      "    \r\n",
      "    \u001b[34mif\u001b[39;49;00m model.word_dict \u001b[35mis\u001b[39;49;00m \u001b[34mNone\u001b[39;49;00m:\r\n",
      "        \u001b[34mraise\u001b[39;49;00m \u001b[36mException\u001b[39;49;00m(\u001b[33m'\u001b[39;49;00m\u001b[33mModel has not been loaded properly, no word_dict.\u001b[39;49;00m\u001b[33m'\u001b[39;49;00m)\r\n",
      "    \r\n",
      "    \u001b[37m# TODO: Process input_data so that it is ready to be sent to our model.\u001b[39;49;00m\r\n",
      "    \u001b[37m#       You should produce two variables:\u001b[39;49;00m\r\n",
      "    \u001b[37m#         data_X   - A sequence of length 500 which represents the converted review\u001b[39;49;00m\r\n",
      "    \u001b[37m#         data_len - The length of the review\u001b[39;49;00m\r\n",
      "\r\n",
      "    data_X = \u001b[34mNone\u001b[39;49;00m\r\n",
      "    data_len = \u001b[34mNone\u001b[39;49;00m\r\n",
      "    \r\n",
      "    \u001b[37m# ★　added_start\u001b[39;49;00m\r\n",
      "    data_X = review_to_words(input_data) \u001b[37m# review and tokenize each word of input_data\u001b[39;49;00m\r\n",
      "    data_X, data_len = convert_and_pad(model.word_dict, data_X) \u001b[37m# transform each word found in data_X into integers\u001b[39;49;00m\r\n",
      "    \u001b[37m# ★　added_end\u001b[39;49;00m\r\n",
      "    \r\n",
      "\r\n",
      "    \u001b[37m# Using data_X and data_len we construct an appropriate input tensor. Remember\u001b[39;49;00m\r\n",
      "    \u001b[37m# that our model expects input data of the form 'len, review[500]'.\u001b[39;49;00m\r\n",
      "    data_pack = np.hstack((data_len, data_X))\r\n",
      "    data_pack = data_pack.reshape(\u001b[34m1\u001b[39;49;00m, -\u001b[34m1\u001b[39;49;00m)\r\n",
      "    \r\n",
      "    data = torch.from_numpy(data_pack)\r\n",
      "    data = data.to(device)\r\n",
      "\r\n",
      "    \u001b[37m# Make sure to put the model into evaluation mode\u001b[39;49;00m\r\n",
      "    model.eval()\r\n",
      "\r\n",
      "    \u001b[37m# TODO: Compute the result of applying the model to the input data. The variable `result` should\u001b[39;49;00m\r\n",
      "    \u001b[37m#       be a numpy array which contains a single integer which is either 1 or 0\u001b[39;49;00m\r\n",
      "\r\n",
      "    result = \u001b[34mNone\u001b[39;49;00m\r\n",
      "    \r\n",
      "    \u001b[37m# ★　added_start\u001b[39;49;00m\r\n",
      "    result = (model(data).data).cpu().numpy().round()\r\n",
      "    \u001b[37m# ★　added_end\u001b[39;49;00m\r\n",
      "\r\n",
      "    \u001b[34mreturn\u001b[39;49;00m result\r\n"
     ]
    }
   ],
   "source": [
    "!pygmentize serve/predict.py"
   ]
  },
  {
   "cell_type": "markdown",
   "metadata": {},
   "source": [
    "As mentioned earlier, the `model_fn` method is the same as the one provided in the training code and the `input_fn` and `output_fn` methods are very simple and your task will be to complete the `predict_fn` method. Make sure that you save the completed file as `predict.py` in the `serve` directory.\n",
    "\n",
    "**TODO**: Complete the `predict_fn()` method in the `serve/predict.py` file."
   ]
  },
  {
   "cell_type": "markdown",
   "metadata": {},
   "source": [
    "### Deploying the model\n",
    "\n",
    "Now that the custom inference code has been written, we will create and deploy our model. To begin with, we need to construct a new PyTorchModel object which points to the model artifacts created during training and also points to the inference code that we wish to use. Then we can call the deploy method to launch the deployment container.\n",
    "\n",
    "**NOTE**: The default behaviour for a deployed PyTorch model is to assume that any input passed to the predictor is a `numpy` array. In our case we want to send a string so we need to construct a simple wrapper around the `RealTimePredictor` class to accomodate simple strings. In a more complicated situation you may want to provide a serialization object, for example if you wanted to sent image data."
   ]
  },
  {
   "cell_type": "code",
   "execution_count": 57,
   "metadata": {},
   "outputs": [
    {
     "name": "stderr",
     "output_type": "stream",
     "text": [
      "Parameter image will be renamed to image_uri in SageMaker Python SDK v2.\n",
      "'create_image_uri' will be deprecated in favor of 'ImageURIProvider' class in SageMaker Python SDK v2.\n"
     ]
    },
    {
     "name": "stdout",
     "output_type": "stream",
     "text": [
      "-----------------!"
     ]
    }
   ],
   "source": [
    "from sagemaker.predictor import RealTimePredictor\n",
    "from sagemaker.pytorch import PyTorchModel\n",
    "\n",
    "class StringPredictor(RealTimePredictor):\n",
    "    def __init__(self, endpoint_name, sagemaker_session):\n",
    "        super(StringPredictor, self).__init__(endpoint_name, sagemaker_session, content_type='text/plain')\n",
    "\n",
    "model = PyTorchModel(model_data=estimator.model_data,\n",
    "                     role = role,\n",
    "                     framework_version='0.4.0',\n",
    "                     entry_point='predict.py',\n",
    "                     source_dir='serve',\n",
    "                     predictor_cls=StringPredictor)\n",
    "predictor = model.deploy(initial_instance_count=1, instance_type='ml.m4.xlarge')"
   ]
  },
  {
   "cell_type": "markdown",
   "metadata": {},
   "source": [
    "### Testing the model\n",
    "\n",
    "Now that we have deployed our model with the custom inference code, we should test to see if everything is working. Here we test our model by loading the first `250` positive and negative reviews and send them to the endpoint, then collect the results. The reason for only sending some of the data is that the amount of time it takes for our model to process the input and then perform inference is quite long and so testing the entire data set would be prohibitive."
   ]
  },
  {
   "cell_type": "code",
   "execution_count": 58,
   "metadata": {},
   "outputs": [],
   "source": [
    "import glob\n",
    "\n",
    "def test_reviews(data_dir='../data/aclImdb', stop=250):\n",
    "    \n",
    "    results = []\n",
    "    ground = []\n",
    "    \n",
    "    # We make sure to test both positive and negative reviews    \n",
    "    for sentiment in ['pos', 'neg']:\n",
    "        \n",
    "        path = os.path.join(data_dir, 'test', sentiment, '*.txt')\n",
    "        files = glob.glob(path)\n",
    "        \n",
    "        files_read = 0\n",
    "        \n",
    "        print('Starting ', sentiment, ' files')\n",
    "        \n",
    "        # Iterate through the files and send them to the predictor\n",
    "        for f in files:\n",
    "            with open(f) as review:\n",
    "                # First, we store the ground truth (was the review positive or negative)\n",
    "                if sentiment == 'pos':\n",
    "                    ground.append(1)\n",
    "                else:\n",
    "                    ground.append(0)\n",
    "                # Read in the review and convert to 'utf-8' for transmission via HTTP\n",
    "                review_input = review.read().encode('utf-8')\n",
    "                # Send the review to the predictor and store the results\n",
    "                results.append(float(predictor.predict(review_input)))\n",
    "                \n",
    "            # Sending reviews to our endpoint one at a time takes a while so we\n",
    "            # only send a small number of reviews\n",
    "            files_read += 1\n",
    "            if files_read == stop:\n",
    "                break\n",
    "            \n",
    "    return ground, results"
   ]
  },
  {
   "cell_type": "code",
   "execution_count": 59,
   "metadata": {},
   "outputs": [
    {
     "data": {
      "text/plain": [
       "'/home/ec2-user/SageMaker/sagemaker-deployment/Project'"
      ]
     },
     "execution_count": 59,
     "metadata": {},
     "output_type": "execute_result"
    }
   ],
   "source": [
    "pwd"
   ]
  },
  {
   "cell_type": "code",
   "execution_count": 60,
   "metadata": {},
   "outputs": [
    {
     "name": "stdout",
     "output_type": "stream",
     "text": [
      "Requirement already satisfied: pandas in /home/ec2-user/anaconda3/envs/pytorch_p36/lib/python3.6/site-packages (from -r ./serve/requirements.txt (line 1)) (1.1.5)\n",
      "Requirement already satisfied: numpy in /home/ec2-user/anaconda3/envs/pytorch_p36/lib/python3.6/site-packages (from -r ./serve/requirements.txt (line 2)) (1.19.5)\n",
      "Requirement already satisfied: nltk in /home/ec2-user/anaconda3/envs/pytorch_p36/lib/python3.6/site-packages (from -r ./serve/requirements.txt (line 3)) (3.4.4)\n",
      "Requirement already satisfied: beautifulsoup4 in /home/ec2-user/anaconda3/envs/pytorch_p36/lib/python3.6/site-packages (from -r ./serve/requirements.txt (line 4)) (4.9.3)\n",
      "Requirement already satisfied: html5lib in /home/ec2-user/anaconda3/envs/pytorch_p36/lib/python3.6/site-packages (from -r ./serve/requirements.txt (line 5)) (1.1)\n",
      "Requirement already satisfied: soupsieve>1.2 in /home/ec2-user/anaconda3/envs/pytorch_p36/lib/python3.6/site-packages (from beautifulsoup4->-r ./serve/requirements.txt (line 4)) (2.0.1)\n",
      "Requirement already satisfied: six>=1.9 in /home/ec2-user/anaconda3/envs/pytorch_p36/lib/python3.6/site-packages (from html5lib->-r ./serve/requirements.txt (line 5)) (1.15.0)\n",
      "Requirement already satisfied: webencodings in /home/ec2-user/anaconda3/envs/pytorch_p36/lib/python3.6/site-packages (from html5lib->-r ./serve/requirements.txt (line 5)) (0.5.1)\n",
      "Requirement already satisfied: python-dateutil>=2.7.3 in /home/ec2-user/anaconda3/envs/pytorch_p36/lib/python3.6/site-packages (from pandas->-r ./serve/requirements.txt (line 1)) (2.8.1)\n",
      "Requirement already satisfied: pytz>=2017.2 in /home/ec2-user/anaconda3/envs/pytorch_p36/lib/python3.6/site-packages (from pandas->-r ./serve/requirements.txt (line 1)) (2021.1)\n"
     ]
    }
   ],
   "source": [
    "!pip install -r ./serve/requirements.txt"
   ]
  },
  {
   "cell_type": "code",
   "execution_count": 61,
   "metadata": {},
   "outputs": [
    {
     "name": "stdout",
     "output_type": "stream",
     "text": [
      "Requirement already satisfied: pip in /home/ec2-user/anaconda3/envs/pytorch_p36/lib/python3.6/site-packages (21.0.1)\n",
      "Collecting pip\n",
      "  Downloading pip-21.1.2-py3-none-any.whl (1.5 MB)\n",
      "\u001b[K     |████████████████████████████████| 1.5 MB 22.5 MB/s eta 0:00:01\n",
      "\u001b[?25hInstalling collected packages: pip\n",
      "  Attempting uninstall: pip\n",
      "    Found existing installation: pip 21.0.1\n",
      "    Uninstalling pip-21.0.1:\n",
      "      Successfully uninstalled pip-21.0.1\n",
      "Successfully installed pip-21.1.2\n"
     ]
    }
   ],
   "source": [
    "!pip install --upgrade pip"
   ]
  },
  {
   "cell_type": "code",
   "execution_count": 62,
   "metadata": {},
   "outputs": [
    {
     "name": "stdout",
     "output_type": "stream",
     "text": [
      "Starting  pos  files\n",
      "Starting  neg  files\n"
     ]
    }
   ],
   "source": [
    "ground, results = test_reviews()"
   ]
  },
  {
   "cell_type": "code",
   "execution_count": 63,
   "metadata": {},
   "outputs": [
    {
     "data": {
      "text/plain": [
       "0.872"
      ]
     },
     "execution_count": 63,
     "metadata": {},
     "output_type": "execute_result"
    }
   ],
   "source": [
    "from sklearn.metrics import accuracy_score\n",
    "accuracy_score(ground, results)"
   ]
  },
  {
   "cell_type": "markdown",
   "metadata": {},
   "source": [
    "As an additional test, we can try sending the `test_review` that we looked at earlier."
   ]
  },
  {
   "cell_type": "code",
   "execution_count": 64,
   "metadata": {},
   "outputs": [
    {
     "data": {
      "text/plain": [
       "b'1.0'"
      ]
     },
     "execution_count": 64,
     "metadata": {},
     "output_type": "execute_result"
    }
   ],
   "source": [
    "predictor.predict(test_review)"
   ]
  },
  {
   "cell_type": "markdown",
   "metadata": {},
   "source": [
    "Now that we know our endpoint is working as expected, we can set up the web page that will interact with it. If you don't have time to finish the project now, make sure to skip down to the end of this notebook and shut down your endpoint. You can deploy it again when you come back."
   ]
  },
  {
   "cell_type": "markdown",
   "metadata": {},
   "source": [
    "## Step 7 (again): Use the model for the web app\n",
    "\n",
    "> **TODO:** This entire section and the next contain tasks for you to complete, mostly using the AWS console.\n",
    "\n",
    "So far we have been accessing our model endpoint by constructing a predictor object which uses the endpoint and then just using the predictor object to perform inference. What if we wanted to create a web app which accessed our model? The way things are set up currently makes that not possible since in order to access a SageMaker endpoint the app would first have to authenticate with AWS using an IAM role which included access to SageMaker endpoints. However, there is an easier way! We just need to use some additional AWS services.\n",
    "\n",
    "<img src=\"Web App Diagram.svg\">\n",
    "\n",
    "The diagram above gives an overview of how the various services will work together. On the far right is the model which we trained above and which is deployed using SageMaker. On the far left is our web app that collects a user's movie review, sends it off and expects a positive or negative sentiment in return.\n",
    "\n",
    "In the middle is where some of the magic happens. We will construct a Lambda function, which you can think of as a straightforward Python function that can be executed whenever a specified event occurs. We will give this function permission to send and recieve data from a SageMaker endpoint.\n",
    "\n",
    "Lastly, the method we will use to execute the Lambda function is a new endpoint that we will create using API Gateway. This endpoint will be a url that listens for data to be sent to it. Once it gets some data it will pass that data on to the Lambda function and then return whatever the Lambda function returns. Essentially it will act as an interface that lets our web app communicate with the Lambda function.\n",
    "\n",
    "### Setting up a Lambda function\n",
    "\n",
    "The first thing we are going to do is set up a Lambda function. This Lambda function will be executed whenever our public API has data sent to it. When it is executed it will receive the data, perform any sort of processing that is required, send the data (the review) to the SageMaker endpoint we've created and then return the result.\n",
    "\n",
    "#### Part A: Create an IAM Role for the Lambda function\n",
    "\n",
    "Since we want the Lambda function to call a SageMaker endpoint, we need to make sure that it has permission to do so. To do this, we will construct a role that we can later give the Lambda function.\n",
    "\n",
    "Using the AWS Console, navigate to the **IAM** page and click on **Roles**. Then, click on **Create role**. Make sure that the **AWS service** is the type of trusted entity selected and choose **Lambda** as the service that will use this role, then click **Next: Permissions**.\n",
    "\n",
    "In the search box type `sagemaker` and select the check box next to the **AmazonSageMakerFullAccess** policy. Then, click on **Next: Review**.\n",
    "\n",
    "Lastly, give this role a name. Make sure you use a name that you will remember later on, for example `LambdaSageMakerRole`. Then, click on **Create role**.\n",
    "\n",
    "#### Part B: Create a Lambda function\n",
    "\n",
    "Now it is time to actually create the Lambda function.\n",
    "\n",
    "Using the AWS Console, navigate to the AWS Lambda page and click on **Create a function**. When you get to the next page, make sure that **Author from scratch** is selected. Now, name your Lambda function, using a name that you will remember later on, for example `sentiment_analysis_func`. Make sure that the **Python 3.6** runtime is selected and then choose the role that you created in the previous part. Then, click on **Create Function**.\n",
    "\n",
    "On the next page you will see some information about the Lambda function you've just created. If you scroll down you should see an editor in which you can write the code that will be executed when your Lambda function is triggered. In our example, we will use the code below. \n",
    "\n",
    "```python\n",
    "# We need to use the low-level library to interact with SageMaker since the SageMaker API\n",
    "# is not available natively through Lambda.\n",
    "import boto3\n",
    "\n",
    "def lambda_handler(event, context):\n",
    "\n",
    "    # The SageMaker runtime is what allows us to invoke the endpoint that we've created.\n",
    "    runtime = boto3.Session().client('sagemaker-runtime')\n",
    "\n",
    "    # Now we use the SageMaker runtime to invoke our endpoint, sending the review we were given\n",
    "    response = runtime.invoke_endpoint(EndpointName = '**ENDPOINT NAME HERE**',    # The name of the endpoint we created\n",
    "                                       ContentType = 'text/plain',                 # The data format that is expected\n",
    "                                       Body = event['body'])                       # The actual review\n",
    "\n",
    "    # The response is an HTTP response whose body contains the result of our inference\n",
    "    result = response['Body'].read().decode('utf-8')\n",
    "\n",
    "    return {\n",
    "        'statusCode' : 200,\n",
    "        'headers' : { 'Content-Type' : 'text/plain', 'Access-Control-Allow-Origin' : '*' },\n",
    "        'body' : result\n",
    "    }\n",
    "```\n",
    "\n",
    "Once you have copy and pasted the code above into the Lambda code editor, replace the `**ENDPOINT NAME HERE**` portion with the name of the endpoint that we deployed earlier. You can determine the name of the endpoint using the code cell below."
   ]
  },
  {
   "cell_type": "code",
   "execution_count": 65,
   "metadata": {},
   "outputs": [
    {
     "data": {
      "text/plain": [
       "'sagemaker-pytorch-2021-06-01-04-14-08-300'"
      ]
     },
     "execution_count": 65,
     "metadata": {},
     "output_type": "execute_result"
    }
   ],
   "source": [
    "predictor.endpoint"
   ]
  },
  {
   "cell_type": "markdown",
   "metadata": {},
   "source": [
    "Once you have added the endpoint name to the Lambda function, click on **Save**. Your Lambda function is now up and running. Next we need to create a way for our web app to execute the Lambda function.\n",
    "\n",
    "### Setting up API Gateway\n",
    "\n",
    "Now that our Lambda function is set up, it is time to create a new API using API Gateway that will trigger the Lambda function we have just created.\n",
    "\n",
    "Using AWS Console, navigate to **Amazon API Gateway** and then click on **Get started**.\n",
    "\n",
    "On the next page, make sure that **New API** is selected and give the new api a name, for example, `sentiment_analysis_api`. Then, click on **Create API**.\n",
    "\n",
    "Now we have created an API, however it doesn't currently do anything. What we want it to do is to trigger the Lambda function that we created earlier.\n",
    "\n",
    "Select the **Actions** dropdown menu and click **Create Method**. A new blank method will be created, select its dropdown menu and select **POST**, then click on the check mark beside it.\n",
    "\n",
    "For the integration point, make sure that **Lambda Function** is selected and click on the **Use Lambda Proxy integration**. This option makes sure that the data that is sent to the API is then sent directly to the Lambda function with no processing. It also means that the return value must be a proper response object as it will also not be processed by API Gateway.\n",
    "\n",
    "Type the name of the Lambda function you created earlier into the **Lambda Function** text entry box and then click on **Save**. Click on **OK** in the pop-up box that then appears, giving permission to API Gateway to invoke the Lambda function you created.\n",
    "\n",
    "The last step in creating the API Gateway is to select the **Actions** dropdown and click on **Deploy API**. You will need to create a new Deployment stage and name it anything you like, for example `prod`.\n",
    "\n",
    "You have now successfully set up a public API to access your SageMaker model. Make sure to copy or write down the URL provided to invoke your newly created public API as this will be needed in the next step. This URL can be found at the top of the page, highlighted in blue next to the text **Invoke URL**."
   ]
  },
  {
   "cell_type": "markdown",
   "metadata": {},
   "source": [
    "## Step 4: Deploying our web app\n",
    "\n",
    "Now that we have a publicly available API, we can start using it in a web app. For our purposes, we have provided a simple static html file which can make use of the public api you created earlier.\n",
    "\n",
    "In the `website` folder there should be a file called `index.html`. Download the file to your computer and open that file up in a text editor of your choice. There should be a line which contains **\\*\\*REPLACE WITH PUBLIC API URL\\*\\***. Replace this string with the url that you wrote down in the last step and then save the file.\n",
    "\n",
    "Now, if you open `index.html` on your local computer, your browser will behave as a local web server and you can use the provided site to interact with your SageMaker model.\n",
    "\n",
    "If you'd like to go further, you can host this html file anywhere you'd like, for example using github or hosting a static site on Amazon's S3. Once you have done this you can share the link with anyone you'd like and have them play with it too!\n",
    "\n",
    "> **Important Note** In order for the web app to communicate with the SageMaker endpoint, the endpoint has to actually be deployed and running. This means that you are paying for it. Make sure that the endpoint is running when you want to use the web app but that you shut it down when you don't need it, otherwise you will end up with a surprisingly large AWS bill.\n",
    "\n",
    "**TODO:** Make sure that you include the edited `index.html` file in your project submission."
   ]
  },
  {
   "cell_type": "markdown",
   "metadata": {},
   "source": [
    "Now that your web app is working, trying playing around with it and see how well it works.\n",
    "\n",
    "**Question**: Give an example of a review that you entered into your web app. What was the predicted sentiment of your example review?"
   ]
  },
  {
   "cell_type": "markdown",
   "metadata": {},
   "source": [
    "**Answer:** Below is an example of my review on \"Die Hard\".\n",
    "\n",
    "This movie is awesome! It's kinda an energy drink for my heart! \n",
    "At the end of the movie, you will feel naturally energized and get ready to broaden your new horizons! \n",
    "\n",
    "---------------\n",
    "\n",
    "The review was POSITIVE. \n"
   ]
  },
  {
   "cell_type": "markdown",
   "metadata": {},
   "source": [
    "### Delete the endpoint\n",
    "\n",
    "Remember to always shut down your endpoint if you are no longer using it. You are charged for the length of time that the endpoint is running so if you forget and leave it on you could end up with an unexpectedly large bill."
   ]
  },
  {
   "cell_type": "code",
   "execution_count": 66,
   "metadata": {},
   "outputs": [],
   "source": [
    "predictor.delete_endpoint()"
   ]
  },
  {
   "cell_type": "code",
   "execution_count": null,
   "metadata": {},
   "outputs": [],
   "source": []
  }
 ],
 "metadata": {
  "kernelspec": {
   "display_name": "conda_pytorch_p36",
   "language": "python",
   "name": "conda_pytorch_p36"
  },
  "language_info": {
   "codemirror_mode": {
    "name": "ipython",
    "version": 3
   },
   "file_extension": ".py",
   "mimetype": "text/x-python",
   "name": "python",
   "nbconvert_exporter": "python",
   "pygments_lexer": "ipython3",
   "version": "3.6.13"
  }
 },
 "nbformat": 4,
 "nbformat_minor": 2
}
